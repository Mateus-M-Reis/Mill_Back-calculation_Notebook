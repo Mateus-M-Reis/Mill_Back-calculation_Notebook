{
 "cells": [
  {
   "cell_type": "markdown",
   "metadata": {},
   "source": [
    "# Retrocalc\n",
    "\n",
    "#### Importando bibliotecas"
   ]
  },
  {
   "cell_type": "code",
   "execution_count": 1,
   "metadata": {
    "attributes": {
     "classes": [],
     "id": "",
     "n": "1"
    },
    "jupyter": {
     "source_hidden": true
    },
    "tags": []
   },
   "outputs": [],
   "source": [
    "from __future__ import print_function\n",
    "import numpy as np\n",
    "import math\n",
    "\n",
    "import pandas as pd\n",
    "from pandas import ExcelFile\n",
    "\n",
    "from lmfit import minimize, Parameters, report_fit, fit_report\n",
    "import corner\n",
    "\n",
    "from ipywidgets import interactive, interact, Output, Box, HBox, VBox,Layout, FloatText, Dropdown, Label,\\\n",
    "FloatSlider, interactive_output, Button, Checkbox, HTML, ToggleButton, HTMLMath, Accordion\n",
    "\n",
    "from IPython.display import display, Image\n",
    "\n",
    "import bqplot as bq\n",
    "from bqplot import pyplot as plt\n",
    "\n",
    "from matplotlib.pyplot import rcParams, style\n",
    "\n",
    "rcParams['figure.figsize']=[11, 4]\n",
    "style.use('dark_background')\n",
    "\n",
    "pd.options.display.float_format = '{:,.4f}'.format\n",
    "np.set_printoptions(linewidth=150, precision=4, suppress=True)"
   ]
  },
  {
   "cell_type": "code",
   "execution_count": 2,
   "metadata": {
    "jupyter": {
     "source_hidden": true
    },
    "tags": []
   },
   "outputs": [
    {
     "data": {
      "application/javascript": [
       "document.body.classList.add('theme-dark')\n"
      ],
      "text/plain": [
       "<IPython.core.display.Javascript object>"
      ]
     },
     "metadata": {},
     "output_type": "display_data"
    }
   ],
   "source": [
    "%%javascript\n",
    "document.body.classList.add('theme-dark')"
   ]
  },
  {
   "cell_type": "markdown",
   "metadata": {},
   "source": [
    "#### Aquisição de Dados e Definições Iniciais"
   ]
  },
  {
   "cell_type": "code",
   "execution_count": 3,
   "metadata": {
    "attributes": {
     "classes": [],
     "id": "",
     "n": "3"
    },
    "jupyter": {
     "source_hidden": true
    },
    "tags": []
   },
   "outputs": [
    {
     "name": "stderr",
     "output_type": "stream",
     "text": [
      "/home/mop/anaconda3/envs/mlab/lib/python3.7/site-packages/ipykernel_launcher.py:3: DeprecationWarning: `np.int` is a deprecated alias for the builtin `int`. To silence this warning, use `int` by itself. Doing this will not modify any behavior and is safe. When replacing `np.int`, you may wish to use e.g. `np.int64` or `np.int32` to specify the precision. If you wish to review your current use, check the release note link for additional information.\n",
      "Deprecated in NumPy 1.20; for more details and guidance: https://numpy.org/devdocs/release/1.20.0-notes.html#deprecations\n",
      "  This is separate from the ipykernel package so we can avoid doing imports until\n",
      "/home/mop/anaconda3/envs/mlab/lib/python3.7/site-packages/ipykernel_launcher.py:4: DeprecationWarning: `np.int` is a deprecated alias for the builtin `int`. To silence this warning, use `int` by itself. Doing this will not modify any behavior and is safe. When replacing `np.int`, you may wish to use e.g. `np.int64` or `np.int32` to specify the precision. If you wish to review your current use, check the release note link for additional information.\n",
      "Deprecated in NumPy 1.20; for more details and guidance: https://numpy.org/devdocs/release/1.20.0-notes.html#deprecations\n",
      "  after removing the cwd from sys.path.\n"
     ]
    }
   ],
   "source": [
    "df = pd.read_excel('./dados/input.xlsx', sheet_name='input', header=None)\n",
    "\n",
    "n_temp = np.int(df.iloc[0,1])\n",
    "n_inter = np.int(df.iloc[0,2])\n",
    "\n",
    "temp = df.iloc[2,0:int(n_temp)].values\n",
    "si_exp = df.iloc[3,0:int(n_inter)].values\n",
    "\n",
    "interval = np.arange(1, n_inter+2,1)\n",
    "\n",
    "w0_exp = df.iloc[4,0:int(n_inter)].values\n",
    "w0_exp = w0_exp\n",
    "\n",
    "size = np.arange(n_inter+1)\n",
    "for i in range(int(n_inter)):\n",
    "    size[i] = 1000*(1/np.sqrt(2))**i\n",
    "\n",
    "pe_exp = df.iloc[5:int(n_temp)+5, 0:int(n_inter)].values\n",
    "############################################################\n",
    "disc = np.zeros((n_temp, n_inter))\n",
    "disc = pe_exp.copy()\n",
    "for i in range(n_temp):\n",
    "    disc[:,8][i] = 1 - disc[i,:8].sum()\n",
    "\n",
    "freq_a=disc.copy()\n",
    "freq_a = freq_a[:,::-1]\n",
    "############################################################\n",
    "# Definições Iniciais\n",
    "\n",
    "n_temp = 6\n",
    "n_inter = 9\n",
    "\n",
    "upper_size_mm = 3.5\n",
    "R=1/np.sqrt(2)\n",
    "\n",
    "size_mm = np.zeros(n_inter)\n",
    "for i in range(n_inter):\n",
    "    size_mm[i]= upper_size_mm*R**(i-1)\n",
    "size_rel = size_mm/size_mm[1]\n",
    "\n",
    "Si= np.zeros(n_inter)\n",
    "\n",
    "Bi1 = np.zeros((n_inter))\n",
    "Bij = np.zeros((n_inter, n_inter))\n",
    "bij = np.zeros((n_inter,n_inter))\n",
    "\n",
    "############################################################\n",
    "wi = np.ones(n_inter)\n",
    "wi_mc = np.zeros((n_temp,n_inter))"
   ]
  },
  {
   "cell_type": "markdown",
   "metadata": {},
   "source": [
    "#### Widgets"
   ]
  },
  {
   "cell_type": "code",
   "execution_count": 4,
   "metadata": {
    "attributes": {
     "classes": [],
     "id": "",
     "n": "4"
    },
    "jupyter": {
     "source_hidden": true
    },
    "tags": []
   },
   "outputs": [],
   "source": [
    "#S_title = Label(value='Função Seleção')\n",
    "mu_s= FloatSlider(min=1.4,max=3.0,step=0.05,value=1.7,description='$\\mu$')\n",
    "lambda_s= FloatSlider(min=0.0,max=3.7,step=0.01,value=0.0, description='$\\Lambda$')\n",
    "A_s= FloatSlider(min=0.60,max=4,step=0.01,value=1.0, description='$A$')\n",
    "alpha_s= FloatSlider(min=0.5,max=1.5,step=0.01,value=0.88, description='$\\\\alpha$')\n",
    "\n",
    "Si_eq = Label(value='$$ S_i = A(x_i/x_1)^\\\\alpha Q_i$$', \n",
    "              layout=Layout(height='60px', \n",
    "                            justfy_content = 'center')\n",
    "             )\n",
    "\n",
    "Qi_eq = Label(value='$$ Q_i = 1/(1+x_i/\\mu)^\\Lambda$$', \n",
    "              layout=Layout(height='60px', \n",
    "                            justfy_content = 'center')\n",
    "             )\n",
    "\n",
    "S_Panel = VBox([VBox([HBox([A_s, alpha_s]), \n",
    "                      Si_eq]), \n",
    "                VBox([HBox([mu_s, lambda_s]), \n",
    "                      Qi_eq])])\n",
    "\n",
    "#Q_title =  Label(value='Função Quebra')\n",
    "delta_s= FloatSlider(min=0,max=0.25,step=0.01,value=0,description='$\\delta$')\n",
    "phi_um_s= FloatSlider(min=0.25,max=0.75,step=0.01,value=0.60, description='$\\Phi_1$')\n",
    "gamma_s= FloatSlider(min=0.50,max=1.3,step=0.01,value=0.5, description='$\\gamma$')\n",
    "beta_s= FloatSlider(min=2.3,max=5.8,step=0.01,value=4.0, description='$\\\\beta$')\n",
    "\n",
    "Bij_eq = Label(value=\"$$B_{i,j} = \\Phi_j R^{(i-2)\\gamma} + (1-\\Phi_j) R^{(i-2)\\\\beta}$$\",\\\n",
    "               layout=Layout(height='60px',\n",
    "                             justfy_content = 'center')\n",
    "              )\n",
    "\n",
    "Phi_j_eq = Label(value='$$ \\Phi_j = \\Phi_1 (x_j/x_1)^{-\\delta}$$',\\\n",
    "                 layout=Layout(height='60px',\n",
    "                               justfy_content = 'center')\n",
    "                )\n",
    "\n",
    "flow_m= Dropdown(options=['batch-plug flow', 'fully mixed grinding', 'one large two small fully mixed reactors'],\n",
    "                 value='batch-plug flow', \n",
    "                 description='Flow Model:', \n",
    "                 disabled=False,\n",
    "                 layout=Layout(width='380px'), \n",
    "                 style = {'description_width': '80px'})\n",
    "\n",
    "Q_Panel = VBox([VBox([HBox([gamma_s, \n",
    "                            beta_s]), \n",
    "                      Bij_eq]\n",
    "                    ), \n",
    "                VBox([HBox([delta_s, \n",
    "                            phi_um_s]), \n",
    "                      Phi_j_eq])\n",
    "               ])\n",
    "\n",
    "####################################################################################################\n",
    "\n",
    "simulation_Title = HTML(value=\"<h1>Simulação</h1>\") \n",
    "Aquisicao_title = HTML(value=\"<h1>=Aquisição de Dados</h1>\")\n",
    "\n",
    "ej_eq = HTMLMath(value= \"$ e_j = exp(-S_j \\\\tau) $\", \n",
    "                 layout={'border':'0px solid','width':'405px', 'height':'80px',\n",
    "                         'align_items':'center','justify_content':'center'})\n",
    "\n",
    "Run_sim = Button(description='Rodar Simulação',\n",
    "                 tooltip='Rodar Simulação com os Parâmetros Atuais ')\n",
    "\n",
    "Retro_buttom = Button(description='Retrocalc',\n",
    "                      tooltip=' Otimizar para Todas as Variaveis',\n",
    "                      button_style = 'success')\n",
    "\n",
    "ylog_ck = Checkbox(value=False, description='Log Y', \n",
    "                   style = {'description_width': '0px'},\n",
    "                   layout=Layout(width='150px', justify_content='flex-end')\n",
    "                  )\n",
    "norm_ck = Checkbox(value=True, description='Normalizada?', \n",
    "                   style = {'description_width': '0px'},\n",
    "                   layout=Layout(width='150px', justify_content='flex-end')\n",
    "                  )\n",
    "\n",
    "retro_eq = HTMLMath(value=\"$$minimize\\ SSQ = \\sum_k \\sum_{i=1}^{n} w_i(p_i\\nobserved\\ -p_i\\ computed\\ ) $$\")\n",
    "##################################################################################################\n",
    "output = Output()\n",
    "output.layout = Layout(width='450px', \n",
    "                       height='1250px', \n",
    "                       align_content='center', \n",
    "                       border='1px solid')\n",
    "##################################################################################################\n",
    "opt_m = Dropdown(options=['leastsq', \n",
    "                          'least_squares',\n",
    "                          'differential_evolution',\n",
    "                          'brute',\n",
    "                          'nelder', \n",
    "                          'lbfgsb',\n",
    "                          'powell', \n",
    "                          'cg',\n",
    "                          'dogleg',\n",
    "                          'slsqp',\n",
    "                         'shgo',\n",
    "                         'dual_annealing'],\n",
    "                 value='leastsq', \n",
    "                 description='Optimization Method:', \n",
    "                 disabled=False,\n",
    "                 layout=Layout(width='380px'), \n",
    "                 style = {'description_width': '80px'})"
   ]
  },
  {
   "cell_type": "markdown",
   "metadata": {},
   "source": [
    "# Cálculos Iniciais\n",
    "\n",
    "#### Seleção\n",
    "\n",
    "$ Q_i=\\frac{1}{1+\\frac{x_{i}}{\\mu}}^{\\alpha} $\n",
    "\n",
    "$ S_{i}=A(\\frac{x_{i}}{x_{j}})^{\\alpha} Q_i$\n",
    "#### Quebra\n",
    "\n",
    "$  \\Phi_{j} = \\phi_{1} (\\frac{x_{j}}{x_{1}})^{-\\delta} $\n",
    "\n",
    "$B_{i,1}= \\phi_{1}R^{(i-2)\\gamma} + (1-\\phi_{1}) R^{(i-2)\\beta}$\n",
    "\n",
    "#### Vetores Seleção e Quebra"
   ]
  },
  {
   "cell_type": "raw",
   "metadata": {
    "attributes": {
     "classes": [],
     "id": "",
     "n": "5"
    },
    "jupyter": {
     "source_hidden": true
    },
    "tags": []
   },
   "source": [
    "def selecao(mu, _lambda, A, alpha):\n",
    "        return (A*(size_rel)**alpha)*(1/(1+(size_mm/mu)**_lambda))\n",
    "\n",
    "Si= selecao(mu_s.value, lambda_s.value, A_s.value, alpha_s.value)\n",
    "########################################################################################\n",
    "def calc_Bij(delta, phi_um, gamma, beta):\n",
    "    phi_j = (phi_um*(size_mm/size_mm[0])**(-delta))[::-1]\n",
    "    for j in range(1, n_inter+1):\n",
    "        for i in range(1, n_inter+1):\n",
    "            if i < j:\n",
    "                Bij[i-1,j-1] = 0.0\n",
    "            elif i==j:\n",
    "                Bij[i-1,j-1] = 1.0\n",
    "            else:\n",
    "                if j==1:\n",
    "                    Bij[i-1,j-1] = phi_j[j-1]*R**((i-2)*gamma) + (1-phi_j[j-1])*R**((i-2)*beta)\n",
    "                else:\n",
    "                    Bij[i-1, j-1] = Bij[i-1-1, j-1-1]*phi_j[j-1] \n",
    "    return Bij\n",
    "Bij=calc_Bij(delta_s.value, phi_um_s.value, gamma_s.value, beta_s.value)\n",
    "\n",
    "print(Si,'\\n\\n', Bij)"
   ]
  },
  {
   "cell_type": "code",
   "execution_count": 6,
   "metadata": {
    "attributes": {
     "classes": [],
     "id": "",
     "n": "6"
    },
    "tags": []
   },
   "outputs": [
    {
     "name": "stdout",
     "output_type": "stream",
     "text": [
      "[0.6783 0.5    0.3686 0.2717 0.2003 0.1476 0.1088 0.0802 0.    ] \n",
      "\n",
      " [[1.     0.     0.     0.     0.     0.     0.     0.     0.    ]\n",
      " [1.     1.     0.     0.     0.     0.     0.     0.     0.    ]\n",
      " [0.6045 1.     1.     0.     0.     0.     0.     0.     0.    ]\n",
      " [0.4493 0.6045 1.     1.     0.     0.     0.     0.     0.    ]\n",
      " [0.363  0.4493 0.6045 1.     1.     0.     0.     0.     0.    ]\n",
      " [0.3016 0.363  0.4493 0.6045 1.     1.     0.     0.     0.    ]\n",
      " [0.2527 0.3016 0.363  0.4493 0.6045 1.     1.     0.     0.    ]\n",
      " [0.2122 0.2527 0.3016 0.363  0.4493 0.6045 1.     1.     0.    ]\n",
      " [0.1784 0.2122 0.2527 0.3016 0.363  0.4493 0.6045 1.     1.    ]]\n"
     ]
    }
   ],
   "source": [
    "def selecao(mu, _lambda, A, alpha):\n",
    "    S = (A*(size_rel)**alpha)*(1/(1+(size_mm/mu)**_lambda))\n",
    "    S[n_inter-1] = 0\n",
    "    return S\n",
    "\n",
    "Si= selecao(mu_s.value, lambda_s.value, A_s.value, alpha_s.value)\n",
    "########################################################################################\n",
    "def calc_Bij(delta, phi_um, gamma, beta):\n",
    "    phi_j = (phi_um*(size_mm/size_mm[0])**(-delta))[::-1]\n",
    "    for l in range(n_inter):\n",
    "        if phi_j[l]>1.0:\n",
    "            phi_j[l] = 1.0\n",
    "    for j in range(1, n_inter+1):\n",
    "        for i in range(1, n_inter+1):\n",
    "            if i < j:\n",
    "                Bij[i-1,j-1] = 0.0\n",
    "            elif i==j:\n",
    "                Bij[i-1,j-1] = 1.0\n",
    "            else:\n",
    "                if phi_j[j-1] > 1.0:\n",
    "                    phi_j[j-1] = 1.0\n",
    "                else:\n",
    "                    Bij[i-1,j-1] = phi_j[j-1]*((size_mm[i-1]/size_mm[j-1+1])**gamma) + \\\n",
    "                (1-phi_j[j-1])*((size_mm[i-1]/size_mm[j-1+1])**beta)\n",
    "    return Bij\n",
    "Bij=calc_Bij(delta_s.value, phi_um_s.value, gamma_s.value, beta_s.value)\n",
    "\n",
    "print(Si,'\\n\\n', Bij)"
   ]
  },
  {
   "cell_type": "markdown",
   "metadata": {},
   "source": [
    "#### Cálculo bij\n",
    "$b_{i,j}=B_{i,j}-B_{i+1,j} $"
   ]
  },
  {
   "cell_type": "code",
   "execution_count": 7,
   "metadata": {
    "attributes": {
     "classes": [],
     "id": "",
     "n": "7"
    },
    "tags": []
   },
   "outputs": [
    {
     "data": {
      "text/plain": [
       "array([[0.    , 0.    , 0.    , 0.    , 0.    , 0.    , 0.    , 0.    , 0.    ],\n",
       "       [0.3955, 0.    , 0.    , 0.    , 0.    , 0.    , 0.    , 0.    , 0.    ],\n",
       "       [0.1553, 0.3955, 0.    , 0.    , 0.    , 0.    , 0.    , 0.    , 0.    ],\n",
       "       [0.0863, 0.1553, 0.3955, 0.    , 0.    , 0.    , 0.    , 0.    , 0.    ],\n",
       "       [0.0614, 0.0863, 0.1553, 0.3955, 0.    , 0.    , 0.    , 0.    , 0.    ],\n",
       "       [0.0489, 0.0614, 0.0863, 0.1553, 0.3955, 0.    , 0.    , 0.    , 0.    ],\n",
       "       [0.0404, 0.0489, 0.0614, 0.0863, 0.1553, 0.3955, 0.    , 0.    , 0.    ],\n",
       "       [0.0338, 0.0404, 0.0489, 0.0614, 0.0863, 0.1553, 0.3955, 0.    , 0.    ],\n",
       "       [0.1784, 0.2122, 0.2527, 0.3016, 0.363 , 0.4493, 0.6045, 1.    , 1.    ]])"
      ]
     },
     "execution_count": 7,
     "metadata": {},
     "output_type": "execute_result"
    }
   ],
   "source": [
    "def calc_bij(Bij_mat):\n",
    "    for j in range(n_inter):\n",
    "        for i in range(n_inter):\n",
    "            if i<j:\n",
    "                bij[i,j] = 0.0\n",
    "            elif i==n_inter-1:\n",
    "                bij[i,j] = Bij_mat[i,j]\n",
    "            else:\n",
    "                bij[i,j] = Bij_mat[i,j] - Bij_mat[i+1,j]\n",
    "    return bij\n",
    "\n",
    "bij = calc_bij(Bij)\n",
    "bij[:n_inter, :n_inter]"
   ]
  },
  {
   "cell_type": "markdown",
   "metadata": {},
   "source": [
    "#### Figuras"
   ]
  },
  {
   "cell_type": "code",
   "execution_count": 8,
   "metadata": {
    "attributes": {
     "classes": [],
     "id": "",
     "n": "8"
    },
    "jupyter": {
     "source_hidden": true
    },
    "tags": []
   },
   "outputs": [],
   "source": [
    "## # scales\n",
    "xs_lin = bq.LinearScale(min=0.25, max=6)\n",
    "xs = bq.LogScale(min=0.25, max=6)\n",
    "ys_lin = bq.LinearScale(min=0.01, max=1)\n",
    "ys = bq.LogScale(min=0.01, max=1)\n",
    "\n",
    "gran_ax_options={'x': dict(label='Size (mm)', grid_lines='solid', orientation='horizontal'), \n",
    "                'y': dict(label='Porcentagem Passante Acumulada', grid_lines='solid', orientation='vertical', \n",
    "                          tick_format='0.2f')\n",
    "                }\n",
    "color_scale = pd.Series(plt.COLOR_CODES)\n",
    "color_scale.index = range(color_scale.size)\n",
    "####################################################################################################\n",
    "gran_fig = plt.figure(0, title='Freq acumulada', title_style={'font-size': '20px'}, \n",
    "                      animation_duration=1000, axes_options=gran_ax_options,\n",
    "                      layout={'height':'400px', 'width':'580px'}, legend_location='top-left',\n",
    "                      fig_margin={'top':30,'bottom':30, 'left':30, 'right':30},\n",
    "                      scale_x=xs, scale_y=ys_lin\n",
    "                 )\n",
    "for i in range(n_temp):\n",
    "    plt.scatter(x=size_mm, \n",
    "                y=freq_a[i].cumsum()[::-1],\n",
    "                scales={'x':xs,\n",
    "                        'y':ys_lin},\n",
    "                #axes_options=gran_ax_options,\n",
    "                #stroke_width=1,\n",
    "                colors=[color_scale.iloc[i]],\n",
    "                figure=gran_fig\n",
    "               )\n",
    "    \n",
    "plt.plot(x=size_mm, \n",
    "         y=w0_exp[::-1].cumsum()[::-1],\n",
    "         axes_options=gran_ax_options,\n",
    "         scales={'x': xs, 'y': ys_lin},\n",
    "         colors=['gray'],\n",
    "         interpolation='basis',\n",
    "         stroke_width=2,\n",
    "         figure=gran_fig,\n",
    "         #scales={'x': xs, 'y': ys_lin}\n",
    "        ) \n",
    "################################################################\n",
    "# q_fig\n",
    "q_xax = bq.Axis(scale=xs, label='Size (mm)', grid_lines='solid')\n",
    "q_yax = bq.Axis(scale=ys, orientation='vertical', tick_format='0.2f', \n",
    "              label='Parâmetro de Quebra cumulativo, Bi,j', grid_lines='solid')\n",
    "q_line = bq.Lines(x=size_mm, y=bij[:,0][::-1].cumsum()[::-1],\\\n",
    "                  scales={'x': xs, 'y': ys}, colors = ['magenta'], stroke_width = 2, interpolation = 'basis')\n",
    "q_fig= bq.Figure(title='Função Quebra', title_style={'font-size': '20px'}, legend_location='top-left',\n",
    "                 axes=[q_xax, q_yax],  marks=[q_line],  animation_duration=1000)\n",
    "\n",
    "q_fig.layout.height= '400px'\n",
    "q_fig.layout.width= '580px'\n",
    "####################################################################################################\n",
    "# s_fig\n",
    "s_xax = bq.Axis(scale=xs, label='Size (mm)', grid_lines='solid')\n",
    "s_yax = bq.Axis(scale=ys, orientation='vertical', tick_format='0.2f', \n",
    "              label='Taxa Específica de Quebra, min^-1', grid_lines='solid')\n",
    "\n",
    "s_line = bq.Lines(x=size_mm, y=Si, scales={'x': xs, 'y': ys}, colors = ['cyan'], stroke_width = 2,\\\n",
    "                 interpolation = 'basis')\n",
    "si_exp_scatter = bq.Scatter(x=size_mm, y=si_exp, scales={'x': xs, 'y': ys}, colors = ['red'])\n",
    "\n",
    "s_fig= bq.Figure(title='Função Seleção', title_style={'font-size': '20px'}, legend_location='top-left',\n",
    "                 axes=[s_xax, s_yax], marks=[s_line, si_exp_scatter], animation_duration=1000)\n",
    "\n",
    "s_fig.layout.height= '400px'\n",
    "s_fig.layout.width= '580px'"
   ]
  },
  {
   "cell_type": "code",
   "execution_count": 9,
   "metadata": {
    "attributes": {
     "classes": [],
     "id": "",
     "n": "9"
    },
    "jupyter": {
     "source_hidden": true
    }
   },
   "outputs": [],
   "source": [
    "#### Atualizando Figuras"
   ]
  },
  {
   "cell_type": "code",
   "execution_count": 10,
   "metadata": {
    "attributes": {
     "classes": [],
     "id": "",
     "n": "10"
    },
    "jupyter": {
     "source_hidden": true
    }
   },
   "outputs": [],
   "source": [
    "def update_sel_plot(mu, _lambda, A, alpha):\n",
    "    s_line.y  =  selecao(mu, _lambda, A, alpha)\n",
    "interactive_sel_plot = interactive_output(update_sel_plot, {'mu':mu_s, '_lambda':lambda_s, 'A':A_s, 'alpha':alpha_s})\n",
    "\n",
    "def update_q_plot(delta, phi_um, gamma, beta):\n",
    "    q_line.y =  np.array(calc_Bij(delta, phi_um, gamma, beta)[:,0])\n",
    "interactive_q_plot = interactive_output(update_q_plot, {'delta':delta_s, 'phi_um':phi_um_s, 'gamma':gamma_s,'beta':beta_s})"
   ]
  },
  {
   "cell_type": "markdown",
   "metadata": {},
   "source": [
    "### Painel1"
   ]
  },
  {
   "cell_type": "code",
   "execution_count": 11,
   "metadata": {
    "attributes": {
     "classes": [],
     "id": "",
     "n": "11"
    },
    "jupyter": {
     "source_hidden": true
    },
    "tags": []
   },
   "outputs": [
    {
     "data": {
      "application/vnd.jupyter.widget-view+json": {
       "model_id": "33c7f719f56a49fbab90fbfb243bd087",
       "version_major": 2,
       "version_minor": 0
      },
      "text/plain": [
       "HBox(children=(VBox(children=(HBox(children=(VBox(children=(Figure(animation_duration=1000, axes=[Axis(label='…"
      ]
     },
     "metadata": {},
     "output_type": "display_data"
    }
   ],
   "source": [
    "informacoes_Panel = HBox([ VBox([ VBox([simulation_Title,\n",
    "                                        flow_m]\n",
    "                                      ),\n",
    "                                 VBox([ej_eq, \n",
    "                                       opt_m])\n",
    "                                ],\n",
    "                               layout=Layout(display='flex', border='solid 0px', align_items='center', justify_content='flex-start', width = '410px')\n",
    "                                 ),\n",
    "                          VBox([ VBox([ylog_ck,\n",
    "                                      Run_sim]),\n",
    "                                Retro_buttom\n",
    "                          ],\n",
    "                              layout=Layout(display='flex', border='solid 0px', align_items='stretch', justify_content='flex-start', width = '160px'))\n",
    "                         ],\n",
    "                        layout=Layout(display='flex', border='solid 0px', align_items='stretch', justify_content='space-between', width = '595px'))\n",
    "\n",
    "####################################################################################################\n",
    "\n",
    "Painel_de_Teste = VBox([\n",
    "        HBox([VBox([s_fig, S_Panel],\n",
    "                  layout=Layout(display='flex', border='solid 0px', align_items='stretch', justify_content='space-between')), \n",
    "              VBox([q_fig, Q_Panel],\n",
    "                  layout=Layout(display='flex', border='solid 0px', align_items='stretch', justify_content='space-between'))\n",
    "             ],layout=Layout(display='flex', border='solid 0px', align_items='stretch', justify_content='space-between', width = '1170px')\n",
    "            ),\n",
    "    HBox([\n",
    "        informacoes_Panel, gran_fig],\n",
    "        layout=Layout(display='flex', border='solid 0px', align_items='stretch', justify_content='center', width = '1170px')\n",
    "        )\n",
    "])\n",
    "\n",
    "####################################################################################################\n",
    "\n",
    "output.layout = Layout(width='600px', height='1000px', max_height='1030px', min_width='675px', align_content='center', border='0px solid')\n",
    "Painel_Final = HBox([ Painel_de_Teste , output])\n",
    "Painel_Final"
   ]
  },
  {
   "cell_type": "markdown",
   "metadata": {},
   "source": [
    "# Program Luckie and Austin (1992) - Austin Cap 6\n",
    "\n",
    "$ e_{j} = \\int_0^\\infty e^{s_{j}t} \\phi(t) dt$\n",
    "\n",
    "<ul>\n",
    "    <li>Batch/Plug Flow:  $ e_{j} = exp(-S_{i} t)\\phi(t)dt $</li>\n",
    "    <li>Fully Mixed Grinding:  $e_{j} = \\frac{1}{(1+S_{j}\\tau)}$ </li>\n",
    "    <li>m equal reactors: $e_{j} = \\frac{1}{(1+ \\frac{S_{j}\\tau}{m})^m} $ </li>\n",
    "    <ul><li>one large two small reactors: $e_{j} = \\frac{1}{(1+\n",
    "S_{j}\\tau_{1})(1+ S_{j}\\tau_{2})^2}$</li>\n",
    "</ul></ul>"
   ]
  },
  {
   "cell_type": "code",
   "execution_count": 12,
   "metadata": {
    "attributes": {
     "classes": [],
     "id": "",
     "n": "12"
    },
    "jupyter": {
     "source_hidden": true
    },
    "tags": []
   },
   "outputs": [
    {
     "name": "stdout",
     "output_type": "stream",
     "text": [
      "[4.9497 3.5    2.4749 1.75   1.2374 0.875  0.6187 0.4375 0.3094] \n",
      "\n",
      " [0.6783 0.5    0.3686 0.2717 0.2003 0.1476 0.1088 0.0802 0.    ] \n",
      "\n",
      "[0.7978 0.8466 0.8845 0.9135 0.9355 0.952  0.9644 0.9736 1.    ]\n",
      "[0.5075 0.6065 0.6917 0.7621 0.8185 0.8628 0.8969 0.9229 1.    ]\n",
      "[0.1307 0.2231 0.331  0.4426 0.5484 0.6422 0.7215 0.7861 1.    ]\n",
      "[0.0337 0.0821 0.1584 0.2571 0.3674 0.478  0.5804 0.6696 1.    ]\n",
      "[0.0011 0.0067 0.0251 0.0661 0.135  0.2285 0.3368 0.4484 1.    ]\n",
      "[0.     0.0006 0.004  0.017  0.0496 0.1092 0.1955 0.3002 1.    ]\n"
     ]
    },
    {
     "name": "stderr",
     "output_type": "stream",
     "text": [
      "/home/mop/anaconda3/envs/mlab/lib/python3.7/site-packages/ipykernel_launcher.py:1: DeprecationWarning: `np.int` is a deprecated alias for the builtin `int`. To silence this warning, use `int` by itself. Doing this will not modify any behavior and is safe. When replacing `np.int`, you may wish to use e.g. `np.int64` or `np.int32` to specify the precision. If you wish to review your current use, check the release note link for additional information.\n",
      "Deprecated in NumPy 1.20; for more details and guidance: https://numpy.org/devdocs/release/1.20.0-notes.html#deprecations\n",
      "  \"\"\"Entry point for launching an IPython kernel.\n"
     ]
    },
    {
     "data": {
      "application/vnd.jupyter.widget-view+json": {
       "model_id": "645254d2fc19480fb2221b62316ab898",
       "version_major": 2,
       "version_minor": 0
      },
      "text/plain": [
       "VBox(children=(Figure(axes=[Axis(scale=LinearScale()), Axis(orientation='vertical', scale=LinearScale())], fig…"
      ]
     },
     "metadata": {},
     "output_type": "display_data"
    }
   ],
   "source": [
    "ej = np.zeros((np.int(n_inter)))\n",
    "\n",
    "def calc_ej(tempo, Ss, flow_wid):\n",
    "    if flow_wid.value == 'batch-plug flow':\n",
    "        e = np.exp(-Ss*tempo)\n",
    "    elif flow_wid.value == 'fully mixed grinding':\n",
    "        e = 1/(1+Ss*tempo)\n",
    "    else:\n",
    "        e = 1/((1+Ss*tempo/0.5)*(1+Ss*tempo/0.25)**2)\n",
    "    return e\n",
    "\n",
    "\n",
    "print(size_mm, '\\n\\n', Si, '\\n')\n",
    "plt.figure(12, layout={'height':'300px', 'width':'580px'},\n",
    "                       fig_margin={'top':30,'bottom':30, 'left':30, 'right':30},\n",
    "                       title='ej')\n",
    "plt.clear()\n",
    "for i in range(n_temp):\n",
    "    ej = calc_ej(temp[i], Si, flow_m)\n",
    "    print(ej)\n",
    "    plt.plot(size_mm, ej, colors=[color_scale.iloc[i-1]],\n",
    "            interpolation='basis')\n",
    "plt.show()"
   ]
  },
  {
   "cell_type": "raw",
   "metadata": {
    "jupyter": {
     "source_hidden": true
    },
    "tags": []
   },
   "source": [
    "$ a_{ij}= \\begin{cases}\n",
    "f_{i}-\\sum_{k=1, i>1}^{i-1}a_{ik},  & i=j  \\\\\n",
    "\\frac{1}{S_{i}-S_{j}}\\sum_{k=j}^{i-1}S_{k}b_{ik}a_{kj}, & i>j\n",
    "\\end{cases} $\n",
    "aij = np.zeros((np.int(n_inter), np.int(n_inter)))\n",
    "#a_step = np.array()\n",
    "output.clear_output()\n",
    "i=1\n",
    "j=1\n",
    "def calc_aij_t(Ss, bs, fi):\n",
    "    for j in range(1, n_inter+1):\n",
    "        with output:\n",
    "print('\\n################################################################################\\n',\n",
    "                  'j =', j,\n",
    "                  '\\n\n",
    "################################################################################')\n",
    "        for i in range(1, n_inter+1):"
   ]
  },
  {
   "cell_type": "raw",
   "metadata": {
    "attributes": {
     "classes": [],
     "id": "",
     "n": "13"
    },
    "jupyter": {
     "source_hidden": true
    },
    "tags": []
   },
   "source": [
    "if i<j:\n",
    "    aij[i-1,j-1] = 0.0\n",
    "    with output:\n",
    "        print('\\n', i,  j,'\\t i < j \\t\\t\\t aij(i,j) = ', \n",
    "              aij[i-1, j-1], '\\tOK\\n ###############################################')   \n",
    "        \n",
    "elif i==j:\n",
    "    if i==1:\n",
    "        aij[i-1, j-1] = fi[i-1]\n",
    "        with output:\n",
    "            print('\\n', i,  j,'\\t i = j \\t  i=1 \\t\\t aij(i,j) = ', aij[i-1, j-1], '\\n') \n",
    "    elif i>1:\n",
    "        k=1\n",
    "        a_step = np.zeros(i-1-k+1)\n",
    "        for k in range(1, i-1+1):\n",
    "            a_step[k-1] = aij[i-1, k-1]\n",
    "        with output:\n",
    "            print('\\n', a_step)\n",
    "            \n",
    "        aij[i-1, j-1] = fi[i-1] - a_step.sum()\n",
    "        with output:\n",
    "            print('\\n', i,  j,'\\t i = j \\t  i>1 \\t\\t aij(i,j) = ', aij[i-1, j-1], '\\n')\n",
    "elif i>j:\n",
    "    with output:\n",
    "            print('###############################################\\n', i,  j,'\\t i > j \\n')\n",
    "            k=j\n",
    "            a_step = np.zeros((i-1-k+1))\n",
    "            for k in range(j, i-1+1):\n",
    "                a_step[k-j] = Ss[k-1] * bs[i-1,k-1] * aij[k-1,j-1]\n",
    "            with output:\n",
    "                print('\\n', a_step)\n",
    "            aij[i-1,j-1] = 1/(Ss[i-1]-Ss[j-1]) * a_step.sum()\n",
    "    with output:\n",
    "            print('\\n', 1/(Ss[i-1]-Ss[j-1]), '\\n\\n\\t\\taij(i,j) =', aij[i-1, j-1], '\\n')\n",
    "    return aij"
   ]
  },
  {
   "cell_type": "markdown",
   "metadata": {},
   "source": [
    "aij=calc_aij_t(Si, bij, w0_exp)\n",
    "print(aij, '\\n\\n', aij.sum(0))"
   ]
  },
  {
   "cell_type": "code",
   "execution_count": 13,
   "metadata": {
    "attributes": {
     "classes": [],
     "id": "",
     "n": "11"
    },
    "jupyter": {
     "source_hidden": true
    },
    "tags": []
   },
   "outputs": [
    {
     "name": "stderr",
     "output_type": "stream",
     "text": [
      "/home/mop/anaconda3/envs/mlab/lib/python3.7/site-packages/ipykernel_launcher.py:1: DeprecationWarning: `np.int` is a deprecated alias for the builtin `int`. To silence this warning, use `int` by itself. Doing this will not modify any behavior and is safe. When replacing `np.int`, you may wish to use e.g. `np.int64` or `np.int32` to specify the precision. If you wish to review your current use, check the release note link for additional information.\n",
      "Deprecated in NumPy 1.20; for more details and guidance: https://numpy.org/devdocs/release/1.20.0-notes.html#deprecations\n",
      "  \"\"\"Entry point for launching an IPython kernel.\n"
     ]
    },
    {
     "name": "stdout",
     "output_type": "stream",
     "text": [
      "[[ 0.9673  0.      0.      0.      0.      0.      0.      0.      0.    ]\n",
      " [-1.4552  1.4879  0.      0.      0.      0.      0.      0.      0.    ]\n",
      " [ 0.6001 -2.2385  1.6384  0.      0.      0.      0.      0.      0.    ]\n",
      " [-0.0764  0.9231 -2.4649  1.6182  0.      0.      0.      0.      0.    ]\n",
      " [-0.0077 -0.1176  1.0164 -2.4345  1.5434  0.      0.      0.      0.    ]\n",
      " [-0.0049 -0.0119 -0.1295  1.0039 -2.3219  1.4643  0.      0.      0.    ]\n",
      " [-0.0039 -0.0076 -0.0131 -0.1279  0.9575 -2.2029  1.3978  0.      0.    ]\n",
      " [-0.0032 -0.006  -0.0083 -0.0129 -0.1219  0.9084 -2.1029  1.3469  0.    ]\n",
      " [-0.016  -0.0295 -0.0391 -0.0468 -0.057  -0.1698  0.7051 -1.3469  1.    ]] \n",
      "\n",
      " [ 0. -0.  0. -0. -0.  0. -0.  0.  1.]\n"
     ]
    }
   ],
   "source": [
    "aij = np.zeros((np.int(n_inter), np.int(n_inter)))\n",
    "#a_step = np.array()\n",
    "output.clear_output()\n",
    "\n",
    "def calc_aij(Ss, bs, fi):\n",
    "    for j in range(1, n_inter+1):\n",
    "        for i in range(1,n_inter+1):\n",
    "            if i<j:\n",
    "                aij[i-1,j-1] = 0.0  \n",
    "                    \n",
    "            elif i==j:\n",
    "                if i==1:\n",
    "                    aij[i-1, j-1] = fi[i-1]\n",
    "                elif i>1:\n",
    "                    k=1\n",
    "                    a_step = np.zeros(i-1-k+1)\n",
    "                    for k in range(1, i-1+1):\n",
    "                        a_step[k-1] = aij[i-1, k-1]\n",
    "                    aij[i-1, j-1] = fi[i-1] - a_step.sum()\n",
    "                    \n",
    "            elif i>j:\n",
    "                    k=j\n",
    "                    a_step = np.zeros((i-1-k+1))\n",
    "                    for k in range(j, i-1+1):\n",
    "                        a_step[k-1-j+1] = Ss[k-1] * bs[i-1,k-1] * aij[k-1,j-1]\n",
    "                    aij[i-1,j-1] = 1/(Ss[i-1]-Ss[j-1]) * a_step.sum()\n",
    "    return aij\n",
    "\n",
    "aij=calc_aij(Si, bij, w0_exp)\n",
    "print(aij, '\\n\\n', aij.sum(0))"
   ]
  },
  {
   "cell_type": "markdown",
   "metadata": {},
   "source": [
    "$ p_{i} = \\begin{cases} \\sum_{j=1}^{i}a_{ij}e_{j}, &  n\\geq i \\geq 1\n",
    "\\end{cases} $"
   ]
  },
  {
   "cell_type": "code",
   "execution_count": 14,
   "metadata": {
    "attributes": {
     "classes": [],
     "id": "",
     "n": "12"
    },
    "jupyter": {
     "source_hidden": true
    },
    "tags": []
   },
   "outputs": [
    {
     "name": "stdout",
     "output_type": "stream",
     "text": [
      "produto simulado = \n",
      " [0.     0.0008 0.0053 0.0182 0.0391 0.0613 0.0779 0.0862 0.7111] \n",
      "\n",
      "soma cumulativa =\n",
      " [0.7111 0.7973 0.8752 0.9365 0.9757 0.9939 0.9992 1.     1.    ]\n"
     ]
    }
   ],
   "source": [
    "ps = np.zeros(n_inter)\n",
    "\n",
    "def calc_pi(a_s, es):\n",
    "    for i in range(1, n_inter+1):\n",
    "        j=1\n",
    "        p_step = np.zeros(i-j+1)\n",
    "        for j in range(1, i+1):\n",
    "            p_step[j-1] = a_s[i-1,j-1] * es[j-1]\n",
    "        ps[i-1] = p_step.sum()\n",
    "    return ps\n",
    "\n",
    "ps = calc_pi(aij, ej)\n",
    "print('produto simulado = \\n', ps, '\\n\\nsoma cumulativa =\\n', ps[::-1].cumsum(0))"
   ]
  },
  {
   "cell_type": "markdown",
   "metadata": {},
   "source": [
    "### Simulação do Produto"
   ]
  },
  {
   "cell_type": "code",
   "execution_count": 15,
   "metadata": {
    "attributes": {
     "classes": [],
     "id": "",
     "n": "13"
    },
    "jupyter": {
     "source_hidden": true
    },
    "tags": []
   },
   "outputs": [
    {
     "name": "stdout",
     "output_type": "stream",
     "text": [
      "ps_mat  = \n",
      " [[0.7717 0.0987 0.0328 0.0186 0.0132 0.0105 0.0087 0.0073 0.0386]\n",
      " [0.4909 0.164  0.0801 0.0493 0.0358 0.0286 0.0238 0.02   0.1074]\n",
      " [0.1264 0.1418 0.1212 0.0964 0.078  0.0653 0.0558 0.0479 0.2673]\n",
      " [0.0326 0.0732 0.0959 0.0988 0.0922 0.0833 0.0743 0.0656 0.384 ]\n",
      " [0.0011 0.0084 0.0267 0.0513 0.0721 0.0842 0.0879 0.0856 0.5828]\n",
      " [0.     0.0008 0.0053 0.0182 0.0391 0.0613 0.0779 0.0862 0.7111]] \n",
      "\n",
      "ACUMULADA = \n",
      " [[0.0386 0.0458 0.0545 0.065  0.0782 0.0968 0.1296 0.2283 1.    ]\n",
      " [0.1074 0.1275 0.1513 0.1799 0.2157 0.265  0.3451 0.5091 1.    ]\n",
      " [0.2673 0.3151 0.3709 0.4362 0.5141 0.6105 0.7318 0.8736 1.    ]\n",
      " [0.384  0.4496 0.524  0.6073 0.6995 0.7984 0.8943 0.9674 1.    ]\n",
      " [0.5828 0.6684 0.7563 0.8405 0.9126 0.9638 0.9905 0.9989 1.    ]\n",
      " [0.7111 0.7973 0.8752 0.9365 0.9757 0.9939 0.9992 1.     1.    ]]\n"
     ]
    }
   ],
   "source": [
    "ps_mat = np.zeros((n_temp, n_inter))\n",
    "\n",
    "def calc_mat_product(mu, _lambda, A, alpha, # seleção\n",
    "                delta, phi_um, gamma, beta, #quebra\n",
    "                w_init, tempo, flow_wid): # ej, pi\n",
    "    \n",
    "    Si = selecao(mu, _lambda, A, alpha)\n",
    "    Bij = calc_Bij(delta, phi_um, gamma, beta)\n",
    "    bij = calc_bij(Bij)\n",
    "    \n",
    "    for i in range(1, n_temp+1, 1):\n",
    "        ej = calc_ej( temp[i-1], Si, flow_m)\n",
    "        aij = calc_aij(Si, bij, w0_exp)\n",
    "        \n",
    "        ps = calc_pi(aij, ej)\n",
    "        ps_mat[i-1] = ps\n",
    "    return ps_mat\n",
    "\n",
    "ps_mat = calc_mat_product(mu_s.value, lambda_s.value, A_s.value, alpha_s.value,  # seleção\n",
    "             delta_s.value, phi_um_s.value, gamma_s.value, beta_s.value,  #quebra\n",
    "             w0_exp, temp, flow_m)\n",
    "\n",
    "print('ps_mat  = \\n', ps_mat,'\\n\\nACUMULADA = \\n', ps_mat[:,::-1].cumsum(1))"
   ]
  },
  {
   "cell_type": "code",
   "execution_count": 16,
   "metadata": {
    "attributes": {
     "classes": [],
     "id": "",
     "n": "14"
    },
    "jupyter": {
     "source_hidden": true
    },
    "tags": []
   },
   "outputs": [],
   "source": [
    "def break_sim(b):\n",
    "    output.clear_output()\n",
    "    ej_fig = plt.figure(4, layout={'height':'300px', 'width':'580px'},\n",
    "                       fig_margin={'top':30,'bottom':30, 'left':30, 'right':30},\n",
    "                       title='ej')\n",
    "    plt.clear()\n",
    "    #dij_fig = plt.figure(5, layout={'height':'350px', 'width':'580px'},\n",
    "     #                   fig_margin={'top':15,'bottom':15, 'left':20, 'right':15})\n",
    "    #plt.clear()\n",
    "    \n",
    "    Si = selecao(mu_s.value, lambda_s.value, A_s.value, alpha_s.value)\n",
    "    Bij = calc_Bij(delta_s.value, phi_um_s.value, gamma_s.value, beta_s.value)\n",
    "    bij = calc_bij(Bij)\n",
    "    \n",
    "    with output: \n",
    "        display(HTML(value='<h1>SIMULAÇÃO</h1>'),\n",
    "                HTML(value='<h2>FUNÇÕES SELEÇÃO E QUEBRA</h2>'), \n",
    "                HTMLMath(Si_eq.value), Si, \n",
    "                HTMLMath(value=Bij_eq.value), Bij, \n",
    "                HTMLMath(value='$b_{i,j}=B_{i,j}-B_{i+1,j}$'), bij, \n",
    "                HTML(value='<h2>CÁLCULO DAS MATRIZES</h2>'),\n",
    "                HTMLMath(value='$a_{i,j} = $'))   \n",
    "        \n",
    "    for i in range(1, n_temp+1):\n",
    "        ej = calc_ej( temp[i-1], Si, flow_m)\n",
    "        aij = calc_aij(Si, bij, w0_exp)\n",
    "        \n",
    "        ps = calc_pi(aij, ej)\n",
    "        ps_mat[i-1] = ps\n",
    "        \n",
    "        plt.figure(4)\n",
    "        plt.plot(x=size_mm,y=ej, interpolation='basis', colors=[color_scale.iloc[i-1]])\n",
    "    \n",
    "    gran_fig.marks=gran_fig.marks[0:n_temp+1]\n",
    "    for i in range(1, n_temp+1):\n",
    "        plt.figure(0)\n",
    "        plt.plot(x=size_mm[::-1],\n",
    "                 y=ps_mat[:,::-1].cumsum(1)[i-1],\n",
    "                 interpolation='basis',\n",
    "                 #axes_options=gran_ax_options,\n",
    "                 stroke_width=2,\n",
    "                 colors=[color_scale.iloc[i-1]])\n",
    "                     \n",
    "    with output:\n",
    "        print(aij, '\\n\\n', aij.sum(0), '\\n')\n",
    "        \n",
    "        display(HTMLMath(value=ej_eq.value))\n",
    "        plt.show(4)\n",
    "        \n",
    "        print('\\n', ps_mat)\n",
    "        display(HTML(value='<h3> Frequência Acumulada </h3>'))\n",
    "        print(ps_mat[:, ::-1].cumsum(1))\n",
    "        \n",
    "\n",
    "Run_sim.on_click(break_sim)"
   ]
  },
  {
   "cell_type": "markdown",
   "metadata": {},
   "source": [
    "# Minimizaçao\n",
    "\n",
    "##### Parametros"
   ]
  },
  {
   "cell_type": "code",
   "execution_count": 17,
   "metadata": {
    "attributes": {
     "classes": [],
     "id": "",
     "n": "15"
    },
    "jupyter": {
     "source_hidden": true
    }
   },
   "outputs": [],
   "source": [
    "params = Parameters()\n",
    "# add with tuples: (NAME VALUE VARY MIN  MAX  EXPR  BRUTE_STEP)\n",
    "params.add_many(('mu', mu_s.value, True, mu_s.min, mu_s.max, None, None),\n",
    "                ('_lambda', lambda_s.value, False, lambda_s.min, lambda_s.max, None, None),\n",
    "                ('A', A_s.value, True, A_s.min, A_s.max, None, None),\n",
    "                ('alpha', alpha_s.value, True, alpha_s.min, alpha_s.max, None, None),\n",
    "                 \n",
    "                ('delta', delta_s.value, False, delta_s.min, delta_s.max, None, None),\n",
    "                ('phi_um', phi_um_s.value, True, phi_um_s.min, phi_um_s.max, None, None),\n",
    "                ('gamma', gamma_s.value, False, gamma_s.min, gamma_s.max, None, None),\n",
    "                ('beta', beta_s.value, False, beta_s.min, beta_s.max, None, None)\n",
    "               )"
   ]
  },
  {
   "cell_type": "markdown",
   "metadata": {},
   "source": [
    "$ minimize SSQ = \\sum_{i=1}^{n} w_i (p_i observed - p_i computed) $"
   ]
  },
  {
   "cell_type": "code",
   "execution_count": 18,
   "metadata": {
    "attributes": {
     "classes": [],
     "id": "",
     "n": "16"
    },
    "jupyter": {
     "source_hidden": true
    },
    "tags": []
   },
   "outputs": [
    {
     "data": {
      "text/plain": [
       "array([0.0025, 0.0186, 0.0614, 0.0966, 0.1549, 0.1728])"
      ]
     },
     "execution_count": 18,
     "metadata": {},
     "output_type": "execute_result"
    }
   ],
   "source": [
    "def retro_calc(vals,\n",
    "               w_init, tempo, flow_wid, pe_mat):\n",
    "    \n",
    "    parametros = vals.valuesdict()\n",
    "    mu = parametros['mu'] \n",
    "    _lambda = parametros['_lambda']\n",
    "    A = parametros['A']\n",
    "    alpha = parametros['alpha']\n",
    "    delta = parametros['delta']\n",
    "    phi_um = parametros['phi_um']\n",
    "    gamma = parametros['gamma']\n",
    "    beta = parametros['beta']\n",
    "\n",
    "    Si = selecao(mu, _lambda, A, alpha)\n",
    "    Bij = calc_Bij(delta, phi_um, gamma, beta)\n",
    "    bij = calc_bij(Bij)\n",
    "    \n",
    "    for i in range(1, n_temp+1, 1):\n",
    "        ej = calc_ej( temp[i-1], Si, flow_wid)\n",
    "        aij = calc_aij(Si, bij, w0_exp)\n",
    "        \n",
    "        ps = calc_pi(aij, ej)\n",
    "        ps_mat[i-1] = ps\n",
    "        \n",
    "    wi_mc = np.ones((n_temp, n_inter)) - np.divide((np.subtract(disc[:,::-1].cumsum(1), \n",
    "                                                                ps_mat[:,::-1].cumsum(1))**2), \n",
    "                                                   ps_mat[:,::-1].cumsum(1))[::-1]\n",
    "    \n",
    "    return (wi_mc * (np.subtract(disc, ps_mat)**2)).sum(1)\n",
    "    \n",
    "retro_calc(params,\n",
    "           w0_exp, temp, flow_m,\n",
    "          disc)"
   ]
  },
  {
   "cell_type": "code",
   "execution_count": 19,
   "metadata": {
    "jupyter": {
     "source_hidden": true
    }
   },
   "outputs": [
    {
     "ename": "SyntaxError",
     "evalue": "unexpected EOF while parsing (<ipython-input-19-7fe561877e8c>, line 10)",
     "output_type": "error",
     "traceback": [
      "\u001b[1;36m  File \u001b[1;32m\"<ipython-input-19-7fe561877e8c>\"\u001b[1;36m, line \u001b[1;32m10\u001b[0m\n\u001b[1;33m    None),\u001b[0m\n\u001b[1;37m          ^\u001b[0m\n\u001b[1;31mSyntaxError\u001b[0m\u001b[1;31m:\u001b[0m unexpected EOF while parsing\n"
     ]
    }
   ],
   "source": [
    "### Minimização Moly-Cop\n",
    "def retro_start(b):\n",
    "    params = Parameters()\n",
    "    # add with tuples: (NAME VALUE VARY MIN  MAX  EXPR  BRUTE_STEP)\n",
    "    params.add_many(('mu', mu_s.value, True, mu_s.min, mu_s.max, None, None),\n",
    "                ('_lambda', lambda_s.value, False, lambda_s.min, lambda_s.max,\n",
    "None, None),\n",
    "                ('A', A_s.value, True, A_s.min, A_s.max, None, None),\n",
    "                ('alpha', alpha_s.value, True, alpha_s.min, alpha_s.max, None,\n",
    "None),"
   ]
  },
  {
   "cell_type": "code",
   "execution_count": null,
   "metadata": {
    "jupyter": {
     "source_hidden": true
    },
    "tags": []
   },
   "outputs": [],
   "source": [
    "('delta', delta_s.value, False, delta_s.min, delta_s.max, None, None),\n",
    "('phi_um', phi_um_s.value, True, phi_um_s.min, phi_um_s.max, None, None),\n",
    "('gamma', gamma_s.value, False, gamma_s.min, gamma_s.max, None, None),\n",
    "('beta', beta_s.value, False, beta_s.min, beta_s.max, None, None)\n",
    "               )\n",
    "    output.clear_output()\n",
    "    with output:\n",
    "        display(HTML(value='<h1>RETROCALC</h1>'))\n",
    "        display(HTML(value='<h3>Iniciando Primeira Etapa</h3>'))\n",
    "        display(params)\n",
    "\n",
    "result1 = minimize(retro_calc, params,\n",
    "                       args=(w0_exp, temp, flow_m, disc),\n",
    "                       method=opt_m.value\n",
    "                 )\n",
    "    with output:\n",
    "        display(HTML(value='<h3>Primeira Etapa Concluída</h3>'))\n",
    "        display(report_fit(result1))\n",
    "print('###################################################################')"
   ]
  },
  {
   "cell_type": "code",
   "execution_count": null,
   "metadata": {
    "jupyter": {
     "source_hidden": true
    },
    "tags": []
   },
   "outputs": [],
   "source": [
    "A_s.value = result1.params['A'].value\n",
    "alpha_s.value = result1.params['alpha'].value\n",
    "mu_s.value = result1.params['mu'].value\n",
    "phi_um_s.value = result1.params['phi_um'].value\n",
    "\n",
    "params['phi_um'].set(value=result1.params['phi_um'].value, vary=False)\n",
    "##############################################################################\n",
    "with output:\n",
    "    display(HTML(value='<h3>Prosseguindo para Próxima Etapa</h3>'))\n",
    "    display(params)\n",
    "\n",
    "result2 = minimize(retro_calc, params, \n",
    "              args=(w0_exp, temp, flow_m, disc)\n",
    "             )\n",
    "with output:\n",
    "    display(HTML(value='<h3>Segunda Etapa Concluída</h3>'))\n",
    "    display(report_fit(result2))\n",
    "    print('###################################################################')\n",
    "\n",
    "A_s.value = result2.params['A'].value\n",
    "alpha_s.value = result2.params['alpha'].value\n",
    "mu_s.value = result2.params['mu'].value\n",
    "\n",
    "params['mu'].set(value=result2.params['mu'].value, vary=False)\n",
    "\n",
    "params['gamma'].set(vary=True)\n",
    "##############################################################################\n",
    "with output:\n",
    "    display(HTML(value='<h3>Iniciando Terceira Etapa</h3>'))\n",
    "    display(params)\n",
    "\n",
    "result3 = minimize(retro_calc, params, \n",
    "              args=(w0_exp, temp, flow_m, pe_exp)\n",
    "             )\n",
    "with output:\n",
    "    display(HTML(value='<h3>Terceira Etapa Concluída</h3>'))\n",
    "    display(report_fit(result3))\n",
    "    \n",
    "##############################################################################\"\"\"\n",
    "Retro_buttom.on_click(retro_start)\n",
    "### Minimização Austin"
   ]
  },
  {
   "cell_type": "code",
   "execution_count": null,
   "metadata": {
    "attributes": {
     "classes": [],
     "id": "",
     "n": "17"
    },
    "jupyter": {
     "source_hidden": true
    },
    "tags": []
   },
   "outputs": [],
   "source": [
    "def retro_start_A(b):\n",
    "    params = Parameters()\n",
    "    # add with tuples: (NAME VALUE VARY MIN  MAX  EXPR  BRUTE_STEP)\n",
    "    params.add_many(('mu', mu_s.value, False, mu_s.min, mu_s.max, None, None),\n",
    "                ('_lambda', lambda_s.value, False, lambda_s.min, lambda_s.max, None, None),\n",
    "                ('A', 0.0, True, A_s.min, A_s.max, None, None),\n",
    "                ('alpha', alpha_s.value, True, alpha_s.min, alpha_s.max, None, None),\n",
    "                 \n",
    "                ('delta', delta_s.value, False, delta_s.min, delta_s.max, None, None),\n",
    "                ('phi_um', phi_um_s.value, True, phi_um_s.min, phi_um_s.max, None, None),\n",
    "                ('gamma', gamma_s.value, False, gamma_s.min, gamma_s.max, None, None),\n",
    "                ('beta', beta_s.value, False, beta_s.min, beta_s.max, None, None)\n",
    "               )\n",
    "    output.clear_output()\n",
    "    with output:\n",
    "        display(HTML(value='<h1>RETROCALC</h1>'))\n",
    "        display(HTML(value='<h3>Iniciando Primeira Etapa</h3>'))\n",
    "        display(params)\n",
    "        \n",
    "    result1 = minimize(retro_calc, params, \n",
    "                       args=(w0_exp, temp, flow_m, disc),\n",
    "                       method=opt_m.value\n",
    "                 )\n",
    "    with output:\n",
    "        display(HTML(value='<h3>Primeira Etapa Concluída</h3>'))\n",
    "        display(report_fit(result1))\n",
    "        print('###################################################################')\n",
    "    \n",
    "    A_s.value = result1.params['A'].value\n",
    "    alpha_s.value = result1.params['alpha'].value\n",
    "    phi_um_s.value = result1.params['phi_um'].value\n",
    "    \n",
    "    params['A'].set(value=result1.params['A'].value, vary=False)\n",
    "    params['alpha'].set(value=result1.params['alpha'].value, vary=False)\n",
    "    params['phi_um'].set(value=result1.params['phi_um'].value, vary=False)\n",
    "    ##############################################################################\n",
    "    params['gamma'].set(vary=True)\n",
    "    params['beta'].set(vary=True)\n",
    "    \n",
    "    with output:\n",
    "        display(HTML(value='<h3>Prosseguindo para Próxima Etapa</h3>'))\n",
    "        display(params)\n",
    "    \n",
    "    result2 = minimize(retro_calc, params, \n",
    "                  args=(w0_exp, temp, flow_m, disc)\n",
    "                 )\n",
    "    with output:\n",
    "        display(HTML(value='<h3>Segunda Etapa Concluída</h3>'))\n",
    "        display(report_fit(result2))\n",
    "        print('###################################################################')\n",
    "\n",
    "    gamma_s.value = result2.params['gamma'].value\n",
    "    beta_s.value = result2.params['beta'].value\n",
    "    \n",
    "    params['gamma'].set(value=result1.params['gamma'].value, vary=False)\n",
    "    params['beta'].set(value=result1.params['beta'].value, vary=False)\n",
    "    ##############################################################################\n",
    "    params['delta'].set(vary=True)\n",
    "    \n",
    "    with output:\n",
    "        display(HTML(value='<h3>Iniciando Terceira Etapa</h3>'))\n",
    "        display(params)\n",
    "    \n",
    "    result3 = minimize(retro_calc, params, \n",
    "                  args=(w0_exp, temp, flow_m, pe_exp)\n",
    "                 )\n",
    "    with output:\n",
    "        display(HTML(value='<h3>Terceira Etapa Concluída</h3>'))\n",
    "        display(report_fit(result3))\n",
    "        \n",
    "    delta_s.value = result2.params['delta'].value\n",
    "    ##############################################################################\n",
    "    \n",
    "Retro_buttom.on_click(retro_start_A)"
   ]
  },
  {
   "cell_type": "markdown",
   "metadata": {},
   "source": [
    "##### Atualizando Escala gran_plot"
   ]
  },
  {
   "cell_type": "code",
   "execution_count": null,
   "metadata": {
    "attributes": {
     "classes": [],
     "id": "",
     "n": "18"
    },
    "jupyter": {
     "source_hidden": true
    },
    "tags": []
   },
   "outputs": [],
   "source": [
    "def update_gran_scale(ylog):\n",
    "    if ylog == True:\n",
    "        for i in range(len(gran_fig.marks)):\n",
    "            gran_fig.marks[i].scales = {'x':xs, 'y':ys}\n",
    "            gran_fig.axes[1].scale = ys\n",
    "    else:    \n",
    "        for i in range(len(gran_fig.marks)):\n",
    "            gran_fig.marks[i].scales = {'x':xs, 'y':ys_lin}\n",
    "            gran_fig.axes[1].scale = ys_lin\n",
    "            \n",
    "interactive_gran_plot = interactive_output(update_gran_scale, {'ylog':ylog_ck})"
   ]
  }
 ],
 "metadata": {
  "kernelspec": {
   "display_name": "Python 3",
   "language": "python",
   "name": "python3"
  },
  "language_info": {
   "codemirror_mode": {
    "name": "ipython",
    "version": 3
   },
   "file_extension": ".py",
   "mimetype": "text/x-python",
   "name": "python",
   "nbconvert_exporter": "python",
   "pygments_lexer": "ipython3",
   "version": "3.7.10"
  }
 },
 "nbformat": 4,
 "nbformat_minor": 4
}
