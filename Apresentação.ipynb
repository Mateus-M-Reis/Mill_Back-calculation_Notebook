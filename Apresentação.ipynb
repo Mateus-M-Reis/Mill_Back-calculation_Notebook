{
 "cells": [
  {
   "cell_type": "code",
   "execution_count": 39,
   "id": "4035ec5a-c878-4b21-aa9e-345dd79c96f5",
   "metadata": {
    "slideshow": {
     "slide_type": "skip"
    },
    "tags": []
   },
   "outputs": [],
   "source": [
    "from IPython.core.display import display\n",
    "from ipywidgets import VBox, HBox, Layout, HTML, HTMLMath\n",
    "\n",
    "from app.figures import s_fig, q_fig\n",
    "from app.widgets import S_Panel, Q_Panel\n",
    "from app.layout import panel"
   ]
  },
  {
   "cell_type": "markdown",
   "id": "74ecf5a0",
   "metadata": {
    "slideshow": {
     "slide_type": "slide"
    }
   },
   "source": [
    "# Moabilidade à Úmido de um Minério Industrial e Estimação de Seus Parâmetros de Quebra Usando o Modelo do Balanço Populacional\n",
    "<br>\n",
    "<br>\n",
    "<br>\n",
    "\n",
    "### Mateus Marques dos Reis\n",
    "### Orientador: Roberto Galéry"
   ]
  },
  {
   "cell_type": "markdown",
   "id": "db379d88-1105-4338-8829-6b6422a6239e",
   "metadata": {
    "slideshow": {
     "slide_type": "slide"
    },
    "tags": []
   },
   "source": [
    "# Introdução\n",
    "\n",
    "- Moagem\n",
    "- Modelos Matemáticos \n",
    "- Técnicas de Determinação"
   ]
  },
  {
   "cell_type": "markdown",
   "id": "9ef7500b-2846-4651-bbef-efa67b317811",
   "metadata": {
    "slideshow": {
     "slide_type": "subslide"
    },
    "tags": []
   },
   "source": [
    "## Moagem"
   ]
  },
  {
   "cell_type": "code",
   "execution_count": 40,
   "id": "c7254740-b3af-484a-a9ab-40bc91422989",
   "metadata": {
    "jupyter": {
     "source_hidden": true
    },
    "slideshow": {
     "slide_type": "fragment"
    },
    "tags": []
   },
   "outputs": [
    {
     "data": {
      "application/vnd.jupyter.widget-view+json": {
       "model_id": "81ea96a57e994628aa6519531afe265f",
       "version_major": 2,
       "version_minor": 0
      },
      "text/plain": [
       "HTML(value='\\n<table>\\n\\n<tr>\\n<th> Cominuição </th>\\n<th> Moagem </th>\\n</tr>\\n\\n<tr>\\n<td>\\n\\n<ul>\\n<li> Uso…"
      ]
     },
     "metadata": {},
     "output_type": "display_data"
    }
   ],
   "source": [
    "HTML('''\n",
    "<table>\n",
    "\n",
    "<tr>\n",
    "<th> Cominuição </th>\n",
    "<th> Moagem </th>\n",
    "</tr>\n",
    "\n",
    "<tr>\n",
    "<td>\n",
    "\n",
    "<ul>\n",
    "<li> Uso Internsivo de Energia </li>\n",
    "<ul>\n",
    "    <li>     3-4 % da energia mundial em 2013 </li>\n",
    "</ul>\n",
    "<li> Objetivos </li>\n",
    "<ul>\n",
    "    <li> Manuseio e Transporte </li>\n",
    "    <li> Liberação </li>\n",
    "    <li> Área de Superfície </li>\n",
    "    <li> Processos Subsequentes </li>\n",
    "    <li> Especificações de Tamanho </li>\n",
    "</ul>\n",
    "\n",
    "</td>\n",
    "<td>\n",
    "\n",
    "<ul>\n",
    "<li> Elevado Investimento Inicial </li>\n",
    "<li> Elevado Custo Energético </li>\n",
    "<li> Viabilidade Econômica </li>\n",
    "<li> Deve ser: </li>\n",
    "<ul>\n",
    "    <li> Projetado Adequadamente </li>\n",
    "    <li> Operar em Condições ideais </li>\n",
    "</ul>\n",
    "</ul>\n",
    "\n",
    "</td>\n",
    "</tr>\n",
    "\n",
    "</table>''')"
   ]
  },
  {
   "cell_type": "markdown",
   "id": "93477888-94da-4b7b-a713-e6513ecb0e68",
   "metadata": {
    "slideshow": {
     "slide_type": "slide"
    },
    "tags": []
   },
   "source": [
    "# Revisão Bibliográfica"
   ]
  },
  {
   "cell_type": "code",
   "execution_count": 66,
   "id": "45aaa973-c27d-47fd-8461-57961dccec1e",
   "metadata": {
    "jupyter": {
     "source_hidden": true
    },
    "slideshow": {
     "slide_type": "fragment"
    },
    "tags": []
   },
   "outputs": [
    {
     "data": {
      "application/vnd.jupyter.widget-view+json": {
       "model_id": "2daefff7516b4aa1b5e98758e6745509",
       "version_major": 2,
       "version_minor": 0
      },
      "text/plain": [
       "HTMLMath(value='\\n<h4> Forma Geral </h4>\\n$$ \\\\frac{dw_i(t)}{dt} = -S_iw_i(t) + \\\\sum_{j=1}^{i-1} b_{i,j}S_jw_…"
      ]
     },
     "metadata": {},
     "output_type": "display_data"
    }
   ],
   "source": [
    "HTMLMath('''\n",
    "<h4> Forma Geral </h4>\n",
    "$$ \\\\frac{dw_i(t)}{dt} = -S_iw_i(t) + \\sum_{j=1}^{i-1} b_{i,j}S_jw_i(t)$$\n",
    "''')"
   ]
  },
  {
   "cell_type": "code",
   "execution_count": 65,
   "id": "6239ea76-d90e-4775-887c-07b7ee81f098",
   "metadata": {
    "slideshow": {
     "slide_type": "fragment"
    },
    "tags": []
   },
   "outputs": [
    {
     "data": {
      "application/vnd.jupyter.widget-view+json": {
       "model_id": "4d681e55d47c4af29af202afdbe5740a",
       "version_major": 2,
       "version_minor": 0
      },
      "text/plain": [
       "HBox(children=(VBox(children=(Figure(animation_duration=1000, axes=[Axis(label='Size (mm)', scale=LogScale(max…"
      ]
     },
     "metadata": {},
     "output_type": "display_data"
    }
   ],
   "source": [
    "display(\n",
    "    HBox([ \n",
    "        VBox( [ s_fig, S_Panel ], layout=Layout(height='100%', overflow='hidden hidden') ),  \n",
    "        VBox( [ q_fig, Q_Panel ], layout=Layout(height='100%', overflow='hidden hidden') ), \n",
    "    ],\n",
    "    layout = Layout(width='900px', height='100%', overflow='hidden hidden')\n",
    "    ),\n",
    ")"
   ]
  }
 ],
 "metadata": {
  "celltoolbar": "Slideshow",
  "kernelspec": {
   "display_name": "Python 3 (ipykernel)",
   "language": "python",
   "name": "python3"
  },
  "language_info": {
   "codemirror_mode": {
    "name": "ipython",
    "version": 3
   },
   "file_extension": ".py",
   "mimetype": "text/x-python",
   "name": "python",
   "nbconvert_exporter": "python",
   "pygments_lexer": "ipython3",
   "version": "3.7.10"
  },
  "widgets": {
   "application/vnd.jupyter.widget-state+json": {
    "state": {
     "0066efe36c4e46838404ae4867293142": {
      "model_module": "@jupyter-widgets/controls",
      "model_module_version": "1.5.0",
      "model_name": "DescriptionStyleModel",
      "state": {
       "description_width": ""
      }
     },
     "00ba54e458f44d429080312566a608ec": {
      "model_module": "@jupyter-widgets/controls",
      "model_module_version": "1.5.0",
      "model_name": "HTMLModel",
      "state": {
       "layout": "IPY_MODEL_bcd602a348484f7fa6ae0d76ccaca56b",
       "style": "IPY_MODEL_0e1b99ebcdab4adfa262f8032bea8efa",
       "value": "<h1>Moagem</h1>\n<table>\n<tr>\n<th> Cominuição </th>\n<th> Moagem </th>\n</tr>\n<tr>\n<td>\n\n- Uso Internsivo de Energia <br >\n    - 3-4 % da energia mundial em 2013 <br >\n- Objetivos <br >\n    - Manuseio e Transporte <br >\n    - Liberação <br >\n    - Área de Superfície <br >\n    - Processos Subsequentes <br >\n    - Especificações de Tamanho\n\n</td>\n<td>\n\n- Some Text\n\n</td>\n</tr>\n</table>\n"
      }
     },
     "01bcab124afa4200abd006cd6c6ff6f4": {
      "model_module": "@jupyter-widgets/base",
      "model_module_version": "1.2.0",
      "model_name": "LayoutModel",
      "state": {
       "overflow": "hidden hidden"
      }
     },
     "0392a3658bd94025ba09cf4ca5d34864": {
      "model_module": "@jupyter-widgets/base",
      "model_module_version": "1.2.0",
      "model_name": "LayoutModel",
      "state": {
       "overflow": "hidden hidden",
       "width": "100%"
      }
     },
     "0398a7323ace4e1b9775d4b024a14fb5": {
      "model_module": "@jupyter-widgets/controls",
      "model_module_version": "1.5.0",
      "model_name": "VBoxModel",
      "state": {
       "children": [
        "IPY_MODEL_5bcd104b3a2b432da799a66ec9ebe077",
        "IPY_MODEL_1830fbe887bd487c904367c5a354ec42"
       ],
       "layout": "IPY_MODEL_78be18f112f4466e91a1fd2a8a855d9d"
      }
     },
     "044b4ebab6d1421e8c1a63df62062d24": {
      "model_module": "@jupyter-widgets/base",
      "model_module_version": "1.2.0",
      "model_name": "LayoutModel",
      "state": {}
     },
     "044c83b7dff04e09984193cb06c8d404": {
      "model_module": "@jupyter-widgets/controls",
      "model_module_version": "1.5.0",
      "model_name": "HTMLModel",
      "state": {
       "layout": "IPY_MODEL_e656b8b4c0fb4ccda568f7359bf523cc",
       "style": "IPY_MODEL_1fe901df75234fd9b6be6c796dc98df5",
       "value": "<h1> Forma Geral </h1>"
      }
     },
     "0492607cbb644ac1afa3320fa8ceb9da": {
      "model_module": "@jupyter-widgets/base",
      "model_module_version": "1.2.0",
      "model_name": "LayoutModel",
      "state": {}
     },
     "04d920b319fa4c5895da885c34d1d66e": {
      "model_module": "@jupyter-widgets/base",
      "model_module_version": "1.2.0",
      "model_name": "LayoutModel",
      "state": {}
     },
     "060e4ad2dc074b7385857898ae1f04da": {
      "model_module": "@jupyter-widgets/base",
      "model_module_version": "1.2.0",
      "model_name": "LayoutModel",
      "state": {}
     },
     "069b3a22c55c45248b1c3e48ce31bf8f": {
      "model_module": "@jupyter-widgets/base",
      "model_module_version": "1.2.0",
      "model_name": "LayoutModel",
      "state": {}
     },
     "09af22ecddd24c63814c6dd6edd16b37": {
      "model_module": "@jupyter-widgets/controls",
      "model_module_version": "1.5.0",
      "model_name": "HTMLMathModel",
      "state": {
       "layout": "IPY_MODEL_b97326293fe94995b35f279b99745f80",
       "style": "IPY_MODEL_87ed16d1660042e3b3db4a357980be70",
       "value": "\n<h1> Forma Geral </h1>\n$$\n\frac{dw_i(t)}/{dt}\n$$\n"
      }
     },
     "0a2c0263dab545cdb12c6c1ecb907aaf": {
      "model_module": "@jupyter-widgets/controls",
      "model_module_version": "1.5.0",
      "model_name": "VBoxModel",
      "state": {
       "children": [
        "IPY_MODEL_1df54a47e3034e6e919195f32d3f3ca9",
        "IPY_MODEL_ec64b986f1974401be7aace850ec499a"
       ],
       "layout": "IPY_MODEL_81a9457020e74f61a755db8156b51e7b"
      }
     },
     "0c79ad47a0354334941f4612a8d747bd": {
      "model_module": "@jupyter-widgets/base",
      "model_module_version": "1.2.0",
      "model_name": "LayoutModel",
      "state": {}
     },
     "0d72cf372dc34b99bef83b62badf0333": {
      "model_module": "@jupyter-widgets/base",
      "model_module_version": "1.2.0",
      "model_name": "LayoutModel",
      "state": {}
     },
     "0e1b99ebcdab4adfa262f8032bea8efa": {
      "model_module": "@jupyter-widgets/controls",
      "model_module_version": "1.5.0",
      "model_name": "DescriptionStyleModel",
      "state": {
       "description_width": ""
      }
     },
     "0e37b2ebaf614ffca8497043e862b594": {
      "model_module": "@jupyter-widgets/controls",
      "model_module_version": "1.5.0",
      "model_name": "HBoxModel",
      "state": {
       "children": [
        "IPY_MODEL_58683890cff047538afc2ba644085f01",
        "IPY_MODEL_9bd9652b500d4e7fb883f5838dcfebfa"
       ],
       "layout": "IPY_MODEL_5b9f9881096e470b8e7348593c668c86"
      }
     },
     "0e85175463a94bf39d024ebcfb1f2c64": {
      "model_module": "@jupyter-widgets/base",
      "model_module_version": "1.2.0",
      "model_name": "LayoutModel",
      "state": {}
     },
     "0e997f7a04134ca2af8d680183ac8fb4": {
      "model_module": "@jupyter-widgets/base",
      "model_module_version": "1.2.0",
      "model_name": "LayoutModel",
      "state": {
       "height": "100%",
       "overflow": "hidden hidden",
       "width": "700px"
      }
     },
     "0f9ef0a5f197466bb2cd6f3da2481c25": {
      "model_module": "@jupyter-widgets/controls",
      "model_module_version": "1.5.0",
      "model_name": "DescriptionStyleModel",
      "state": {
       "description_width": "65%"
      }
     },
     "0ff64874b1ad4df8b1d628c3eb0ee24a": {
      "model_module": "@jupyter-widgets/controls",
      "model_module_version": "1.5.0",
      "model_name": "HTMLMathModel",
      "state": {
       "layout": "IPY_MODEL_aea92abf142f47e78e8dcdede01e5f8d",
       "style": "IPY_MODEL_d9ca9ce47c5f4129a43917755390663c",
       "value": "\n<h3> Forma Geral </h3>\n$$ \\frac{dw_i(t)}{dt} = -S_iw_i(t) + \\sum_{j=1}^{i-1} b_{i,j}S_jw_i(t)$$\n"
      }
     },
     "1181089e1f4d4004b4cab9015d68c0f0": {
      "model_module": "@jupyter-widgets/controls",
      "model_module_version": "1.5.0",
      "model_name": "DescriptionStyleModel",
      "state": {
       "description_width": ""
      }
     },
     "11d320a853814cd0887314eff1684e1a": {
      "model_module": "@jupyter-widgets/output",
      "model_module_version": "1.0.0",
      "model_name": "OutputModel",
      "state": {
       "layout": "IPY_MODEL_4d15869ab2ec4e369c0b6fb5f0765c44"
      }
     },
     "124ef1432c3c46d4893bdda65493179b": {
      "model_module": "@jupyter-widgets/controls",
      "model_module_version": "1.5.0",
      "model_name": "DescriptionStyleModel",
      "state": {
       "description_width": ""
      }
     },
     "12a43a762c4e43afa89330efb0024c2e": {
      "model_module": "@jupyter-widgets/controls",
      "model_module_version": "1.5.0",
      "model_name": "VBoxModel",
      "state": {
       "children": [
        "IPY_MODEL_5bcd104b3a2b432da799a66ec9ebe077",
        "IPY_MODEL_1830fbe887bd487c904367c5a354ec42"
       ],
       "layout": "IPY_MODEL_8fba547811614f809b474cb0d2d6292b"
      }
     },
     "12d2b4de8b7b42dabaa307717164704d": {
      "model_module": "@jupyter-widgets/controls",
      "model_module_version": "1.5.0",
      "model_name": "VBoxModel",
      "state": {
       "children": [
        "IPY_MODEL_5bcd104b3a2b432da799a66ec9ebe077",
        "IPY_MODEL_1830fbe887bd487c904367c5a354ec42"
       ],
       "layout": "IPY_MODEL_991f2f24fdb14bf9838b382223ca7be9"
      }
     },
     "12e4421ad8804a318b5d1a98d9dbfc98": {
      "model_module": "@jupyter-widgets/base",
      "model_module_version": "1.2.0",
      "model_name": "LayoutModel",
      "state": {
       "overflow": "hidden hidden"
      }
     },
     "131bf1058ca14f7bba91de4e248a68d3": {
      "model_module": "@jupyter-widgets/base",
      "model_module_version": "1.2.0",
      "model_name": "LayoutModel",
      "state": {
       "overflow": "hidden hidden",
       "width": "700px"
      }
     },
     "136f0f4f894e4bb4b43e2c9a18cff453": {
      "model_module": "@jupyter-widgets/controls",
      "model_module_version": "1.5.0",
      "model_name": "DescriptionStyleModel",
      "state": {
       "description_width": ""
      }
     },
     "1374d88ad4b945f181456961777161b4": {
      "model_module": "@jupyter-widgets/controls",
      "model_module_version": "1.5.0",
      "model_name": "VBoxModel",
      "state": {
       "children": [
        "IPY_MODEL_1df54a47e3034e6e919195f32d3f3ca9",
        "IPY_MODEL_ec64b986f1974401be7aace850ec499a"
       ],
       "layout": "IPY_MODEL_47b1db33f4be475abe0ad544e61951a8"
      }
     },
     "139f176e58ff4a8fa32872951bb35b89": {
      "model_module": "@jupyter-widgets/base",
      "model_module_version": "1.2.0",
      "model_name": "LayoutModel",
      "state": {}
     },
     "14d85e23eb514184b19922f40d41efbf": {
      "model_module": "@jupyter-widgets/controls",
      "model_module_version": "1.5.0",
      "model_name": "FloatSliderModel",
      "state": {
       "description": "$\\delta$",
       "layout": "IPY_MODEL_ef30b2a83a114987a4374e480eec96d2",
       "max": 0.25,
       "step": 0.01,
       "style": "IPY_MODEL_b45b492138f04f50b2b872c45037c9f3"
      }
     },
     "16c1a1fc88cc42c3a4a335b163080064": {
      "model_module": "@jupyter-widgets/base",
      "model_module_version": "1.2.0",
      "model_name": "LayoutModel",
      "state": {
       "height": "50%",
       "overflow": "hidden hidden",
       "width": "100%"
      }
     },
     "16d1806e0de740cf92d247581c0da748": {
      "model_module": "@jupyter-widgets/controls",
      "model_module_version": "1.5.0",
      "model_name": "VBoxModel",
      "state": {
       "children": [
        "IPY_MODEL_1df54a47e3034e6e919195f32d3f3ca9",
        "IPY_MODEL_ec64b986f1974401be7aace850ec499a"
       ],
       "layout": "IPY_MODEL_f6fa7a1c041c41638f4fbb8163ae1b3a"
      }
     },
     "1805712632d54a01a65149ee4414f40b": {
      "model_module": "@jupyter-widgets/base",
      "model_module_version": "1.2.0",
      "model_name": "LayoutModel",
      "state": {
       "overflow": "hidden hidden"
      }
     },
     "1830fbe887bd487c904367c5a354ec42": {
      "model_module": "@jupyter-widgets/controls",
      "model_module_version": "1.5.0",
      "model_name": "VBoxModel",
      "state": {
       "children": [
        "IPY_MODEL_cc64a87879834a1aa5d41b6265fb5d33",
        "IPY_MODEL_3277807f382842a3857204c357e00c01"
       ],
       "layout": "IPY_MODEL_0e85175463a94bf39d024ebcfb1f2c64"
      }
     },
     "1925dd545e074e42ac2f31525d1104ac": {
      "model_module": "@jupyter-widgets/base",
      "model_module_version": "1.2.0",
      "model_name": "LayoutModel",
      "state": {
       "width": "20%"
      }
     },
     "19a09d0304c64800ad4cf14a4c7830e5": {
      "model_module": "@jupyter-widgets/base",
      "model_module_version": "1.2.0",
      "model_name": "LayoutModel",
      "state": {}
     },
     "1aab5d7d6fd849b3b0dd3c91628638c9": {
      "buffers": [
       {
        "data": "mpmZmZmZuT8AAAAAAADwPw==",
        "encoding": "base64",
        "path": [
         "tick_values",
         "value"
        ]
       }
      ],
      "model_module": "bqplot",
      "model_module_version": "^0.5.32",
      "model_name": "AxisModel",
      "state": {
       "label": "Size (mm)",
       "scale": "IPY_MODEL_9a242733eeba41d594fdb60f7a8e89b6",
       "side": "bottom",
       "tick_format": "0.1f",
       "tick_values": {
        "dtype": "float64",
        "shape": [
         2
        ],
        "type": null
       }
      }
     },
     "1acabdc25eea4c6ca64cf185d550b2b2": {
      "model_module": "@jupyter-widgets/base",
      "model_module_version": "1.2.0",
      "model_name": "LayoutModel",
      "state": {}
     },
     "1ad22984445d43cc8118959ff44d9042": {
      "buffers": [
       {
        "data": "mpmZmZmZuT8AAAAAAADwPw==",
        "encoding": "base64",
        "path": [
         "tick_values",
         "value"
        ]
       }
      ],
      "model_module": "bqplot",
      "model_module_version": "^0.5.32",
      "model_name": "AxisModel",
      "state": {
       "label": "Taxa Específica de Quebra, min^-1",
       "orientation": "vertical",
       "scale": "IPY_MODEL_ca5c2df220be46fdb9981b86ed6115f3",
       "side": "left",
       "tick_format": "0.1f",
       "tick_values": {
        "dtype": "float64",
        "shape": [
         2
        ],
        "type": null
       }
      }
     },
     "1bba2b5f41524baa89b25497fa3cb51e": {
      "model_module": "@jupyter-widgets/controls",
      "model_module_version": "1.5.0",
      "model_name": "HBoxModel",
      "state": {
       "children": [
        "IPY_MODEL_5ab03e16517043e6b23291be4f0b6490",
        "IPY_MODEL_c2f443cb6b634c6f8b928eedc96aee69"
       ],
       "layout": "IPY_MODEL_12e4421ad8804a318b5d1a98d9dbfc98"
      }
     },
     "1c6045dc579649adb624e49d821db186": {
      "model_module": "@jupyter-widgets/controls",
      "model_module_version": "1.5.0",
      "model_name": "VBoxModel",
      "state": {
       "children": [
        "IPY_MODEL_5bcd104b3a2b432da799a66ec9ebe077",
        "IPY_MODEL_1830fbe887bd487c904367c5a354ec42"
       ],
       "layout": "IPY_MODEL_b627c8ef83c543f9b80e789becdcadb1"
      }
     },
     "1d4e96286b364cfabbfc7d18141aa0a2": {
      "model_module": "@jupyter-widgets/controls",
      "model_module_version": "1.5.0",
      "model_name": "ButtonStyleModel",
      "state": {}
     },
     "1d6cb78275114e428a5157adc43921a8": {
      "model_module": "@jupyter-widgets/controls",
      "model_module_version": "1.5.0",
      "model_name": "HBoxModel",
      "state": {
       "children": [
        "IPY_MODEL_b9aba7838bc5496b92fa8cd7e0ac84f5",
        "IPY_MODEL_dacca43517654ab682dac3fa9823d513"
       ],
       "layout": "IPY_MODEL_b0aab7e7e89c43ac8549b84ac0161254"
      }
     },
     "1dc3f30c2e584fc8aaac0742cb22f31f": {
      "model_module": "@jupyter-widgets/controls",
      "model_module_version": "1.5.0",
      "model_name": "VBoxModel",
      "state": {
       "children": [
        "IPY_MODEL_1df54a47e3034e6e919195f32d3f3ca9",
        "IPY_MODEL_ec64b986f1974401be7aace850ec499a"
       ],
       "layout": "IPY_MODEL_39c81931f4734093b14fe95952491524"
      }
     },
     "1df54a47e3034e6e919195f32d3f3ca9": {
      "model_module": "bqplot",
      "model_module_version": "^0.5.32",
      "model_name": "FigureModel",
      "state": {
       "animation_duration": 1000,
       "axes": [
        "IPY_MODEL_1aab5d7d6fd849b3b0dd3c91628638c9",
        "IPY_MODEL_1ad22984445d43cc8118959ff44d9042"
       ],
       "fig_margin": {
        "bottom": 40,
        "left": 50,
        "right": 50,
        "top": 0
       },
       "layout": "IPY_MODEL_decf2f96e9d44f7a92c04b2cc8bdb0d6",
       "legend_location": "top-left",
       "marks": [
        "IPY_MODEL_864cfc8b697f44dbb31155482fffc053"
       ],
       "scale_x": "IPY_MODEL_a422242afef04860ae281d3658b7c2f8",
       "scale_y": "IPY_MODEL_ef37ef31d7ba4d918949da322feec9d3",
       "title": "Selection",
       "title_style": {
        "font-size": "20px"
       }
      }
     },
     "1e64b240e310410398baf018d6505570": {
      "model_module": "@jupyter-widgets/controls",
      "model_module_version": "1.5.0",
      "model_name": "HTMLModel",
      "state": {
       "layout": "IPY_MODEL_7ff0e5824a9243d5af879667d610a793",
       "style": "IPY_MODEL_4d190d01e949429e9acd99b68c8e87bb",
       "value": "\n<table>\n\n<tr>\n<th> Cominuição </th>\n<th> Moagem </th>\n</tr>\n\n<tr>\n<td>\n\n<ul>\n<li> Uso Internsivo de Energia </li>\n<ul>\n    <li>     3-4 % da energia mundial em 2013 </li>\n</ul>\n<li> Objetivos </li>\n<ul>\n    <li> Manuseio e Transporte </li>\n    <li> Liberação </li>\n    <li> Área de Superfície </li>\n    <li> Processos Subsequentes </li>\n    <li> Especificações de Tamanho </li>\n</ul>\n\n</td>\n<td>\n\n<ul>\n<li> Elevado Investimento Inicial </li>\n<li> Elevado Custo Energético </li>\n<li> Viabilidade Econômica </li>\n<li> Deve ser: </li>\n<ul>\n    <li> Projetado Adequadamente </li>\n    <li> Operar em Condições ideais </li>\n</ul>\n</ul>\n\n</td>\n</tr>\n\n</table>"
      }
     },
     "1e93afd99df64a44ad65e5ed399759a4": {
      "model_module": "@jupyter-widgets/base",
      "model_module_version": "1.2.0",
      "model_name": "LayoutModel",
      "state": {}
     },
     "1fe901df75234fd9b6be6c796dc98df5": {
      "model_module": "@jupyter-widgets/controls",
      "model_module_version": "1.5.0",
      "model_name": "DescriptionStyleModel",
      "state": {
       "description_width": ""
      }
     },
     "204194c7d3b442f28f4758904229d4d1": {
      "model_module": "@jupyter-widgets/base",
      "model_module_version": "1.2.0",
      "model_name": "LayoutModel",
      "state": {}
     },
     "204462479135487db95077ccffc36bef": {
      "model_module": "@jupyter-widgets/controls",
      "model_module_version": "1.5.0",
      "model_name": "HBoxModel",
      "state": {
       "children": [
        "IPY_MODEL_72fcc2f209c34c8d88d060a4c59c1d61",
        "IPY_MODEL_5d1192c824af442289e15cdef478319f"
       ],
       "layout": "IPY_MODEL_97ce6f34dca04201a0a592a1223998c5"
      }
     },
     "207973d4d0a249b3a4198d0ccd6f421a": {
      "model_module": "@jupyter-widgets/controls",
      "model_module_version": "1.5.0",
      "model_name": "DescriptionStyleModel",
      "state": {
       "description_width": ""
      }
     },
     "23116afcf2ad47768e03720b8a68a848": {
      "model_module": "@jupyter-widgets/base",
      "model_module_version": "1.2.0",
      "model_name": "LayoutModel",
      "state": {}
     },
     "23327a7022b444c3829057713c60ffbf": {
      "model_module": "@jupyter-widgets/controls",
      "model_module_version": "1.5.0",
      "model_name": "DescriptionStyleModel",
      "state": {
       "description_width": ""
      }
     },
     "23e3abc38db54bdd89e107baead3ab4b": {
      "model_module": "@jupyter-widgets/base",
      "model_module_version": "1.2.0",
      "model_name": "LayoutModel",
      "state": {}
     },
     "24468dd2ac904b8e826cbc6beb874149": {
      "model_module": "@jupyter-widgets/base",
      "model_module_version": "1.2.0",
      "model_name": "LayoutModel",
      "state": {}
     },
     "25009a80f16f417c9d3ab84b7acf10ea": {
      "model_module": "@jupyter-widgets/base",
      "model_module_version": "1.2.0",
      "model_name": "LayoutModel",
      "state": {
       "align_items": "center",
       "border": "0px solid",
       "height": "80px",
       "justify_content": "center",
       "width": "405px"
      }
     },
     "251935fe239746c7a432adbbb093e3db": {
      "model_module": "@jupyter-widgets/controls",
      "model_module_version": "1.5.0",
      "model_name": "VBoxModel",
      "state": {
       "children": [
        "IPY_MODEL_1df54a47e3034e6e919195f32d3f3ca9",
        "IPY_MODEL_ec64b986f1974401be7aace850ec499a"
       ],
       "layout": "IPY_MODEL_2c3f076e2b9f46378f33ece1dd4c3169"
      }
     },
     "251a54731265415e9cce8d284f5316f4": {
      "model_module": "@jupyter-widgets/controls",
      "model_module_version": "1.5.0",
      "model_name": "VBoxModel",
      "state": {
       "children": [
        "IPY_MODEL_1df54a47e3034e6e919195f32d3f3ca9",
        "IPY_MODEL_ec64b986f1974401be7aace850ec499a"
       ],
       "layout": "IPY_MODEL_66121aa1f7a84752ab223fb38fd9e599"
      }
     },
     "25404cb2c37e4d3f810953d64e7a9c2d": {
      "model_module": "@jupyter-widgets/base",
      "model_module_version": "1.2.0",
      "model_name": "LayoutModel",
      "state": {
       "align_items": "stretch",
       "display": "flex",
       "justify_content": "space-between",
       "overflow": "hidden hidden"
      }
     },
     "25657ead7bde4ed583e6757eac9b7a62": {
      "model_module": "@jupyter-widgets/controls",
      "model_module_version": "1.5.0",
      "model_name": "DescriptionStyleModel",
      "state": {
       "description_width": ""
      }
     },
     "25a8e1df8173418590faf7b3a4e528fd": {
      "model_module": "@jupyter-widgets/controls",
      "model_module_version": "1.5.0",
      "model_name": "LabelModel",
      "state": {
       "layout": "IPY_MODEL_6ab98740460b4d9db18229056841d15e",
       "style": "IPY_MODEL_b0bccf15ea3642c59e7136eb29d231f0",
       "value": "$$ S_i = A(x_i/x_1)^\\alpha Q_i $$"
      }
     },
     "25d76e0e149c48cf88a1cafcef5d466f": {
      "model_module": "@jupyter-widgets/base",
      "model_module_version": "1.2.0",
      "model_name": "LayoutModel",
      "state": {
       "height": "99%",
       "overflow": "hidden visible",
       "width": "65%"
      }
     },
     "2785b5997d044122bc362528686f84d0": {
      "model_module": "@jupyter-widgets/controls",
      "model_module_version": "1.5.0",
      "model_name": "DescriptionStyleModel",
      "state": {
       "description_width": ""
      }
     },
     "28b5edfc499242b990517e8947329d3c": {
      "model_module": "@jupyter-widgets/controls",
      "model_module_version": "1.5.0",
      "model_name": "HTMLMathModel",
      "state": {
       "layout": "IPY_MODEL_7ef4344f88b646b1aef4da0461bd3286",
       "style": "IPY_MODEL_a5662b38399249baaaaa3c4fd8f8a755",
       "value": "\n<h1> Forma Geral </h1>\n$$ \\frac{dw_i(t)}{dt} $$\n"
      }
     },
     "293d9f359b6840edbd3e0c028511a138": {
      "model_module": "@jupyter-widgets/base",
      "model_module_version": "1.2.0",
      "model_name": "LayoutModel",
      "state": {}
     },
     "2aafbc7201e2490282528659c2fdb35c": {
      "model_module": "@jupyter-widgets/controls",
      "model_module_version": "1.5.0",
      "model_name": "DescriptionStyleModel",
      "state": {
       "description_width": ""
      }
     },
     "2c3f076e2b9f46378f33ece1dd4c3169": {
      "model_module": "@jupyter-widgets/base",
      "model_module_version": "1.2.0",
      "model_name": "LayoutModel",
      "state": {
       "overflow": "hidden hidden"
      }
     },
     "2c8a9e75f29a4f7194d8f132873dbb7a": {
      "model_module": "@jupyter-widgets/base",
      "model_module_version": "1.2.0",
      "model_name": "LayoutModel",
      "state": {
       "height": "100%",
       "overflow": "hidden hidden",
       "width": "900px"
      }
     },
     "2d71ef144c264944a0623050d272c2c8": {
      "model_module": "@jupyter-widgets/controls",
      "model_module_version": "1.5.0",
      "model_name": "HTMLModel",
      "state": {
       "layout": "IPY_MODEL_9132062de32f4825be45f23b933be72b",
       "style": "IPY_MODEL_d1c38c49c186426fb130fc9bc0486bd4",
       "value": "<h1> Forma Geral </h1>"
      }
     },
     "2daefff7516b4aa1b5e98758e6745509": {
      "model_module": "@jupyter-widgets/controls",
      "model_module_version": "1.5.0",
      "model_name": "HTMLMathModel",
      "state": {
       "layout": "IPY_MODEL_ef1d4404bf68498cb06547718624a919",
       "style": "IPY_MODEL_bb7d13c891414337aadcc45e9037731b",
       "value": "\n<h4> Forma Geral </h4>\n$$ \\frac{dw_i(t)}{dt} = -S_iw_i(t) + \\sum_{j=1}^{i-1} b_{i,j}S_jw_i(t)$$\n"
      }
     },
     "317a1784378d41d9a0e26a8249b58f33": {
      "model_module": "@jupyter-widgets/controls",
      "model_module_version": "1.5.0",
      "model_name": "DescriptionStyleModel",
      "state": {
       "description_width": "0px"
      }
     },
     "31a61d69e6084edfb817d49c4e25bdd0": {
      "model_module": "@jupyter-widgets/base",
      "model_module_version": "1.2.0",
      "model_name": "LayoutModel",
      "state": {}
     },
     "3227ada64db34de599782fe18bf66ec6": {
      "model_module": "@jupyter-widgets/controls",
      "model_module_version": "1.5.0",
      "model_name": "ButtonStyleModel",
      "state": {}
     },
     "3277807f382842a3857204c357e00c01": {
      "model_module": "@jupyter-widgets/controls",
      "model_module_version": "1.5.0",
      "model_name": "VBoxModel",
      "state": {
       "children": [
        "IPY_MODEL_7aff7029ed564b7db162e884797e401e",
        "IPY_MODEL_594f929f2c034d6493d59347d9921fd7"
       ],
       "layout": "IPY_MODEL_3d025b3b0e1042b5bd5e6def09e9b507"
      }
     },
     "337884e4971e47d69e2c83bdc3b1c5f1": {
      "model_module": "@jupyter-widgets/controls",
      "model_module_version": "1.5.0",
      "model_name": "VBoxModel",
      "state": {
       "children": [
        "IPY_MODEL_5bcd104b3a2b432da799a66ec9ebe077",
        "IPY_MODEL_1830fbe887bd487c904367c5a354ec42"
       ],
       "layout": "IPY_MODEL_3c2ff7eba4324e7b88fb80ab66144ab6"
      }
     },
     "33d4bf3c803d49ee8f269ea9268b8817": {
      "model_module": "@jupyter-widgets/controls",
      "model_module_version": "1.5.0",
      "model_name": "ButtonStyleModel",
      "state": {}
     },
     "33f1c648fcfd40a1b2955f40815f1f0f": {
      "model_module": "@jupyter-widgets/base",
      "model_module_version": "1.2.0",
      "model_name": "LayoutModel",
      "state": {
       "overflow": "hidden hidden"
      }
     },
     "35537e7532e1428fa2457f0cfafca4f7": {
      "model_module": "@jupyter-widgets/controls",
      "model_module_version": "1.5.0",
      "model_name": "HBoxModel",
      "state": {
       "children": [
        "IPY_MODEL_64208f76d51c466a9060d752d436d9f5",
        "IPY_MODEL_0398a7323ace4e1b9775d4b024a14fb5"
       ],
       "layout": "IPY_MODEL_75889c2a722f4a8fa8d320905907f1da"
      }
     },
     "35be2e8dff87446884b5642c6857843e": {
      "model_module": "@jupyter-widgets/controls",
      "model_module_version": "1.5.0",
      "model_name": "HTMLMathModel",
      "state": {
       "layout": "IPY_MODEL_7352534b12f443ccbf9bc6bb830c38e0",
       "style": "IPY_MODEL_5ea42b138a4b457394b7bbb84d857a45",
       "value": "$dw_i(t) over dt$"
      }
     },
     "366a751dd4764c1aaea1d0d5471f50d5": {
      "model_module": "@jupyter-widgets/controls",
      "model_module_version": "1.5.0",
      "model_name": "HTMLModel",
      "state": {
       "layout": "IPY_MODEL_80239056be0c4b0ca1ffc44414f69e2d",
       "style": "IPY_MODEL_690dc7b91bf24f859978f32bb1503109",
       "value": "## Moagem\n<table>\n<tr>\n<th> Cominuição </th>\n<th> Moagem </th>\n</tr>\n<tr>\n<td>\n\n- Uso Internsivo de Energia <br >\n    - 3-4 % da energia mundial em 2013\n- Objetivos\n    - Manuseio e Transporte\n    - Liberação\n    - Área de Superfície\n    - Processos Subsequentes\n    - Especificações de Tamanho\n\n</td>\n<td>\n\n- Some Text\n\n</td>\n</tr>\n</table>\n"
      }
     },
     "36a6456c2b7747469f605415d736d844": {
      "model_module": "@jupyter-widgets/controls",
      "model_module_version": "1.5.0",
      "model_name": "HTMLMathModel",
      "state": {
       "layout": "IPY_MODEL_4b28f7e03d4042cebd2dd1dd840eac82",
       "style": "IPY_MODEL_f2627bf2bcd44815afeee34426a1c654",
       "value": "\n<h2> Forma Geral </h2>\n$$ \\frac{dw_i(t)}{dt} = -S_iw_i(t) + \\sum_{j=1}^{i-1} b_{i,j}S_jw_i(t)$$\n"
      }
     },
     "36b6c694b23445ed972aa6354388689e": {
      "model_module": "@jupyter-widgets/controls",
      "model_module_version": "1.5.0",
      "model_name": "VBoxModel",
      "state": {
       "children": [
        "IPY_MODEL_5bcd104b3a2b432da799a66ec9ebe077",
        "IPY_MODEL_1830fbe887bd487c904367c5a354ec42"
       ],
       "layout": "IPY_MODEL_4f12a96e79024ede9ba7fce203773711"
      }
     },
     "36d0819391a2489b8c8af1b2b1c6e29b": {
      "model_module": "@jupyter-widgets/base",
      "model_module_version": "1.2.0",
      "model_name": "LayoutModel",
      "state": {}
     },
     "3752aaeb02bd4e5fa5944728829106e1": {
      "model_module": "@jupyter-widgets/controls",
      "model_module_version": "1.5.0",
      "model_name": "HTMLMathModel",
      "state": {
       "layout": "IPY_MODEL_737101926c51466289eca2dc7cd29641",
       "style": "IPY_MODEL_a89c9195454c4532bbbabdc945cbf4a5",
       "value": "\n<h4> Forma Geral </h4>\n$$ \\frac{dw_i(t)}{dt} = -S_iw_i(t) + \\sum_{j=1}^{i-1} b_{i,j}S_jw_i(t)$$\n"
      }
     },
     "38ba45f087db44d38f72782daa5ade2f": {
      "model_module": "@jupyter-widgets/controls",
      "model_module_version": "1.5.0",
      "model_name": "VBoxModel",
      "state": {
       "children": [
        "IPY_MODEL_5bcd104b3a2b432da799a66ec9ebe077",
        "IPY_MODEL_1830fbe887bd487c904367c5a354ec42"
       ],
       "layout": "IPY_MODEL_63555a073632433eb22e8229bd8831ee"
      }
     },
     "39c81931f4734093b14fe95952491524": {
      "model_module": "@jupyter-widgets/base",
      "model_module_version": "1.2.0",
      "model_name": "LayoutModel",
      "state": {
       "overflow": "hidden hidden"
      }
     },
     "3abf0add7bcb470185910b38eb439b70": {
      "model_module": "@jupyter-widgets/controls",
      "model_module_version": "1.5.0",
      "model_name": "SliderStyleModel",
      "state": {
       "description_width": "10%"
      }
     },
     "3ae6be19ee1a4a2ea91e90385a1b9aed": {
      "model_module": "@jupyter-widgets/controls",
      "model_module_version": "1.5.0",
      "model_name": "DescriptionStyleModel",
      "state": {
       "description_width": ""
      }
     },
     "3b65538ffe1c4c95a2f9ddc7cf241de1": {
      "model_module": "@jupyter-widgets/controls",
      "model_module_version": "1.5.0",
      "model_name": "HBoxModel",
      "state": {
       "children": [
        "IPY_MODEL_49c4437b52634f1db4eb45317e32f9d8",
        "IPY_MODEL_12a43a762c4e43afa89330efb0024c2e"
       ],
       "layout": "IPY_MODEL_0392a3658bd94025ba09cf4ca5d34864"
      }
     },
     "3c2ff7eba4324e7b88fb80ab66144ab6": {
      "model_module": "@jupyter-widgets/base",
      "model_module_version": "1.2.0",
      "model_name": "LayoutModel",
      "state": {
       "overflow": "hidden hidden"
      }
     },
     "3cd81ef30aad4cc38354bf5745e8dc28": {
      "model_module": "bqplot",
      "model_module_version": "^0.5.32",
      "model_name": "LinearScaleModel",
      "state": {
       "max": 100,
       "min": 0,
       "stabilized": false
      }
     },
     "3d025b3b0e1042b5bd5e6def09e9b507": {
      "model_module": "@jupyter-widgets/base",
      "model_module_version": "1.2.0",
      "model_name": "LayoutModel",
      "state": {}
     },
     "3d3397962c7649f9955131c3793182a5": {
      "model_module": "@jupyter-widgets/controls",
      "model_module_version": "1.5.0",
      "model_name": "DescriptionStyleModel",
      "state": {
       "description_width": ""
      }
     },
     "3d99f8735d584fc5b1c55d95dd06e073": {
      "model_module": "@jupyter-widgets/base",
      "model_module_version": "1.2.0",
      "model_name": "LayoutModel",
      "state": {}
     },
     "3e9ad3ab660f48fe8b9ec18ca1ecadfb": {
      "model_module": "@jupyter-widgets/controls",
      "model_module_version": "1.5.0",
      "model_name": "HBoxModel",
      "state": {
       "children": [
        "IPY_MODEL_af01a0faf9f34dc38d40db35b6943fb6",
        "IPY_MODEL_d3286dfcd3b84f90b603cf6c5e2f917a"
       ],
       "layout": "IPY_MODEL_8da63fb26d7c4051945ceed1b438de5b"
      }
     },
     "3f1a6a2a901943a6add62a0515ee6b86": {
      "model_module": "@jupyter-widgets/controls",
      "model_module_version": "1.5.0",
      "model_name": "HTMLMathModel",
      "state": {
       "layout": "IPY_MODEL_3d99f8735d584fc5b1c55d95dd06e073",
       "style": "IPY_MODEL_3ae6be19ee1a4a2ea91e90385a1b9aed",
       "value": "\n<h1> Forma Geral </h1>\n$$ \\frac{dw_i(t)}{dt} = -S_iw_i(t) + \\sum_{i=1}^{i-1} b_{i,j}$$\n"
      }
     },
     "40cbf22c63684db28ff730bf7fe713cc": {
      "model_module": "@jupyter-widgets/controls",
      "model_module_version": "1.5.0",
      "model_name": "HTMLMathModel",
      "state": {
       "layout": "IPY_MODEL_494004362b5d4fa5873393a5638aed62",
       "style": "IPY_MODEL_c9bc504c714b4516b036e0c8a890bc7d",
       "value": "\n<h1> Forma Geral </h1>\n$ \frac{dw_i(t)}{dt} $\n"
      }
     },
     "40d1d480987d4aa19666bc08015a0802": {
      "buffers": [
       {
        "data": "mpmZmZmZuT8AAAAAAADwPw==",
        "encoding": "base64",
        "path": [
         "tick_values",
         "value"
        ]
       }
      ],
      "model_module": "bqplot",
      "model_module_version": "^0.5.32",
      "model_name": "AxisModel",
      "state": {
       "label": "Size (mm)",
       "scale": "IPY_MODEL_9a242733eeba41d594fdb60f7a8e89b6",
       "side": "bottom",
       "tick_format": "0.1f",
       "tick_values": {
        "dtype": "float64",
        "shape": [
         2
        ],
        "type": null
       }
      }
     },
     "428bc88fbc5549fe97532adc21fa443f": {
      "model_module": "@jupyter-widgets/controls",
      "model_module_version": "1.5.0",
      "model_name": "HBoxModel",
      "state": {
       "children": [
        "IPY_MODEL_ada278e3e3ad41dab64e300e9740b00e",
        "IPY_MODEL_476fbac828ef46f3be68b30a6a2593e7",
        "IPY_MODEL_ed26b239554f4b4aa6b9b618d367dd64",
        "IPY_MODEL_4a18cfc7b4844f01b92a5d1b7b5dd606"
       ],
       "layout": "IPY_MODEL_5c7178b7ca2845d0a0de578411c46d8c"
      }
     },
     "42b53f3d69214f68a316676a1fdef32b": {
      "model_module": "@jupyter-widgets/controls",
      "model_module_version": "1.5.0",
      "model_name": "HTMLMathModel",
      "state": {
       "layout": "IPY_MODEL_989ca7fdf0c948d792aeaccd2ceb0d61",
       "style": "IPY_MODEL_585a006437fb4621aef2f3028bcdb1b4",
       "value": "\n<h1> Forma Geral </h1>\n$ \\frac{dw_i(t)}{dt} $\n"
      }
     },
     "440fa0f1ab1449f99e43f84fc95047ce": {
      "model_module": "@jupyter-widgets/base",
      "model_module_version": "1.2.0",
      "model_name": "LayoutModel",
      "state": {}
     },
     "4580d8f8ee994345bdf5cf4ad58cfce1": {
      "model_module": "@jupyter-widgets/controls",
      "model_module_version": "1.5.0",
      "model_name": "VBoxModel",
      "state": {
       "children": [
        "IPY_MODEL_5bcd104b3a2b432da799a66ec9ebe077",
        "IPY_MODEL_1830fbe887bd487c904367c5a354ec42"
       ],
       "layout": "IPY_MODEL_1805712632d54a01a65149ee4414f40b"
      }
     },
     "461163f19b9840b7923bb71edb23e925": {
      "model_module": "@jupyter-widgets/base",
      "model_module_version": "1.2.0",
      "model_name": "LayoutModel",
      "state": {
       "height": "60px"
      }
     },
     "46b9edafeeb6402896c81808a631b2db": {
      "model_module": "bqplot",
      "model_module_version": "^0.5.32",
      "model_name": "AxisModel",
      "state": {
       "label": "Porcentagem Passante Acumulada",
       "orientation": "vertical",
       "scale": "IPY_MODEL_3cd81ef30aad4cc38354bf5745e8dc28",
       "side": "left",
       "tick_format": "0.1f",
       "tick_values": null
      }
     },
     "46e3fbcbc62f45048767ed3025d0de51": {
      "model_module": "@jupyter-widgets/base",
      "model_module_version": "1.2.0",
      "model_name": "LayoutModel",
      "state": {}
     },
     "46fe72b548784033b765748d4d55c439": {
      "model_module": "@jupyter-widgets/controls",
      "model_module_version": "1.5.0",
      "model_name": "CheckboxModel",
      "state": {
       "description": "Normalizada?",
       "disabled": false,
       "layout": "IPY_MODEL_8b7fe8f55a494f4e956275b69a969805",
       "style": "IPY_MODEL_d2cc3b7e901c4e409cff6e5439b14572",
       "value": true
      }
     },
     "476fbac828ef46f3be68b30a6a2593e7": {
      "model_module": "@jupyter-widgets/controls",
      "model_module_version": "1.5.0",
      "model_name": "ButtonModel",
      "state": {
       "button_style": "success",
       "description": "Retrocalc",
       "layout": "IPY_MODEL_783d5eca59984a088a7300b2d90e346f",
       "style": "IPY_MODEL_1d4e96286b364cfabbfc7d18141aa0a2",
       "tooltip": " Otimizar para Todas as Variaveis"
      }
     },
     "47b1db33f4be475abe0ad544e61951a8": {
      "model_module": "@jupyter-widgets/base",
      "model_module_version": "1.2.0",
      "model_name": "LayoutModel",
      "state": {
       "overflow": "hidden hidden"
      }
     },
     "48198e93c27a490eac031685655b4c4f": {
      "model_module": "bqplot",
      "model_module_version": "^0.5.32",
      "model_name": "LinearScaleModel",
      "state": {
       "allow_padding": false,
       "max": 1,
       "min": 0,
       "stabilized": false
      }
     },
     "494004362b5d4fa5873393a5638aed62": {
      "model_module": "@jupyter-widgets/base",
      "model_module_version": "1.2.0",
      "model_name": "LayoutModel",
      "state": {}
     },
     "49c4437b52634f1db4eb45317e32f9d8": {
      "model_module": "@jupyter-widgets/controls",
      "model_module_version": "1.5.0",
      "model_name": "VBoxModel",
      "state": {
       "children": [
        "IPY_MODEL_1df54a47e3034e6e919195f32d3f3ca9",
        "IPY_MODEL_ec64b986f1974401be7aace850ec499a"
       ],
       "layout": "IPY_MODEL_58897b289b0a4f909733de3646224bf9"
      }
     },
     "49cd8dd45a9f4639b5035d30e6d6a1c2": {
      "model_module": "@jupyter-widgets/base",
      "model_module_version": "1.2.0",
      "model_name": "LayoutModel",
      "state": {
       "overflow": "hidden hidden",
       "width": "500px"
      }
     },
     "4a04592500e9425080ba30be7f42b812": {
      "model_module": "@jupyter-widgets/base",
      "model_module_version": "1.2.0",
      "model_name": "LayoutModel",
      "state": {
       "overflow": "hidden hidden"
      }
     },
     "4a18cfc7b4844f01b92a5d1b7b5dd606": {
      "model_module": "@jupyter-widgets/controls",
      "model_module_version": "1.5.0",
      "model_name": "DropdownModel",
      "state": {
       "_options_labels": [
        "leastsq",
        "least_squares",
        "differential_evolution",
        "brute",
        "nelder",
        "lbfgsb",
        "powell",
        "cg",
        "dogleg",
        "slsqp",
        "shgo",
        "dual_annealing"
       ],
       "description": "Optimization Method:",
       "index": 0,
       "layout": "IPY_MODEL_5dd07c351c784b43881faf1b35594067",
       "style": "IPY_MODEL_0f9ef0a5f197466bb2cd6f3da2481c25"
      }
     },
     "4b28f7e03d4042cebd2dd1dd840eac82": {
      "model_module": "@jupyter-widgets/base",
      "model_module_version": "1.2.0",
      "model_name": "LayoutModel",
      "state": {}
     },
     "4b92a12702e44ad28035090902370e3b": {
      "model_module": "@jupyter-widgets/base",
      "model_module_version": "1.2.0",
      "model_name": "LayoutModel",
      "state": {
       "height": "100%",
       "overflow": "hidden hidden",
       "width": "900px"
      }
     },
     "4be7fa08b7ec4da5acf53d7781f86f36": {
      "model_module": "@jupyter-widgets/base",
      "model_module_version": "1.2.0",
      "model_name": "LayoutModel",
      "state": {
       "height": "100%",
       "overflow": "hidden hidden",
       "width": "900px"
      }
     },
     "4cc6fe45253c4f7280348e427cfb24c2": {
      "model_module": "@jupyter-widgets/base",
      "model_module_version": "1.2.0",
      "model_name": "LayoutModel",
      "state": {
       "overflow": "hidden hidden",
       "width": "700px"
      }
     },
     "4d15869ab2ec4e369c0b6fb5f0765c44": {
      "model_module": "@jupyter-widgets/base",
      "model_module_version": "1.2.0",
      "model_name": "LayoutModel",
      "state": {}
     },
     "4d190d01e949429e9acd99b68c8e87bb": {
      "model_module": "@jupyter-widgets/controls",
      "model_module_version": "1.5.0",
      "model_name": "DescriptionStyleModel",
      "state": {
       "description_width": ""
      }
     },
     "4d681e55d47c4af29af202afdbe5740a": {
      "model_module": "@jupyter-widgets/controls",
      "model_module_version": "1.5.0",
      "model_name": "HBoxModel",
      "state": {
       "children": [
        "IPY_MODEL_76fc7c0b5c99485daa570a5eb37aaafb",
        "IPY_MODEL_38ba45f087db44d38f72782daa5ade2f"
       ],
       "layout": "IPY_MODEL_4b92a12702e44ad28035090902370e3b"
      }
     },
     "4de51ae944814002bc6843881579a6a9": {
      "model_module": "@jupyter-widgets/base",
      "model_module_version": "1.2.0",
      "model_name": "LayoutModel",
      "state": {
       "height": "500px",
       "overflow": "hidden hidden"
      }
     },
     "4e52b6f8df804c73a6a6bec0dd58409c": {
      "buffers": [
       {
        "data": "4XoUrkfh8j8zMzMzMzPjPzMzMzMzM9s/MzMzMzMz0z+JQWDl0CLLPzMzMzMzM8M/iUFg5dAiuz+JQWDl0CKrP9v5fmq8dKM//Knx0k1iUD8=",
        "encoding": "base64",
        "path": [
         "x",
         "value"
        ]
       },
       {
        "data": "AAAAAAAAAAAAAAAAAAAAAAAAAAAAAAAAAAAAAAAAAAAAAAAAAAAAAAAAAAAAAAAAAAAAAAAAAAAAAAAAAAAAAAAAAAAAAAAAAAAAAAAAAAA=",
        "encoding": "base64",
        "path": [
         "y",
         "value"
        ]
       }
      ],
      "model_module": "bqplot",
      "model_module_version": "^0.5.32",
      "model_name": "LinesModel",
      "state": {
       "colors": [
        "magenta"
       ],
       "fill_colors": [],
       "interpolation": "basis",
       "labels": [
        "C1"
       ],
       "scales": {
        "x": "IPY_MODEL_9a242733eeba41d594fdb60f7a8e89b6",
        "y": "IPY_MODEL_ca5c2df220be46fdb9981b86ed6115f3"
       },
       "x": {
        "dtype": "float64",
        "shape": [
         10
        ],
        "type": null
       },
       "y": {
        "dtype": "float64",
        "shape": [
         10
        ],
        "type": null
       }
      }
     },
     "4f12a96e79024ede9ba7fce203773711": {
      "model_module": "@jupyter-widgets/base",
      "model_module_version": "1.2.0",
      "model_name": "LayoutModel",
      "state": {
       "height": "100%",
       "overflow": "hidden hidden"
      }
     },
     "514a9f156d0f4529a5ed208d9b922958": {
      "model_module": "@jupyter-widgets/controls",
      "model_module_version": "1.5.0",
      "model_name": "HBoxModel",
      "state": {
       "children": [
        "IPY_MODEL_80ee0f1a205b44b38650e110ac99f534",
        "IPY_MODEL_d823b78ff75645e3bda4dba8906951c9"
       ],
       "layout": "IPY_MODEL_49cd8dd45a9f4639b5035d30e6d6a1c2"
      }
     },
     "5210565cbcfb48e5a3681331fc8b21da": {
      "model_module": "@jupyter-widgets/base",
      "model_module_version": "1.2.0",
      "model_name": "LayoutModel",
      "state": {
       "overflow": "hidden hidden"
      }
     },
     "54880e4175544c30b6388b8cfb36d103": {
      "model_module": "@jupyter-widgets/base",
      "model_module_version": "1.2.0",
      "model_name": "LayoutModel",
      "state": {}
     },
     "54c47ae043574f8d8c7d2e138ddd171f": {
      "model_module": "@jupyter-widgets/controls",
      "model_module_version": "1.5.0",
      "model_name": "HTMLModel",
      "state": {
       "layout": "IPY_MODEL_aa58380d8247485baf91416471879ebd",
       "style": "IPY_MODEL_59a2b160e9fe4d1f935b5a36b51263b6",
       "value": "## Moagem\n<table>\n<tr>\n<th> Cominuição </th>\n<th> Moagem </th>\n</tr>\n<tr>\n<td>\n\n- Uso Internsivo de Energia\n    - 3-4 % da energia mundial em 2013\n- Objetivos\n    - Manuseio e Transporte\n    - Liberação\n    - Área de Superfície\n    - Processos Subsequentes\n    - Especificações de Tamanho\n\n</td>\n<td>\n\n- Some Text\n\n</td>\n</tr>\n</table>\n"
      }
     },
     "55463a73303444afa1b49ded18c05102": {
      "model_module": "@jupyter-widgets/controls",
      "model_module_version": "1.5.0",
      "model_name": "VBoxModel",
      "state": {
       "children": [
        "IPY_MODEL_aa6e609b0f73400e999b3bf930a6b18e",
        "IPY_MODEL_818ae59a3f7d4a929e92b090526fb0fc"
       ],
       "layout": "IPY_MODEL_16c1a1fc88cc42c3a4a335b163080064"
      }
     },
     "55707cc8554446b28229d9a9b881e5a7": {
      "model_module": "@jupyter-widgets/controls",
      "model_module_version": "1.5.0",
      "model_name": "HTMLModel",
      "state": {
       "layout": "IPY_MODEL_befba87b1e3a4711a2bd75b16d5fed98",
       "style": "IPY_MODEL_60907560f0e145f5b433d2cc390073f3",
       "value": "<h1> Forma Geral </h1>"
      }
     },
     "5625d17566324519a3a2887598415ec7": {
      "model_module": "@jupyter-widgets/base",
      "model_module_version": "1.2.0",
      "model_name": "LayoutModel",
      "state": {}
     },
     "564aa77788ef4a67a26c842bc06e4d8d": {
      "model_module": "@jupyter-widgets/controls",
      "model_module_version": "1.5.0",
      "model_name": "DescriptionStyleModel",
      "state": {
       "description_width": "27%"
      }
     },
     "585a006437fb4621aef2f3028bcdb1b4": {
      "model_module": "@jupyter-widgets/controls",
      "model_module_version": "1.5.0",
      "model_name": "DescriptionStyleModel",
      "state": {
       "description_width": ""
      }
     },
     "58683890cff047538afc2ba644085f01": {
      "model_module": "@jupyter-widgets/controls",
      "model_module_version": "1.5.0",
      "model_name": "VBoxModel",
      "state": {
       "children": [
        "IPY_MODEL_428bc88fbc5549fe97532adc21fa443f",
        "IPY_MODEL_55463a73303444afa1b49ded18c05102",
        "IPY_MODEL_f6b0890f06844e5a923be25a3a2eb86d"
       ],
       "layout": "IPY_MODEL_60f7029e3c2e4fef859f946d019e24a0"
      }
     },
     "58897b289b0a4f909733de3646224bf9": {
      "model_module": "@jupyter-widgets/base",
      "model_module_version": "1.2.0",
      "model_name": "LayoutModel",
      "state": {
       "overflow": "hidden hidden"
      }
     },
     "588cc0131f7a4717b3dc7d618c4312e3": {
      "buffers": [
       {
        "data": "AAAAAAAA8D8=",
        "encoding": "base64",
        "path": [
         "opacities",
         "value"
        ]
       },
       {
        "data": "4XoUrkfh8j8zMzMzMzPjPzMzMzMzM9s/MzMzMzMz0z+JQWDl0CLLPzMzMzMzM8M/iUFg5dAiuz+JQWDl0CKrP9v5fmq8dKM//Knx0k1iUD8=",
        "encoding": "base64",
        "path": [
         "x",
         "value"
        ]
       },
       {
        "data": "AAAAAAAAWUBeRcRdk8JAQEBD7pdZ8xJA4FCtbSWjB0DA8E/RMYYBQEBQrW0lo/c/gGXEWtiP8z+AOZaAcrbrPwDCVGIqMeU/AAAAAAAANL0=",
        "encoding": "base64",
        "path": [
         "y",
         "value"
        ]
       }
      ],
      "model_module": "bqplot",
      "model_module_version": "^0.5.32",
      "model_name": "ScatterModel",
      "state": {
       "colors": [
        "blue"
       ],
       "label_display_horizontal_offset": 0,
       "label_display_vertical_offset": 0,
       "names": null,
       "opacities": {
        "dtype": "float64",
        "shape": [
         1
        ],
        "type": null
       },
       "scales": {
        "x": "IPY_MODEL_9a242733eeba41d594fdb60f7a8e89b6",
        "y": "IPY_MODEL_3cd81ef30aad4cc38354bf5745e8dc28"
       },
       "scales_metadata": {
        "color": {
         "dimension": "color"
        },
        "opacity": {
         "dimension": "opacity"
        },
        "rotation": {
         "dimension": "rotation"
        },
        "size": {
         "dimension": "size"
        },
        "skew": {
         "dimension": "skew"
        },
        "x": {
         "dimension": "x",
         "orientation": "horizontal"
        },
        "y": {
         "dimension": "y",
         "orientation": "vertical"
        }
       },
       "x": {
        "dtype": "float64",
        "shape": [
         10
        ],
        "type": null
       },
       "y": {
        "dtype": "float64",
        "shape": [
         10
        ],
        "type": null
       }
      }
     },
     "594f929f2c034d6493d59347d9921fd7": {
      "model_module": "@jupyter-widgets/controls",
      "model_module_version": "1.5.0",
      "model_name": "LabelModel",
      "state": {
       "layout": "IPY_MODEL_f5eb4c14648a49739492f4169143a97c",
       "style": "IPY_MODEL_3d3397962c7649f9955131c3793182a5",
       "value": "$$ \\Phi_j = \\Phi_1 (x_j/x_1)^{-\\delta}$$"
      }
     },
     "59a2b160e9fe4d1f935b5a36b51263b6": {
      "model_module": "@jupyter-widgets/controls",
      "model_module_version": "1.5.0",
      "model_name": "DescriptionStyleModel",
      "state": {
       "description_width": ""
      }
     },
     "5ab03e16517043e6b23291be4f0b6490": {
      "model_module": "@jupyter-widgets/controls",
      "model_module_version": "1.5.0",
      "model_name": "FloatSliderModel",
      "state": {
       "description": "$\\mu$",
       "layout": "IPY_MODEL_ee9a7bf9cf2a4853a6ae724845c80905",
       "max": 3,
       "min": 1.4,
       "step": 0.05,
       "style": "IPY_MODEL_acc5b47172fb4929a3dc02442b82eaba",
       "value": 1.7
      }
     },
     "5b9f9881096e470b8e7348593c668c86": {
      "model_module": "@jupyter-widgets/base",
      "model_module_version": "1.2.0",
      "model_name": "LayoutModel",
      "state": {
       "height": "95vh",
       "overflow": "hidden hidden",
       "width": "99%"
      }
     },
     "5bcd104b3a2b432da799a66ec9ebe077": {
      "model_module": "bqplot",
      "model_module_version": "^0.5.32",
      "model_name": "FigureModel",
      "state": {
       "animation_duration": 1000,
       "axes": [
        "IPY_MODEL_40d1d480987d4aa19666bc08015a0802",
        "IPY_MODEL_8883a5c1a6ff4bf5b045cb7f88364415"
       ],
       "fig_margin": {
        "bottom": 40,
        "left": 50,
        "right": 50,
        "top": 0
       },
       "layout": "IPY_MODEL_c72aeebdd8704f209e07c0453531fea7",
       "legend_location": "top-left",
       "marks": [
        "IPY_MODEL_4e52b6f8df804c73a6a6bec0dd58409c"
       ],
       "scale_x": "IPY_MODEL_48198e93c27a490eac031685655b4c4f",
       "scale_y": "IPY_MODEL_cc647f7fc44049e6bea31fdae5ef7840",
       "title": "Breakage",
       "title_style": {
        "font-size": "20px"
       }
      }
     },
     "5c7178b7ca2845d0a0de578411c46d8c": {
      "model_module": "@jupyter-widgets/base",
      "model_module_version": "1.2.0",
      "model_name": "LayoutModel",
      "state": {
       "align_items": "center",
       "height": "5%",
       "min_height": "5%",
       "overflow": "hidden hidden",
       "width": "100%"
      }
     },
     "5cc5a1b81a0b43f397bcb9823b2fc153": {
      "model_module": "@jupyter-widgets/controls",
      "model_module_version": "1.5.0",
      "model_name": "DescriptionStyleModel",
      "state": {
       "description_width": ""
      }
     },
     "5cd4f6cb95624c22a406d0a3cd961615": {
      "model_module": "@jupyter-widgets/controls",
      "model_module_version": "1.5.0",
      "model_name": "DescriptionStyleModel",
      "state": {
       "description_width": ""
      }
     },
     "5d1192c824af442289e15cdef478319f": {
      "model_module": "@jupyter-widgets/controls",
      "model_module_version": "1.5.0",
      "model_name": "VBoxModel",
      "state": {
       "children": [
        "IPY_MODEL_5bcd104b3a2b432da799a66ec9ebe077",
        "IPY_MODEL_1830fbe887bd487c904367c5a354ec42"
       ],
       "layout": "IPY_MODEL_33f1c648fcfd40a1b2955f40815f1f0f"
      }
     },
     "5dd07c351c784b43881faf1b35594067": {
      "model_module": "@jupyter-widgets/base",
      "model_module_version": "1.2.0",
      "model_name": "LayoutModel",
      "state": {}
     },
     "5ea42b138a4b457394b7bbb84d857a45": {
      "model_module": "@jupyter-widgets/controls",
      "model_module_version": "1.5.0",
      "model_name": "DescriptionStyleModel",
      "state": {
       "description_width": ""
      }
     },
     "60907560f0e145f5b433d2cc390073f3": {
      "model_module": "@jupyter-widgets/controls",
      "model_module_version": "1.5.0",
      "model_name": "DescriptionStyleModel",
      "state": {
       "description_width": ""
      }
     },
     "60b1065131fe439eb7dc1a4994736057": {
      "model_module": "@jupyter-widgets/base",
      "model_module_version": "1.2.0",
      "model_name": "LayoutModel",
      "state": {}
     },
     "60f7029e3c2e4fef859f946d019e24a0": {
      "model_module": "@jupyter-widgets/base",
      "model_module_version": "1.2.0",
      "model_name": "LayoutModel",
      "state": {}
     },
     "61386b13438e40ecae720896bcc9dc63": {
      "model_module": "@jupyter-widgets/controls",
      "model_module_version": "1.5.0",
      "model_name": "SliderStyleModel",
      "state": {
       "description_width": "10%"
      }
     },
     "6195853b1d684276a76253d5eaeb11f7": {
      "model_module": "@jupyter-widgets/base",
      "model_module_version": "1.2.0",
      "model_name": "LayoutModel",
      "state": {
       "width": "100%"
      }
     },
     "61c1be30f91749edb3d362396853459e": {
      "model_module": "@jupyter-widgets/base",
      "model_module_version": "1.2.0",
      "model_name": "LayoutModel",
      "state": {}
     },
     "62185039e56f4359bbd53154be422464": {
      "model_module": "@jupyter-widgets/controls",
      "model_module_version": "1.5.0",
      "model_name": "HTMLMathModel",
      "state": {
       "layout": "IPY_MODEL_fa9a398c14ce4775bf0486c219d03bbf",
       "style": "IPY_MODEL_d1f5328dcd2846f9890ea45f4807f437",
       "value": "\n<h1> Forma Geral </h1>\n$$ \\frac{dw_i(t)}{dt} = -S_iw_i(t) + \\sum_{j=1}^{i-1} b_{i,j}S_jw_i(t)$$\n"
      }
     },
     "628624d3b2b6472e806a5c11bb37077b": {
      "model_module": "@jupyter-widgets/controls",
      "model_module_version": "1.5.0",
      "model_name": "FloatSliderModel",
      "state": {
       "description": "$\\gamma$",
       "layout": "IPY_MODEL_b9ffd23f2055446abe7cfbad3c89f886",
       "max": 1.3,
       "min": 0.5,
       "step": 0.01,
       "style": "IPY_MODEL_fe585b56db794ddb91b24728ea2310cd",
       "value": 0.5
      }
     },
     "628c19ba4dd347e8b100438696e02aa3": {
      "model_module": "@jupyter-widgets/controls",
      "model_module_version": "1.5.0",
      "model_name": "DescriptionStyleModel",
      "state": {
       "description_width": ""
      }
     },
     "62a188255459442592aa25ba66dc92bf": {
      "model_module": "@jupyter-widgets/controls",
      "model_module_version": "1.5.0",
      "model_name": "HBoxModel",
      "state": {
       "children": [
        "IPY_MODEL_ec028af01da7409f94cb19d94178da06",
        "IPY_MODEL_c8c96e9bcd7f48138ccad02c8e748a18"
       ],
       "layout": "IPY_MODEL_71d7601fabb947d1ba2be0bd974ecc18"
      }
     },
     "63555a073632433eb22e8229bd8831ee": {
      "model_module": "@jupyter-widgets/base",
      "model_module_version": "1.2.0",
      "model_name": "LayoutModel",
      "state": {
       "height": "450px",
       "overflow": "hidden hidden"
      }
     },
     "64208f76d51c466a9060d752d436d9f5": {
      "model_module": "@jupyter-widgets/controls",
      "model_module_version": "1.5.0",
      "model_name": "VBoxModel",
      "state": {
       "children": [
        "IPY_MODEL_1df54a47e3034e6e919195f32d3f3ca9",
        "IPY_MODEL_ec64b986f1974401be7aace850ec499a"
       ],
       "layout": "IPY_MODEL_69eb59013e7f467d934d2ccc6c5f320a"
      }
     },
     "648c2ecbe58842308c10db6fabbe6f84": {
      "model_module": "@jupyter-widgets/controls",
      "model_module_version": "1.5.0",
      "model_name": "DescriptionStyleModel",
      "state": {
       "description_width": ""
      }
     },
     "65501e1097654d249f5a1239c9d147a6": {
      "buffers": [
       {
        "data": "AAAAAAAA8D8=",
        "encoding": "base64",
        "path": [
         "opacities",
         "value"
        ]
       },
       {
        "data": "4XoUrkfh8j8zMzMzMzPjPzMzMzMzM9s/MzMzMzMz0z+JQWDl0CLLPzMzMzMzM8M/iUFg5dAiuz+JQWDl0CKrP9v5fmq8dKM//Knx0k1iUD8=",
        "encoding": "base64",
        "path": [
         "x",
         "value"
        ]
       },
       {
        "data": "AAAAAAAAWUDJIEu06OhUQLf9isOD10tA0VsF8VzaRED0X+gvPYA7QLypwGXOizNAcIlC9P7oLkBYWmQxEqMiQLDqiYuGFx1AAAAAAAAAIL0=",
        "encoding": "base64",
        "path": [
         "y",
         "value"
        ]
       }
      ],
      "model_module": "bqplot",
      "model_module_version": "^0.5.32",
      "model_name": "ScatterModel",
      "state": {
       "colors": [
        "magenta"
       ],
       "label_display_horizontal_offset": 0,
       "label_display_vertical_offset": 0,
       "names": null,
       "opacities": {
        "dtype": "float64",
        "shape": [
         1
        ],
        "type": null
       },
       "scales": {
        "x": "IPY_MODEL_9a242733eeba41d594fdb60f7a8e89b6",
        "y": "IPY_MODEL_3cd81ef30aad4cc38354bf5745e8dc28"
       },
       "scales_metadata": {
        "color": {
         "dimension": "color"
        },
        "opacity": {
         "dimension": "opacity"
        },
        "rotation": {
         "dimension": "rotation"
        },
        "size": {
         "dimension": "size"
        },
        "skew": {
         "dimension": "skew"
        },
        "x": {
         "dimension": "x",
         "orientation": "horizontal"
        },
        "y": {
         "dimension": "y",
         "orientation": "vertical"
        }
       },
       "x": {
        "dtype": "float64",
        "shape": [
         10
        ],
        "type": null
       },
       "y": {
        "dtype": "float64",
        "shape": [
         10
        ],
        "type": null
       }
      }
     },
     "66121aa1f7a84752ab223fb38fd9e599": {
      "model_module": "@jupyter-widgets/base",
      "model_module_version": "1.2.0",
      "model_name": "LayoutModel",
      "state": {
       "overflow": "hidden hidden"
      }
     },
     "67953619afc2468892c1e4ecbef5482a": {
      "model_module": "@jupyter-widgets/controls",
      "model_module_version": "1.5.0",
      "model_name": "HTMLModel",
      "state": {
       "layout": "IPY_MODEL_dacf00c1c4c647f8a56d5212447106a1",
       "style": "IPY_MODEL_949a054b3d6d4869bf8731ef52601ac0",
       "value": "<h2>Moagem</h2>\n<table>\n\n<tr>\n<th> Cominuição </th>\n<th> Moagem </th>\n</tr>\n\n<tr>\n<td>\n\n<ul>\n<li> Uso Internsivo de Energia </li>\n<ul>\n    <li>     3-4 % da energia mundial em 2013 </li>\n</ul>\n<li> Objetivos </li>\n<ul>\n    <li> Manuseio e Transporte </li>\n    <li> Liberação </li>\n    <li> Área de Superfície </li>\n    <li> Processos Subsequentes </li>\n    <li> Especificações de Tamanho </li>\n</ul>\n\n</td>\n<td>\n\n<ul>\n<li> Elevado Investimento Inicial </li>\n<li> Elevado Custo Energético </li>\n<li> Viabilidade Econômica </li>\n<li> Deve ser: </li>\n<ul>\n    <li> Projetado Adequadamente </li>\n    <li> Operar em Condições ideais </li>\n</ul>\n</ul>\n\n</td>\n</tr>\n\n</table>"
      }
     },
     "680a71a5cb1642b9bfea4d25a9743262": {
      "model_module": "@jupyter-widgets/controls",
      "model_module_version": "1.5.0",
      "model_name": "VBoxModel",
      "state": {
       "children": [
        "IPY_MODEL_5bcd104b3a2b432da799a66ec9ebe077",
        "IPY_MODEL_1830fbe887bd487c904367c5a354ec42"
       ],
       "layout": "IPY_MODEL_4de51ae944814002bc6843881579a6a9"
      }
     },
     "683f73f1e88146808e1d418e12db6247": {
      "model_module": "@jupyter-widgets/base",
      "model_module_version": "1.2.0",
      "model_name": "LayoutModel",
      "state": {
       "height": "100%",
       "overflow": "hidden hidden",
       "width": "1000px"
      }
     },
     "690dc7b91bf24f859978f32bb1503109": {
      "model_module": "@jupyter-widgets/controls",
      "model_module_version": "1.5.0",
      "model_name": "DescriptionStyleModel",
      "state": {
       "description_width": ""
      }
     },
     "699fc71872264a4fa717b0a1f3e73f49": {
      "model_module": "@jupyter-widgets/controls",
      "model_module_version": "1.5.0",
      "model_name": "VBoxModel",
      "state": {
       "children": [
        "IPY_MODEL_1bba2b5f41524baa89b25497fa3cb51e",
        "IPY_MODEL_b4ff394a606b4a1fa3795fdf0ea83253"
       ],
       "layout": "IPY_MODEL_a2f0951101874272bae27d266e622d0f"
      }
     },
     "69eb59013e7f467d934d2ccc6c5f320a": {
      "model_module": "@jupyter-widgets/base",
      "model_module_version": "1.2.0",
      "model_name": "LayoutModel",
      "state": {
       "align_items": "stretch",
       "display": "flex",
       "justify_content": "space-between",
       "overflow": "hidden hidden"
      }
     },
     "6a271701e4bc4889a44c113ea189d431": {
      "buffers": [
       {
        "data": "4XoUrkfh8j8zMzMzMzPjPzMzMzMzM9s/MzMzMzMz0z+JQWDl0CLLPzMzMzMzM8M/iUFg5dAiuz+JQWDl0CKrP9v5fmq8dKM//Knx0k1iUD8=",
        "encoding": "base64",
        "path": [
         "x",
         "value"
        ]
       },
       {
        "data": "AAAAAAAAWUAAAAAAAAAAAAAAAAAAAAAAAAAAAAAAAAAAAAAAAAAAAAAAAAAAAAAAAAAAAAAAAAAAAAAAAAAAAAAAAAAAAAAAAAAAAAAAAAA=",
        "encoding": "base64",
        "path": [
         "y",
         "value"
        ]
       }
      ],
      "model_module": "bqplot",
      "model_module_version": "^0.5.32",
      "model_name": "LinesModel",
      "state": {
       "colors": [
        "gray"
       ],
       "fill_colors": [],
       "labels": [
        "C1"
       ],
       "scales": {
        "x": "IPY_MODEL_9a242733eeba41d594fdb60f7a8e89b6",
        "y": "IPY_MODEL_3cd81ef30aad4cc38354bf5745e8dc28"
       },
       "x": {
        "dtype": "float64",
        "shape": [
         10
        ],
        "type": null
       },
       "y": {
        "dtype": "float64",
        "shape": [
         10
        ],
        "type": null
       }
      }
     },
     "6ab98740460b4d9db18229056841d15e": {
      "model_module": "@jupyter-widgets/base",
      "model_module_version": "1.2.0",
      "model_name": "LayoutModel",
      "state": {
       "height": "60px"
      }
     },
     "6b42e7cc3f0748b6beac0b0945ce59d4": {
      "model_module": "@jupyter-widgets/controls",
      "model_module_version": "1.5.0",
      "model_name": "HTMLModel",
      "state": {
       "layout": "IPY_MODEL_139f176e58ff4a8fa32872951bb35b89",
       "style": "IPY_MODEL_d8d109fa30aa4d489f1ab2139fcb38f2",
       "value": "<h1>Moagem</h1>\n<table>\n<tr>\n<th> Cominuição </th>\n<th> Moagem </th>\n</tr>\n<tr>\n<td>\n\n- Uso Internsivo de Energia <br >\n    - 3-4 % da energia mundial em 2013 <br >\n- Objetivos <br >\n    - Manuseio e Transporte <br >\n    - Liberação <br >\n    - Área de Superfície <br >\n    - Processos Subsequentes <br >\n    - Especificações de Tamanho\n\n</td>\n<td>\n\n- Some Text\n\n</td>\n</tr>\n</table>\n"
      }
     },
     "6cdd086faa014b7ea21c774657695adc": {
      "model_module": "@jupyter-widgets/controls",
      "model_module_version": "1.5.0",
      "model_name": "VBoxModel",
      "state": {
       "children": [
        "IPY_MODEL_1df54a47e3034e6e919195f32d3f3ca9",
        "IPY_MODEL_ec64b986f1974401be7aace850ec499a"
       ],
       "layout": "IPY_MODEL_77822f22a4ea48929543e8a48ae722bd"
      }
     },
     "71d7601fabb947d1ba2be0bd974ecc18": {
      "model_module": "@jupyter-widgets/base",
      "model_module_version": "1.2.0",
      "model_name": "LayoutModel",
      "state": {
       "align_items": "stretch",
       "display": "flex",
       "justify_content": "space-between",
       "overflow": "hidden hidden"
      }
     },
     "72c34ae0299743a9b002f1255ae093d7": {
      "model_module": "@jupyter-widgets/controls",
      "model_module_version": "1.5.0",
      "model_name": "VBoxModel",
      "state": {
       "children": [
        "IPY_MODEL_1df54a47e3034e6e919195f32d3f3ca9",
        "IPY_MODEL_ec64b986f1974401be7aace850ec499a"
       ],
       "layout": "IPY_MODEL_dcb30bdb3d71477788869d66fd3f07d6"
      }
     },
     "72fcc2f209c34c8d88d060a4c59c1d61": {
      "model_module": "@jupyter-widgets/controls",
      "model_module_version": "1.5.0",
      "model_name": "VBoxModel",
      "state": {
       "children": [
        "IPY_MODEL_1df54a47e3034e6e919195f32d3f3ca9",
        "IPY_MODEL_ec64b986f1974401be7aace850ec499a"
       ],
       "layout": "IPY_MODEL_dda820e3f0f841109a7ef188010a364b"
      }
     },
     "7352534b12f443ccbf9bc6bb830c38e0": {
      "model_module": "@jupyter-widgets/base",
      "model_module_version": "1.2.0",
      "model_name": "LayoutModel",
      "state": {}
     },
     "737101926c51466289eca2dc7cd29641": {
      "model_module": "@jupyter-widgets/base",
      "model_module_version": "1.2.0",
      "model_name": "LayoutModel",
      "state": {}
     },
     "73ab3e5d47e74f55b23dd1735ab28f45": {
      "model_module": "@jupyter-widgets/controls",
      "model_module_version": "1.5.0",
      "model_name": "DescriptionStyleModel",
      "state": {
       "description_width": ""
      }
     },
     "7470e004686948fabc1203652914e58b": {
      "model_module": "@jupyter-widgets/controls",
      "model_module_version": "1.5.0",
      "model_name": "VBoxModel",
      "state": {
       "children": [
        "IPY_MODEL_5bcd104b3a2b432da799a66ec9ebe077",
        "IPY_MODEL_1830fbe887bd487c904367c5a354ec42"
       ],
       "layout": "IPY_MODEL_01bcab124afa4200abd006cd6c6ff6f4"
      }
     },
     "75889c2a722f4a8fa8d320905907f1da": {
      "model_module": "@jupyter-widgets/base",
      "model_module_version": "1.2.0",
      "model_name": "LayoutModel",
      "state": {
       "align_items": "stretch",
       "display": "flex",
       "height": "45%",
       "justify_content": "space-between",
       "min_height": "45%",
       "overflow": "hidden hidden",
       "width": "100%"
      }
     },
     "7619a13091824a038074dca3d5e6b71c": {
      "model_module": "@jupyter-widgets/controls",
      "model_module_version": "1.5.0",
      "model_name": "HTMLModel",
      "state": {
       "layout": "IPY_MODEL_61c1be30f91749edb3d362396853459e",
       "style": "IPY_MODEL_98335597d2c24f2d81fb0e729ef2b532",
       "value": "<h1> Forma Geral </h1>"
      }
     },
     "76fc7c0b5c99485daa570a5eb37aaafb": {
      "model_module": "@jupyter-widgets/controls",
      "model_module_version": "1.5.0",
      "model_name": "VBoxModel",
      "state": {
       "children": [
        "IPY_MODEL_1df54a47e3034e6e919195f32d3f3ca9",
        "IPY_MODEL_ec64b986f1974401be7aace850ec499a"
       ],
       "layout": "IPY_MODEL_ddfe9672624a4aeb82d1ad5c9cb90132"
      }
     },
     "771cca2dbd50444c84633c280b038e29": {
      "model_module": "@jupyter-widgets/controls",
      "model_module_version": "1.5.0",
      "model_name": "HTMLModel",
      "state": {
       "layout": "IPY_MODEL_060e4ad2dc074b7385857898ae1f04da",
       "style": "IPY_MODEL_2aafbc7201e2490282528659c2fdb35c",
       "value": "<h2>Moagem</h2>\n<table>\n\n<tr>\n<th> Cominuição </th>\n<th> Moagem </th>\n</tr>\n\n<tr>\n<td>\n\n<ul>\n<li> Uso Internsivo de Energia </li>\n<ul><li>     3-4 % da energia mundial em 2013 </li></ul>\n<li> Objetivos </li>\n<ul><li> Manuseio e Transporte </li>\n<li> Liberação </li>\n<li> Área de Superfície </li>\n<li> Processos Subsequentes </li>\n<li> Especificações de Tamanho </li>\n</ul>\n\n</td>\n<td>\n\n<ul>\n<li> Elevado Investimento Inicial </li>\n<li> Elevado Custo Energético </li>\n<li> Viabilidade Econômica </li>\n<li> Deve ser: </li>\n<ul>\n    <li> Projetado Adequadamente </li>\n    <li> Operar em Condições ideais </li>\n</ul>\n</ul>\n\n</td>\n</tr>\n\n</table>"
      }
     },
     "77822f22a4ea48929543e8a48ae722bd": {
      "model_module": "@jupyter-widgets/base",
      "model_module_version": "1.2.0",
      "model_name": "LayoutModel",
      "state": {
       "height": "500px",
       "overflow": "hidden hidden"
      }
     },
     "782aaf74d295412696f9c3e101dea813": {
      "model_module": "@jupyter-widgets/base",
      "model_module_version": "1.2.0",
      "model_name": "LayoutModel",
      "state": {}
     },
     "783d5eca59984a088a7300b2d90e346f": {
      "model_module": "@jupyter-widgets/base",
      "model_module_version": "1.2.0",
      "model_name": "LayoutModel",
      "state": {}
     },
     "786de5660e5c4a7ba526916185e5f66a": {
      "buffers": [
       {
        "data": "AAAAAAAA8D8=",
        "encoding": "base64",
        "path": [
         "opacities",
         "value"
        ]
       },
       {
        "data": "4XoUrkfh8j8zMzMzMzPjPzMzMzMzM9s/MzMzMzMz0z+JQWDl0CLLPzMzMzMzM8M/iUFg5dAiuz+JQWDl0CKrP9v5fmq8dKM//Knx0k1iUD8=",
        "encoding": "base64",
        "path": [
         "x",
         "value"
        ]
       },
       {
        "data": "AAAAAAAAWUCC3AM9oltQQPRTBZVC8DxAFG7Pnfw0M0B46vhWYgwnQHDEvmBXJRtAYBAzTW3zEkCA3ohpEWoBQADjS8ktu/4/AAAAAAAAIL0=",
        "encoding": "base64",
        "path": [
         "y",
         "value"
        ]
       }
      ],
      "model_module": "bqplot",
      "model_module_version": "^0.5.32",
      "model_name": "ScatterModel",
      "state": {
       "colors": [
        "red"
       ],
       "label_display_horizontal_offset": 0,
       "label_display_vertical_offset": 0,
       "names": null,
       "opacities": {
        "dtype": "float64",
        "shape": [
         1
        ],
        "type": null
       },
       "scales": {
        "x": "IPY_MODEL_9a242733eeba41d594fdb60f7a8e89b6",
        "y": "IPY_MODEL_3cd81ef30aad4cc38354bf5745e8dc28"
       },
       "scales_metadata": {
        "color": {
         "dimension": "color"
        },
        "opacity": {
         "dimension": "opacity"
        },
        "rotation": {
         "dimension": "rotation"
        },
        "size": {
         "dimension": "size"
        },
        "skew": {
         "dimension": "skew"
        },
        "x": {
         "dimension": "x",
         "orientation": "horizontal"
        },
        "y": {
         "dimension": "y",
         "orientation": "vertical"
        }
       },
       "x": {
        "dtype": "float64",
        "shape": [
         10
        ],
        "type": null
       },
       "y": {
        "dtype": "float64",
        "shape": [
         10
        ],
        "type": null
       }
      }
     },
     "7883902ef74e4526b52b8d77cc3e00c4": {
      "model_module": "@jupyter-widgets/controls",
      "model_module_version": "1.5.0",
      "model_name": "VBoxModel",
      "state": {
       "children": [
        "IPY_MODEL_1df54a47e3034e6e919195f32d3f3ca9",
        "IPY_MODEL_ec64b986f1974401be7aace850ec499a"
       ],
       "layout": "IPY_MODEL_f3f6427d40554561a68d8b911b1a146e"
      }
     },
     "78be18f112f4466e91a1fd2a8a855d9d": {
      "model_module": "@jupyter-widgets/base",
      "model_module_version": "1.2.0",
      "model_name": "LayoutModel",
      "state": {
       "align_items": "stretch",
       "display": "flex",
       "justify_content": "space-between",
       "overflow": "hidden hidden"
      }
     },
     "7904dd90b2c34a74a8de1f0f7c178cdd": {
      "model_module": "@jupyter-widgets/base",
      "model_module_version": "1.2.0",
      "model_name": "LayoutModel",
      "state": {}
     },
     "7aff7029ed564b7db162e884797e401e": {
      "model_module": "@jupyter-widgets/controls",
      "model_module_version": "1.5.0",
      "model_name": "HBoxModel",
      "state": {
       "children": [
        "IPY_MODEL_14d85e23eb514184b19922f40d41efbf",
        "IPY_MODEL_eff4ace253e64a7ca4df61f8d552689b"
       ],
       "layout": "IPY_MODEL_5210565cbcfb48e5a3681331fc8b21da"
      }
     },
     "7b1e6e50aafc4b1082dea1009ede6c9d": {
      "model_module": "@jupyter-widgets/controls",
      "model_module_version": "1.5.0",
      "model_name": "SliderStyleModel",
      "state": {
       "description_width": "10%"
      }
     },
     "7c977d2b34924ae59b5e74eeeac149a7": {
      "model_module": "@jupyter-widgets/controls",
      "model_module_version": "1.5.0",
      "model_name": "LabelModel",
      "state": {
       "layout": "IPY_MODEL_b8ec52af32ac4fde953dffa648314497",
       "style": "IPY_MODEL_9504a84e2ba24dd381e10dbd1194a4a7",
       "value": "$$ B_{i,j} = \\Phi_j R^{(i-2)\\gamma} + (1-\\Phi_j) R^{(i-2)\\beta} $$"
      }
     },
     "7d64c345b1934010899612cfa227ee92": {
      "model_module": "@jupyter-widgets/controls",
      "model_module_version": "1.5.0",
      "model_name": "HBoxModel",
      "state": {
       "children": [
        "IPY_MODEL_8b6c8d3dfeae4faca478d8b7c50b00a5",
        "IPY_MODEL_dbd4269af8dc42c79e526d380b8bf608"
       ],
       "layout": "IPY_MODEL_a213208a44d1432bbecb3e58f09fa3dd"
      }
     },
     "7d6a3cac4f894ecc87af72980ab001ac": {
      "model_module": "@jupyter-widgets/controls",
      "model_module_version": "1.5.0",
      "model_name": "DescriptionStyleModel",
      "state": {
       "description_width": ""
      }
     },
     "7df23cde46b64e06955715839857bac1": {
      "model_module": "@jupyter-widgets/base",
      "model_module_version": "1.2.0",
      "model_name": "LayoutModel",
      "state": {}
     },
     "7ef4344f88b646b1aef4da0461bd3286": {
      "model_module": "@jupyter-widgets/base",
      "model_module_version": "1.2.0",
      "model_name": "LayoutModel",
      "state": {}
     },
     "7ff0e5824a9243d5af879667d610a793": {
      "model_module": "@jupyter-widgets/base",
      "model_module_version": "1.2.0",
      "model_name": "LayoutModel",
      "state": {}
     },
     "80239056be0c4b0ca1ffc44414f69e2d": {
      "model_module": "@jupyter-widgets/base",
      "model_module_version": "1.2.0",
      "model_name": "LayoutModel",
      "state": {}
     },
     "80ee0f1a205b44b38650e110ac99f534": {
      "model_module": "@jupyter-widgets/controls",
      "model_module_version": "1.5.0",
      "model_name": "VBoxModel",
      "state": {
       "children": [
        "IPY_MODEL_1df54a47e3034e6e919195f32d3f3ca9",
        "IPY_MODEL_ec64b986f1974401be7aace850ec499a"
       ],
       "layout": "IPY_MODEL_9201f049ef014f94844e6a3ae9b38c4d"
      }
     },
     "818ae59a3f7d4a929e92b090526fb0fc": {
      "model_module": "bqplot",
      "model_module_version": "^0.5.32",
      "model_name": "FigureModel",
      "state": {
       "animation_duration": 1000,
       "axes": [
        "IPY_MODEL_df270a6f266845e18b4b28134b899877",
        "IPY_MODEL_46b9edafeeb6402896c81808a631b2db"
       ],
       "fig_margin": {
        "bottom": 50,
        "left": 50,
        "right": 50,
        "top": 0
       },
       "layout": "IPY_MODEL_9d956d9369874471a0dc732a57dd7a70",
       "legend_location": "top-left",
       "marks": [
        "IPY_MODEL_6a271701e4bc4889a44c113ea189d431",
        "IPY_MODEL_588cc0131f7a4717b3dc7d618c4312e3",
        "IPY_MODEL_82567cee76e74bd7afecd88767e32d64",
        "IPY_MODEL_786de5660e5c4a7ba526916185e5f66a",
        "IPY_MODEL_d2ea91b285204b7bbedb9bdd3097073c",
        "IPY_MODEL_65501e1097654d249f5a1239c9d147a6",
        "IPY_MODEL_9d85a5057e964da2af8ac29cb9a2d444"
       ],
       "scale_x": "IPY_MODEL_9a242733eeba41d594fdb60f7a8e89b6",
       "scale_y": "IPY_MODEL_3cd81ef30aad4cc38354bf5745e8dc28",
       "title": "Commulative Size Distribution",
       "title_style": {
        "font-size": "20px"
       }
      }
     },
     "8197dbdf37574452b02dab582a62d3eb": {
      "model_module": "@jupyter-widgets/base",
      "model_module_version": "1.2.0",
      "model_name": "LayoutModel",
      "state": {
       "overflow": "hidden hidden"
      }
     },
     "81a9457020e74f61a755db8156b51e7b": {
      "model_module": "@jupyter-widgets/base",
      "model_module_version": "1.2.0",
      "model_name": "LayoutModel",
      "state": {
       "overflow": "hidden hidden"
      }
     },
     "81ea96a57e994628aa6519531afe265f": {
      "model_module": "@jupyter-widgets/controls",
      "model_module_version": "1.5.0",
      "model_name": "HTMLModel",
      "state": {
       "layout": "IPY_MODEL_31a61d69e6084edfb817d49c4e25bdd0",
       "style": "IPY_MODEL_f8762295f354477d92c199eda728f0cb",
       "value": "\n<table>\n\n<tr>\n<th> Cominuição </th>\n<th> Moagem </th>\n</tr>\n\n<tr>\n<td>\n\n<ul>\n<li> Uso Internsivo de Energia </li>\n<ul>\n    <li>     3-4 % da energia mundial em 2013 </li>\n</ul>\n<li> Objetivos </li>\n<ul>\n    <li> Manuseio e Transporte </li>\n    <li> Liberação </li>\n    <li> Área de Superfície </li>\n    <li> Processos Subsequentes </li>\n    <li> Especificações de Tamanho </li>\n</ul>\n\n</td>\n<td>\n\n<ul>\n<li> Elevado Investimento Inicial </li>\n<li> Elevado Custo Energético </li>\n<li> Viabilidade Econômica </li>\n<li> Deve ser: </li>\n<ul>\n    <li> Projetado Adequadamente </li>\n    <li> Operar em Condições ideais </li>\n</ul>\n</ul>\n\n</td>\n</tr>\n\n</table>"
      }
     },
     "82466bb268244c97aa44a8429dc31421": {
      "model_module": "@jupyter-widgets/controls",
      "model_module_version": "1.5.0",
      "model_name": "HTMLMathModel",
      "state": {
       "layout": "IPY_MODEL_0d72cf372dc34b99bef83b62badf0333",
       "style": "IPY_MODEL_7d6a3cac4f894ecc87af72980ab001ac",
       "value": "$$ minimize\\ SSQ = \\sum_k \\sum_{i=1}^{n} w_i(p_i\nobserved\\ -p_i\\ computed\\ ) $$"
      }
     },
     "82567cee76e74bd7afecd88767e32d64": {
      "buffers": [
       {
        "data": "AAAAAAAA8D8=",
        "encoding": "base64",
        "path": [
         "opacities",
         "value"
        ]
       },
       {
        "data": "4XoUrkfh8j8zMzMzMzPjPzMzMzMzM9s/MzMzMzMz0z+JQWDl0CLLPzMzMzMzM8M/iUFg5dAiuz+JQWDl0CKrP9v5fmq8dKM//Knx0k1iUD8=",
        "encoding": "base64",
        "path": [
         "x",
         "value"
        ]
       },
       {
        "data": "AAAAAAAAWUAjoTlzCFxIQAA+ad4nRSlAcAO7hpyBHkBAP7hfdDYSQMCIBU5QlghAQNznypMfA0BAiQVOUJb4P0AWR6HS8fQ/AAAAAAAAMD0=",
        "encoding": "base64",
        "path": [
         "y",
         "value"
        ]
       }
      ],
      "model_module": "bqplot",
      "model_module_version": "^0.5.32",
      "model_name": "ScatterModel",
      "state": {
       "colors": [
        "green"
       ],
       "label_display_horizontal_offset": 0,
       "label_display_vertical_offset": 0,
       "names": null,
       "opacities": {
        "dtype": "float64",
        "shape": [
         1
        ],
        "type": null
       },
       "scales": {
        "x": "IPY_MODEL_9a242733eeba41d594fdb60f7a8e89b6",
        "y": "IPY_MODEL_3cd81ef30aad4cc38354bf5745e8dc28"
       },
       "scales_metadata": {
        "color": {
         "dimension": "color"
        },
        "opacity": {
         "dimension": "opacity"
        },
        "rotation": {
         "dimension": "rotation"
        },
        "size": {
         "dimension": "size"
        },
        "skew": {
         "dimension": "skew"
        },
        "x": {
         "dimension": "x",
         "orientation": "horizontal"
        },
        "y": {
         "dimension": "y",
         "orientation": "vertical"
        }
       },
       "x": {
        "dtype": "float64",
        "shape": [
         10
        ],
        "type": null
       },
       "y": {
        "dtype": "float64",
        "shape": [
         10
        ],
        "type": null
       }
      }
     },
     "8586b380c98d4a888a08f1ec24bece88": {
      "model_module": "@jupyter-widgets/controls",
      "model_module_version": "1.5.0",
      "model_name": "DescriptionStyleModel",
      "state": {
       "description_width": ""
      }
     },
     "85bd8761b6b04169b5d6284a069a5caf": {
      "model_module": "@jupyter-widgets/controls",
      "model_module_version": "1.5.0",
      "model_name": "DescriptionStyleModel",
      "state": {
       "description_width": ""
      }
     },
     "864cfc8b697f44dbb31155482fffc053": {
      "buffers": [
       {
        "data": "4XoUrkfh8j8zMzMzMzPjPzMzMzMzM9s/MzMzMzMz0z+JQWDl0CLLPzMzMzMzM8M/iUFg5dAiuz+JQWDl0CKrP9v5fmq8dKM//Knx0k1iUD8=",
        "encoding": "base64",
        "path": [
         "x",
         "value"
        ]
       },
       {
        "data": "I0xP0DqC8j+P9lJn7GnkP8DoBmMtJN4/vPzMdTEv1j9MKodsCVjQP5QukPnGG8g/ttmsTPDCwT+h190XUU2zP2zozBpHzqw/AAAAAAAAAAA=",
        "encoding": "base64",
        "path": [
         "y",
         "value"
        ]
       }
      ],
      "model_module": "bqplot",
      "model_module_version": "^0.5.32",
      "model_name": "LinesModel",
      "state": {
       "colors": [
        "cyan"
       ],
       "fill_colors": [],
       "interpolation": "basis",
       "labels": [
        "C1"
       ],
       "scales": {
        "x": "IPY_MODEL_9a242733eeba41d594fdb60f7a8e89b6",
        "y": "IPY_MODEL_ca5c2df220be46fdb9981b86ed6115f3"
       },
       "x": {
        "dtype": "float64",
        "shape": [
         10
        ],
        "type": null
       },
       "y": {
        "dtype": "float64",
        "shape": [
         10
        ],
        "type": null
       }
      }
     },
     "87ed16d1660042e3b3db4a357980be70": {
      "model_module": "@jupyter-widgets/controls",
      "model_module_version": "1.5.0",
      "model_name": "DescriptionStyleModel",
      "state": {
       "description_width": ""
      }
     },
     "8883a5c1a6ff4bf5b045cb7f88364415": {
      "buffers": [
       {
        "data": "mpmZmZmZuT8AAAAAAADwPw==",
        "encoding": "base64",
        "path": [
         "tick_values",
         "value"
        ]
       }
      ],
      "model_module": "bqplot",
      "model_module_version": "^0.5.32",
      "model_name": "AxisModel",
      "state": {
       "label": "Parâmetro de Quebra cumulativo, Bi,j",
       "orientation": "vertical",
       "scale": "IPY_MODEL_ca5c2df220be46fdb9981b86ed6115f3",
       "side": "left",
       "tick_format": "0.1f",
       "tick_values": {
        "dtype": "float64",
        "shape": [
         2
        ],
        "type": null
       }
      }
     },
     "8918b7ee12864cf7bf72b5fa5c34b379": {
      "model_module": "@jupyter-widgets/controls",
      "model_module_version": "1.5.0",
      "model_name": "HTMLMathModel",
      "state": {
       "layout": "IPY_MODEL_ad68b06dff65480b98219d063c0ce9ae",
       "style": "IPY_MODEL_1181089e1f4d4004b4cab9015d68c0f0",
       "value": "\n<h1> Forma Geral </h1>\n$$\n\frac{dw_i(t)}/{dt}\n$$\n"
      }
     },
     "8a4b2052c49b41e084305ce283a8ecb4": {
      "model_module": "@jupyter-widgets/controls",
      "model_module_version": "1.5.0",
      "model_name": "HTMLModel",
      "state": {
       "layout": "IPY_MODEL_b8151f90965544b5b5bdb8c0b816876b",
       "style": "IPY_MODEL_2785b5997d044122bc362528686f84d0",
       "value": "<h1>Moagem<h1/>\n<table>\n<tr>\n<th> Cominuição </th>\n<th> Moagem </th>\n</tr>\n<tr>\n<td>\n\n- Uso Internsivo de Energia <br >\n    - 3-4 % da energia mundial em 2013 <br >\n- Objetivos <br >\n    - Manuseio e Transporte <br >\n    - Liberação <br >\n    - Área de Superfície <br >\n    - Processos Subsequentes <br >\n    - Especificações de Tamanho\n\n</td>\n<td>\n\n- Some Text\n\n</td>\n</tr>\n</table>\n"
      }
     },
     "8a53105ce0e84739bb114a0ffb359f79": {
      "model_module": "@jupyter-widgets/base",
      "model_module_version": "1.2.0",
      "model_name": "LayoutModel",
      "state": {
       "align_items": "stretch",
       "display": "flex",
       "justify_content": "space-between",
       "overflow": "hidden hidden"
      }
     },
     "8ab0374d9228436492f342ee926c26b4": {
      "model_module": "@jupyter-widgets/base",
      "model_module_version": "1.2.0",
      "model_name": "LayoutModel",
      "state": {
       "height": "100%",
       "width": "100%"
      }
     },
     "8b6c8d3dfeae4faca478d8b7c50b00a5": {
      "model_module": "@jupyter-widgets/controls",
      "model_module_version": "1.5.0",
      "model_name": "FloatSliderModel",
      "state": {
       "description": "$A$",
       "layout": "IPY_MODEL_5625d17566324519a3a2887598415ec7",
       "max": 4,
       "min": 0.6,
       "step": 0.01,
       "style": "IPY_MODEL_9c1b11cb0c30437c8e5ed7d56a7b1f13",
       "value": 1
      }
     },
     "8b7fe8f55a494f4e956275b69a969805": {
      "model_module": "@jupyter-widgets/base",
      "model_module_version": "1.2.0",
      "model_name": "LayoutModel",
      "state": {
       "justify_content": "flex-end",
       "width": "150px"
      }
     },
     "8da63fb26d7c4051945ceed1b438de5b": {
      "model_module": "@jupyter-widgets/base",
      "model_module_version": "1.2.0",
      "model_name": "LayoutModel",
      "state": {}
     },
     "8eeeebe226ae48739c601365c30bcf32": {
      "model_module": "@jupyter-widgets/controls",
      "model_module_version": "1.5.0",
      "model_name": "HBoxModel",
      "state": {
       "children": [
        "IPY_MODEL_d0a1f68fc46345da9afe850951d30e8a",
        "IPY_MODEL_fba4da5dcfc14756a1ab96cea88d5b53"
       ],
       "layout": "IPY_MODEL_04d920b319fa4c5895da885c34d1d66e"
      }
     },
     "8fba547811614f809b474cb0d2d6292b": {
      "model_module": "@jupyter-widgets/base",
      "model_module_version": "1.2.0",
      "model_name": "LayoutModel",
      "state": {
       "overflow": "hidden hidden"
      }
     },
     "8ff83a01228b4dc68832cee484926271": {
      "model_module": "@jupyter-widgets/controls",
      "model_module_version": "1.5.0",
      "model_name": "HBoxModel",
      "state": {
       "children": [
        "IPY_MODEL_72c34ae0299743a9b002f1255ae093d7",
        "IPY_MODEL_de91e20ff1834f379ddcd42d8a5efc1c"
       ],
       "layout": "IPY_MODEL_683f73f1e88146808e1d418e12db6247"
      }
     },
     "9089cbe2307947ecb48ddd4b3c98638f": {
      "model_module": "@jupyter-widgets/base",
      "model_module_version": "1.2.0",
      "model_name": "LayoutModel",
      "state": {
       "overflow": "hidden hidden"
      }
     },
     "9132062de32f4825be45f23b933be72b": {
      "model_module": "@jupyter-widgets/base",
      "model_module_version": "1.2.0",
      "model_name": "LayoutModel",
      "state": {}
     },
     "9201f049ef014f94844e6a3ae9b38c4d": {
      "model_module": "@jupyter-widgets/base",
      "model_module_version": "1.2.0",
      "model_name": "LayoutModel",
      "state": {
       "overflow": "hidden hidden"
      }
     },
     "949a054b3d6d4869bf8731ef52601ac0": {
      "model_module": "@jupyter-widgets/controls",
      "model_module_version": "1.5.0",
      "model_name": "DescriptionStyleModel",
      "state": {
       "description_width": ""
      }
     },
     "94b3cd6075ba4701b9d37dbf55280787": {
      "model_module": "@jupyter-widgets/controls",
      "model_module_version": "1.5.0",
      "model_name": "DescriptionStyleModel",
      "state": {
       "description_width": ""
      }
     },
     "94eedfe2217d4043b57eeedb6206f749": {
      "model_module": "@jupyter-widgets/controls",
      "model_module_version": "1.5.0",
      "model_name": "HTMLMathModel",
      "state": {
       "layout": "IPY_MODEL_9cd32d5d02d34af09deb7992c0207118",
       "style": "IPY_MODEL_5cd4f6cb95624c22a406d0a3cd961615",
       "value": "$dw_i(t)over dt$"
      }
     },
     "9504a84e2ba24dd381e10dbd1194a4a7": {
      "model_module": "@jupyter-widgets/controls",
      "model_module_version": "1.5.0",
      "model_name": "DescriptionStyleModel",
      "state": {
       "description_width": ""
      }
     },
     "9625688b7a854aaf884181c2eecfd7d0": {
      "model_module": "@jupyter-widgets/controls",
      "model_module_version": "1.5.0",
      "model_name": "HTMLMathModel",
      "state": {
       "layout": "IPY_MODEL_36d0819391a2489b8c8af1b2b1c6e29b",
       "style": "IPY_MODEL_207973d4d0a249b3a4198d0ccd6f421a",
       "value": "\n<h1> Forma Geral </h1>\n$ \frac{dw_i(t)}/{dt} $\n"
      }
     },
     "97ce6f34dca04201a0a592a1223998c5": {
      "model_module": "@jupyter-widgets/base",
      "model_module_version": "1.2.0",
      "model_name": "LayoutModel",
      "state": {
       "height": "100%",
       "overflow": "hidden hidden",
       "width": "900px"
      }
     },
     "98335597d2c24f2d81fb0e729ef2b532": {
      "model_module": "@jupyter-widgets/controls",
      "model_module_version": "1.5.0",
      "model_name": "DescriptionStyleModel",
      "state": {
       "description_width": ""
      }
     },
     "983a5eb7f110489180d4b4c3177443f9": {
      "model_module": "@jupyter-widgets/controls",
      "model_module_version": "1.5.0",
      "model_name": "HTMLMathModel",
      "state": {
       "layout": "IPY_MODEL_a8b3e3981b5b4083b7f147f7f0619d98",
       "style": "IPY_MODEL_c977eb770bd643fb8f7a6bdc6a5103ee",
       "value": "$dw_i(t)overdt$"
      }
     },
     "989ca7fdf0c948d792aeaccd2ceb0d61": {
      "model_module": "@jupyter-widgets/base",
      "model_module_version": "1.2.0",
      "model_name": "LayoutModel",
      "state": {}
     },
     "991f2f24fdb14bf9838b382223ca7be9": {
      "model_module": "@jupyter-widgets/base",
      "model_module_version": "1.2.0",
      "model_name": "LayoutModel",
      "state": {
       "align_items": "stretch",
       "display": "flex",
       "justify_content": "space-between",
       "overflow": "hidden hidden"
      }
     },
     "99b9101cb92f4546a5e5435d76f17754": {
      "model_module": "@jupyter-widgets/controls",
      "model_module_version": "1.5.0",
      "model_name": "DescriptionStyleModel",
      "state": {
       "description_width": ""
      }
     },
     "99fb9de19121411e82c31b594af56e58": {
      "model_module": "@jupyter-widgets/controls",
      "model_module_version": "1.5.0",
      "model_name": "HBoxModel",
      "state": {
       "children": [
        "IPY_MODEL_9b284f91931b46d7bf9684180def8a9c",
        "IPY_MODEL_1c6045dc579649adb624e49d821db186"
       ],
       "layout": "IPY_MODEL_0e997f7a04134ca2af8d680183ac8fb4"
      }
     },
     "9a242733eeba41d594fdb60f7a8e89b6": {
      "model_module": "bqplot",
      "model_module_version": "^0.5.32",
      "model_name": "LogScaleModel",
      "state": {
       "max": 2.1799999999999997,
       "min": 0.01
      }
     },
     "9a357dbea2b2430bb850365299cd12d5": {
      "model_module": "@jupyter-widgets/base",
      "model_module_version": "1.2.0",
      "model_name": "LayoutModel",
      "state": {}
     },
     "9b284f91931b46d7bf9684180def8a9c": {
      "model_module": "@jupyter-widgets/controls",
      "model_module_version": "1.5.0",
      "model_name": "VBoxModel",
      "state": {
       "children": [
        "IPY_MODEL_1df54a47e3034e6e919195f32d3f3ca9",
        "IPY_MODEL_ec64b986f1974401be7aace850ec499a"
       ],
       "layout": "IPY_MODEL_b3443809d03e4aa8a5a36ebbc6e28e9f"
      }
     },
     "9bd9652b500d4e7fb883f5838dcfebfa": {
      "model_module": "@jupyter-widgets/output",
      "model_module_version": "1.0.0",
      "model_name": "OutputModel",
      "state": {
       "layout": "IPY_MODEL_25d76e0e149c48cf88a1cafcef5d466f"
      }
     },
     "9c1b11cb0c30437c8e5ed7d56a7b1f13": {
      "model_module": "@jupyter-widgets/controls",
      "model_module_version": "1.5.0",
      "model_name": "SliderStyleModel",
      "state": {
       "description_width": "10%"
      }
     },
     "9cd32d5d02d34af09deb7992c0207118": {
      "model_module": "@jupyter-widgets/base",
      "model_module_version": "1.2.0",
      "model_name": "LayoutModel",
      "state": {}
     },
     "9d85a5057e964da2af8ac29cb9a2d444": {
      "buffers": [
       {
        "data": "AAAAAAAA8D8=",
        "encoding": "base64",
        "path": [
         "opacities",
         "value"
        ]
       },
       {
        "data": "4XoUrkfh8j8zMzMzMzPjPzMzMzMzM9s/MzMzMzMz0z+JQWDl0CLLPzMzMzMzM8M/iUFg5dAiuz+JQWDl0CKrP9v5fmq8dKM//Knx0k1iUD8=",
        "encoding": "base64",
        "path": [
         "x",
         "value"
        ]
       },
       {
        "data": "AAAAAAAAWUA06dIEOX1WQOyrlMtdNFFA4V6tlUd9S0B4R6LyoG5DQFACf6cC0TxA0KzUt0k5N0CAkUb4m2ItQHj5etCesidAAAAAAAAAED0=",
        "encoding": "base64",
        "path": [
         "y",
         "value"
        ]
       }
      ],
      "model_module": "bqplot",
      "model_module_version": "^0.5.32",
      "model_name": "ScatterModel",
      "state": {
       "colors": [
        "yellow"
       ],
       "label_display_horizontal_offset": 0,
       "label_display_vertical_offset": 0,
       "names": null,
       "opacities": {
        "dtype": "float64",
        "shape": [
         1
        ],
        "type": null
       },
       "scales": {
        "x": "IPY_MODEL_9a242733eeba41d594fdb60f7a8e89b6",
        "y": "IPY_MODEL_3cd81ef30aad4cc38354bf5745e8dc28"
       },
       "scales_metadata": {
        "color": {
         "dimension": "color"
        },
        "opacity": {
         "dimension": "opacity"
        },
        "rotation": {
         "dimension": "rotation"
        },
        "size": {
         "dimension": "size"
        },
        "skew": {
         "dimension": "skew"
        },
        "x": {
         "dimension": "x",
         "orientation": "horizontal"
        },
        "y": {
         "dimension": "y",
         "orientation": "vertical"
        }
       },
       "x": {
        "dtype": "float64",
        "shape": [
         10
        ],
        "type": null
       },
       "y": {
        "dtype": "float64",
        "shape": [
         10
        ],
        "type": null
       }
      }
     },
     "9d956d9369874471a0dc732a57dd7a70": {
      "model_module": "@jupyter-widgets/base",
      "model_module_version": "1.2.0",
      "model_name": "LayoutModel",
      "state": {
       "height": "100%",
       "width": "100%"
      }
     },
     "9f7c9fd15fb04a81a46ef7f855b5d9d4": {
      "model_module": "@jupyter-widgets/base",
      "model_module_version": "1.2.0",
      "model_name": "LayoutModel",
      "state": {}
     },
     "9f9ad27a0adf4a0489fd0ba9fcf71fee": {
      "model_module": "bqplot",
      "model_module_version": "^0.5.32",
      "model_name": "LogScaleModel",
      "state": {
       "max": 100,
       "min": 1
      }
     },
     "a213208a44d1432bbecb3e58f09fa3dd": {
      "model_module": "@jupyter-widgets/base",
      "model_module_version": "1.2.0",
      "model_name": "LayoutModel",
      "state": {
       "overflow": "hidden hidden"
      }
     },
     "a2b8e3ee12834be8b6646578d89eebad": {
      "model_module": "@jupyter-widgets/controls",
      "model_module_version": "1.5.0",
      "model_name": "HTMLMathModel",
      "state": {
       "layout": "IPY_MODEL_19a09d0304c64800ad4cf14a4c7830e5",
       "style": "IPY_MODEL_94b3cd6075ba4701b9d37dbf55280787",
       "value": "\n<h1> Forma Geral </h1>\n$dw_i(t)/dt$\n"
      }
     },
     "a2e7ead17f01411e9b0af4edbb9f2bb1": {
      "model_module": "@jupyter-widgets/controls",
      "model_module_version": "1.5.0",
      "model_name": "DescriptionStyleModel",
      "state": {
       "description_width": ""
      }
     },
     "a2f0951101874272bae27d266e622d0f": {
      "model_module": "@jupyter-widgets/base",
      "model_module_version": "1.2.0",
      "model_name": "LayoutModel",
      "state": {}
     },
     "a3f4c1b8083546b48948acfb397be181": {
      "model_module": "@jupyter-widgets/controls",
      "model_module_version": "1.5.0",
      "model_name": "HBoxModel",
      "state": {
       "children": [
        "IPY_MODEL_a9d81523386b4be8ad947c791d640076",
        "IPY_MODEL_36b6c694b23445ed972aa6354388689e"
       ],
       "layout": "IPY_MODEL_2c8a9e75f29a4f7194d8f132873dbb7a"
      }
     },
     "a422242afef04860ae281d3658b7c2f8": {
      "model_module": "bqplot",
      "model_module_version": "^0.5.32",
      "model_name": "LinearScaleModel",
      "state": {
       "allow_padding": false,
       "max": 1,
       "min": 0,
       "stabilized": false
      }
     },
     "a49f8c6e0e954bf199959d4a0ac54653": {
      "model_module": "@jupyter-widgets/controls",
      "model_module_version": "1.5.0",
      "model_name": "HBoxModel",
      "state": {
       "children": [
        "IPY_MODEL_1dc3f30c2e584fc8aaac0742cb22f31f",
        "IPY_MODEL_4580d8f8ee994345bdf5cf4ad58cfce1"
       ],
       "layout": "IPY_MODEL_d1585c853bf64c49887f45e5f1abf4b5"
      }
     },
     "a5662b38399249baaaaa3c4fd8f8a755": {
      "model_module": "@jupyter-widgets/controls",
      "model_module_version": "1.5.0",
      "model_name": "DescriptionStyleModel",
      "state": {
       "description_width": ""
      }
     },
     "a61dcecc2a194186b483564f69f7929c": {
      "model_module": "@jupyter-widgets/controls",
      "model_module_version": "1.5.0",
      "model_name": "HTMLModel",
      "state": {
       "layout": "IPY_MODEL_60b1065131fe439eb7dc1a4994736057",
       "style": "IPY_MODEL_aea1844f641e46dc8bffbaa9b557cb30",
       "value": "<h2>Moagem</h2>\n<table>\n\n<tr>\n<th> Cominuição </th>\n<th> Moagem </th>\n</tr>\n\n<tr>\n<td>\n\n<ul>\n<li> - Uso Internsivo de Energia </li>\n<li>     - 3-4 % da energia mundial em 2013 </li>\n<li> - Objetivos </li>\n<li>     - Manuseio e Transporte </li>\n<li>     - Liberação </li>\n<li>     - Área de Superfície </li>\n<li>     - Processos Subsequentes </li>\n<li>     - Especificações de Tamanho</li>\n</ul>\n\n</td>\n<td>\n\n- Some Text\n\n</td>\n</tr>\n\n</table>"
      }
     },
     "a89c9195454c4532bbbabdc945cbf4a5": {
      "model_module": "@jupyter-widgets/controls",
      "model_module_version": "1.5.0",
      "model_name": "DescriptionStyleModel",
      "state": {
       "description_width": ""
      }
     },
     "a8b3e3981b5b4083b7f147f7f0619d98": {
      "model_module": "@jupyter-widgets/base",
      "model_module_version": "1.2.0",
      "model_name": "LayoutModel",
      "state": {}
     },
     "a9d81523386b4be8ad947c791d640076": {
      "model_module": "@jupyter-widgets/controls",
      "model_module_version": "1.5.0",
      "model_name": "VBoxModel",
      "state": {
       "children": [
        "IPY_MODEL_1df54a47e3034e6e919195f32d3f3ca9",
        "IPY_MODEL_ec64b986f1974401be7aace850ec499a"
       ],
       "layout": "IPY_MODEL_d36672c75b074993863d21fe007b8ca6"
      }
     },
     "aa58380d8247485baf91416471879ebd": {
      "model_module": "@jupyter-widgets/base",
      "model_module_version": "1.2.0",
      "model_name": "LayoutModel",
      "state": {}
     },
     "aa6e609b0f73400e999b3bf930a6b18e": {
      "model_module": "@jupyter-widgets/controls",
      "model_module_version": "1.5.0",
      "model_name": "CheckboxModel",
      "state": {
       "description": "Log Y",
       "disabled": false,
       "layout": "IPY_MODEL_1925dd545e074e42ac2f31525d1104ac",
       "style": "IPY_MODEL_317a1784378d41d9a0e26a8249b58f33",
       "value": false
      }
     },
     "aa9d8440658f48428335c864f5fb5d50": {
      "model_module": "@jupyter-widgets/controls",
      "model_module_version": "1.5.0",
      "model_name": "HTMLModel",
      "state": {
       "layout": "IPY_MODEL_440fa0f1ab1449f99e43f84fc95047ce",
       "style": "IPY_MODEL_124ef1432c3c46d4893bdda65493179b",
       "value": "## Moagem\n<table>\n<tr>\n<th> Cominuição </th>\n<th> Moagem </th>\n</tr>\n<tr>\n<td>\n\n- Uso Internsivo de Energia <br >\n    - 3-4 % da energia mundial em 2013 <br >\n- Objetivos <br >\n    - Manuseio e Transporte <br >\n    - Liberação <br >\n    - Área de Superfície <br >\n    - Processos Subsequentes <br >\n    - Especificações de Tamanho\n\n</td>\n<td>\n\n- Some Text\n\n</td>\n</tr>\n</table>\n"
      }
     },
     "aad50157f9aa474a8ec0faef4083548c": {
      "model_module": "@jupyter-widgets/base",
      "model_module_version": "1.2.0",
      "model_name": "LayoutModel",
      "state": {
       "overflow": "hidden hidden"
      }
     },
     "abaf17976561418599a4d76d98d936f2": {
      "model_module": "@jupyter-widgets/base",
      "model_module_version": "1.2.0",
      "model_name": "LayoutModel",
      "state": {
       "align_items": "stretch",
       "display": "flex",
       "height": "45%",
       "justify_content": "space-between",
       "min_height": "45%",
       "overflow": "hidden hidden",
       "width": "100%"
      }
     },
     "abe6260c90e04ef990ae5a7aa60ab1d3": {
      "model_module": "@jupyter-widgets/controls",
      "model_module_version": "1.5.0",
      "model_name": "HTMLModel",
      "state": {
       "layout": "IPY_MODEL_e83c8e26f4814588b9dd0906df03cd51",
       "style": "IPY_MODEL_85bd8761b6b04169b5d6284a069a5caf",
       "value": "<h1> Forma Geral </h1>"
      }
     },
     "acc5b47172fb4929a3dc02442b82eaba": {
      "model_module": "@jupyter-widgets/controls",
      "model_module_version": "1.5.0",
      "model_name": "SliderStyleModel",
      "state": {
       "description_width": "10%"
      }
     },
     "ad68b06dff65480b98219d063c0ce9ae": {
      "model_module": "@jupyter-widgets/base",
      "model_module_version": "1.2.0",
      "model_name": "LayoutModel",
      "state": {}
     },
     "ada278e3e3ad41dab64e300e9740b00e": {
      "model_module": "@jupyter-widgets/controls",
      "model_module_version": "1.5.0",
      "model_name": "ButtonModel",
      "state": {
       "description": "Simulate",
       "layout": "IPY_MODEL_0c79ad47a0354334941f4612a8d747bd",
       "style": "IPY_MODEL_33d4bf3c803d49ee8f269ea9268b8817",
       "tooltip": "Rodar Simulação com os Parâmetros Atuais "
      }
     },
     "aea1844f641e46dc8bffbaa9b557cb30": {
      "model_module": "@jupyter-widgets/controls",
      "model_module_version": "1.5.0",
      "model_name": "DescriptionStyleModel",
      "state": {
       "description_width": ""
      }
     },
     "aea92abf142f47e78e8dcdede01e5f8d": {
      "model_module": "@jupyter-widgets/base",
      "model_module_version": "1.2.0",
      "model_name": "LayoutModel",
      "state": {}
     },
     "af01a0faf9f34dc38d40db35b6943fb6": {
      "model_module": "@jupyter-widgets/controls",
      "model_module_version": "1.5.0",
      "model_name": "VBoxModel",
      "state": {
       "children": [
        "IPY_MODEL_1df54a47e3034e6e919195f32d3f3ca9",
        "IPY_MODEL_ec64b986f1974401be7aace850ec499a"
       ],
       "layout": "IPY_MODEL_782aaf74d295412696f9c3e101dea813"
      }
     },
     "af094056591e44acbf966f23f4f56917": {
      "model_module": "@jupyter-widgets/controls",
      "model_module_version": "1.5.0",
      "model_name": "VBoxModel",
      "state": {
       "children": [
        "IPY_MODEL_7d64c345b1934010899612cfa227ee92",
        "IPY_MODEL_25a8e1df8173418590faf7b3a4e528fd"
       ],
       "layout": "IPY_MODEL_204194c7d3b442f28f4758904229d4d1"
      }
     },
     "af12f52bccca4f929a9db73d60445a0a": {
      "model_module": "@jupyter-widgets/controls",
      "model_module_version": "1.5.0",
      "model_name": "HBoxModel",
      "state": {
       "children": [
        "IPY_MODEL_6cdd086faa014b7ea21c774657695adc",
        "IPY_MODEL_680a71a5cb1642b9bfea4d25a9743262"
       ],
       "layout": "IPY_MODEL_4be7fa08b7ec4da5acf53d7781f86f36"
      }
     },
     "af9d99d291ec4f729b2f5e735a998725": {
      "model_module": "@jupyter-widgets/base",
      "model_module_version": "1.2.0",
      "model_name": "LayoutModel",
      "state": {
       "overflow": "hidden hidden"
      }
     },
     "b0aab7e7e89c43ac8549b84ac0161254": {
      "model_module": "@jupyter-widgets/base",
      "model_module_version": "1.2.0",
      "model_name": "LayoutModel",
      "state": {
       "height": "100%",
       "overflow": "hidden hidden",
       "width": "100%"
      }
     },
     "b0bccf15ea3642c59e7136eb29d231f0": {
      "model_module": "@jupyter-widgets/controls",
      "model_module_version": "1.5.0",
      "model_name": "DescriptionStyleModel",
      "state": {
       "description_width": ""
      }
     },
     "b237f26350ff4421aaa9909e93a2a511": {
      "model_module": "@jupyter-widgets/controls",
      "model_module_version": "1.5.0",
      "model_name": "HTMLMathModel",
      "state": {
       "layout": "IPY_MODEL_24468dd2ac904b8e826cbc6beb874149",
       "style": "IPY_MODEL_25657ead7bde4ed583e6757eac9b7a62",
       "value": "$dw_i(t)/dt$"
      }
     },
     "b2a58dfb57ca4cb689492946bc3ada4a": {
      "model_module": "@jupyter-widgets/controls",
      "model_module_version": "1.5.0",
      "model_name": "HTMLMathModel",
      "state": {
       "layout": "IPY_MODEL_25009a80f16f417c9d3ab84b7acf10ea",
       "style": "IPY_MODEL_c296531c9dd84d45aebd9f2fe133fcc6",
       "value": "$ e_j = exp(-S_j \\tau) $"
      }
     },
     "b3443809d03e4aa8a5a36ebbc6e28e9f": {
      "model_module": "@jupyter-widgets/base",
      "model_module_version": "1.2.0",
      "model_name": "LayoutModel",
      "state": {
       "overflow": "hidden hidden"
      }
     },
     "b45b492138f04f50b2b872c45037c9f3": {
      "model_module": "@jupyter-widgets/controls",
      "model_module_version": "1.5.0",
      "model_name": "SliderStyleModel",
      "state": {
       "description_width": "10%"
      }
     },
     "b487c5067a1748f682a3ab7b16d62b86": {
      "model_module": "@jupyter-widgets/controls",
      "model_module_version": "1.5.0",
      "model_name": "HTMLModel",
      "state": {
       "layout": "IPY_MODEL_23116afcf2ad47768e03720b8a68a848",
       "style": "IPY_MODEL_99b9101cb92f4546a5e5435d76f17754",
       "value": "<h1> Forma Geral </h1>"
      }
     },
     "b4b08a6519e249e3832721a724955e6a": {
      "model_module": "@jupyter-widgets/controls",
      "model_module_version": "1.5.0",
      "model_name": "HBoxModel",
      "state": {
       "children": [
        "IPY_MODEL_251935fe239746c7a432adbbb093e3db",
        "IPY_MODEL_ff2fd3ac3f544da1b626c2e391e27100"
       ],
       "layout": "IPY_MODEL_9089cbe2307947ecb48ddd4b3c98638f"
      }
     },
     "b4ff394a606b4a1fa3795fdf0ea83253": {
      "model_module": "@jupyter-widgets/controls",
      "model_module_version": "1.5.0",
      "model_name": "LabelModel",
      "state": {
       "layout": "IPY_MODEL_461163f19b9840b7923bb71edb23e925",
       "style": "IPY_MODEL_648c2ecbe58842308c10db6fabbe6f84",
       "value": "$$ Q_i = 1/(1+x_i/\\mu)^\\Lambda $$"
      }
     },
     "b627c8ef83c543f9b80e789becdcadb1": {
      "model_module": "@jupyter-widgets/base",
      "model_module_version": "1.2.0",
      "model_name": "LayoutModel",
      "state": {
       "overflow": "hidden hidden"
      }
     },
     "b8151f90965544b5b5bdb8c0b816876b": {
      "model_module": "@jupyter-widgets/base",
      "model_module_version": "1.2.0",
      "model_name": "LayoutModel",
      "state": {}
     },
     "b8ec52af32ac4fde953dffa648314497": {
      "model_module": "@jupyter-widgets/base",
      "model_module_version": "1.2.0",
      "model_name": "LayoutModel",
      "state": {
       "height": "60px"
      }
     },
     "b97326293fe94995b35f279b99745f80": {
      "model_module": "@jupyter-widgets/base",
      "model_module_version": "1.2.0",
      "model_name": "LayoutModel",
      "state": {}
     },
     "b9aba7838bc5496b92fa8cd7e0ac84f5": {
      "model_module": "@jupyter-widgets/controls",
      "model_module_version": "1.5.0",
      "model_name": "VBoxModel",
      "state": {
       "children": [
        "IPY_MODEL_1df54a47e3034e6e919195f32d3f3ca9",
        "IPY_MODEL_ec64b986f1974401be7aace850ec499a"
       ],
       "layout": "IPY_MODEL_c7ccc66814c241d289d77d637631afb4"
      }
     },
     "b9ffd23f2055446abe7cfbad3c89f886": {
      "model_module": "@jupyter-widgets/base",
      "model_module_version": "1.2.0",
      "model_name": "LayoutModel",
      "state": {}
     },
     "bb7d13c891414337aadcc45e9037731b": {
      "model_module": "@jupyter-widgets/controls",
      "model_module_version": "1.5.0",
      "model_name": "DescriptionStyleModel",
      "state": {
       "description_width": ""
      }
     },
     "bcd602a348484f7fa6ae0d76ccaca56b": {
      "model_module": "@jupyter-widgets/base",
      "model_module_version": "1.2.0",
      "model_name": "LayoutModel",
      "state": {}
     },
     "bda3a3ecba254c7aa0ca26542a6792d3": {
      "model_module": "@jupyter-widgets/controls",
      "model_module_version": "1.5.0",
      "model_name": "HTMLMathModel",
      "state": {
       "layout": "IPY_MODEL_1e93afd99df64a44ad65e5ed399759a4",
       "style": "IPY_MODEL_73ab3e5d47e74f55b23dd1735ab28f45",
       "value": "\n<h1> Forma Geral </h1>\n$$ \\frac{dw_i(t)}{dt} = -S_iw_i(t) + \\sum_{j=1}^{i-1} b_{i,j}S_jw_i(t)$$\n"
      }
     },
     "bdc753c0db0a44878d89c73b8b977e99": {
      "model_module": "@jupyter-widgets/controls",
      "model_module_version": "1.5.0",
      "model_name": "HTMLModel",
      "state": {
       "layout": "IPY_MODEL_069b3a22c55c45248b1c3e48ce31bf8f",
       "style": "IPY_MODEL_8586b380c98d4a888a08f1ec24bece88",
       "value": "<h2>Moagem</h2>\n<table>\n\n<tr>\n<th> Cominuição </th>\n<th> Moagem </th>\n</tr>\n\n<tr>\n<td>\n\n<ul>\n<li> Uso Internsivo de Energia </li>\n<ul>\n    <li>     3-4 % da energia mundial em 2013 </li>\n</ul>\n<li> Objetivos </li>\n<ul>\n    <li> Manuseio e Transporte </li>\n    <li> Liberação </li>\n    <li> Área de Superfície </li>\n    <li> Processos Subsequentes </li>\n    <li> Especificações de Tamanho </li>\n</ul>\n\n</td>\n<td>\n\n<ul>\n<li> Elevado Investimento Inicial </li>\n<li> Elevado Custo Energético </li>\n<li> Viabilidade Econômica </li>\n<li> Deve ser: </li>\n<ul>\n    <li> Projetado Adequadamente </li>\n    <li> Operar em Condições ideais </li>\n</ul>\n</ul>\n\n</td>\n</tr>\n\n</table>"
      }
     },
     "befba87b1e3a4711a2bd75b16d5fed98": {
      "model_module": "@jupyter-widgets/base",
      "model_module_version": "1.2.0",
      "model_name": "LayoutModel",
      "state": {}
     },
     "c0658b4e4cb24bfda3154a69816ec049": {
      "model_module": "@jupyter-widgets/base",
      "model_module_version": "1.2.0",
      "model_name": "LayoutModel",
      "state": {}
     },
     "c296531c9dd84d45aebd9f2fe133fcc6": {
      "model_module": "@jupyter-widgets/controls",
      "model_module_version": "1.5.0",
      "model_name": "DescriptionStyleModel",
      "state": {
       "description_width": ""
      }
     },
     "c2eb913df8ba444b96e1be8e72eca2d0": {
      "model_module": "@jupyter-widgets/controls",
      "model_module_version": "1.5.0",
      "model_name": "HBoxModel",
      "state": {
       "children": [
        "IPY_MODEL_0a2c0263dab545cdb12c6c1ecb907aaf",
        "IPY_MODEL_337884e4971e47d69e2c83bdc3b1c5f1"
       ],
       "layout": "IPY_MODEL_f5ad8bd6529a438bac77b4bf0c862a0c"
      }
     },
     "c2f443cb6b634c6f8b928eedc96aee69": {
      "model_module": "@jupyter-widgets/controls",
      "model_module_version": "1.5.0",
      "model_name": "FloatSliderModel",
      "state": {
       "description": "$\\Lambda$",
       "layout": "IPY_MODEL_46e3fbcbc62f45048767ed3025d0de51",
       "max": 3.7,
       "step": 0.01,
       "style": "IPY_MODEL_3abf0add7bcb470185910b38eb439b70"
      }
     },
     "c42c898855c64603add6c125110cad0b": {
      "model_module": "@jupyter-widgets/base",
      "model_module_version": "1.2.0",
      "model_name": "LayoutModel",
      "state": {
       "width": "100%"
      }
     },
     "c6e1feabd0494e1a8c2f6adf6356b87d": {
      "model_module": "@jupyter-widgets/base",
      "model_module_version": "1.2.0",
      "model_name": "LayoutModel",
      "state": {
       "overflow": "hidden hidden"
      }
     },
     "c72aeebdd8704f209e07c0453531fea7": {
      "model_module": "@jupyter-widgets/base",
      "model_module_version": "1.2.0",
      "model_name": "LayoutModel",
      "state": {
       "height": "100%",
       "width": "100%"
      }
     },
     "c7ccc66814c241d289d77d637631afb4": {
      "model_module": "@jupyter-widgets/base",
      "model_module_version": "1.2.0",
      "model_name": "LayoutModel",
      "state": {
       "overflow": "hidden hidden"
      }
     },
     "c8c96e9bcd7f48138ccad02c8e748a18": {
      "model_module": "@jupyter-widgets/controls",
      "model_module_version": "1.5.0",
      "model_name": "VBoxModel",
      "state": {
       "children": [
        "IPY_MODEL_5bcd104b3a2b432da799a66ec9ebe077",
        "IPY_MODEL_1830fbe887bd487c904367c5a354ec42"
       ],
       "layout": "IPY_MODEL_8a53105ce0e84739bb114a0ffb359f79"
      }
     },
     "c977eb770bd643fb8f7a6bdc6a5103ee": {
      "model_module": "@jupyter-widgets/controls",
      "model_module_version": "1.5.0",
      "model_name": "DescriptionStyleModel",
      "state": {
       "description_width": ""
      }
     },
     "c9bc504c714b4516b036e0c8a890bc7d": {
      "model_module": "@jupyter-widgets/controls",
      "model_module_version": "1.5.0",
      "model_name": "DescriptionStyleModel",
      "state": {
       "description_width": ""
      }
     },
     "ca5c2df220be46fdb9981b86ed6115f3": {
      "model_module": "bqplot",
      "model_module_version": "^0.5.32",
      "model_name": "LogScaleModel",
      "state": {
       "max": 1,
       "min": 0.01
      }
     },
     "cc647f7fc44049e6bea31fdae5ef7840": {
      "model_module": "bqplot",
      "model_module_version": "^0.5.32",
      "model_name": "LinearScaleModel",
      "state": {
       "allow_padding": false,
       "max": 1,
       "min": 0,
       "stabilized": false
      }
     },
     "cc64a87879834a1aa5d41b6265fb5d33": {
      "model_module": "@jupyter-widgets/controls",
      "model_module_version": "1.5.0",
      "model_name": "VBoxModel",
      "state": {
       "children": [
        "IPY_MODEL_ef161ccc35754bb5adc616c242566149",
        "IPY_MODEL_7c977d2b34924ae59b5e74eeeac149a7"
       ],
       "layout": "IPY_MODEL_54880e4175544c30b6388b8cfb36d103"
      }
     },
     "cc74d8e83afd4e7d8ffa9c99c15a4fe1": {
      "model_module": "@jupyter-widgets/base",
      "model_module_version": "1.2.0",
      "model_name": "LayoutModel",
      "state": {
       "overflow": "hidden hidden"
      }
     },
     "d0a1f68fc46345da9afe850951d30e8a": {
      "model_module": "@jupyter-widgets/controls",
      "model_module_version": "1.5.0",
      "model_name": "VBoxModel",
      "state": {
       "children": [
        "IPY_MODEL_1df54a47e3034e6e919195f32d3f3ca9",
        "IPY_MODEL_ec64b986f1974401be7aace850ec499a"
       ],
       "layout": "IPY_MODEL_4a04592500e9425080ba30be7f42b812"
      }
     },
     "d1585c853bf64c49887f45e5f1abf4b5": {
      "model_module": "@jupyter-widgets/base",
      "model_module_version": "1.2.0",
      "model_name": "LayoutModel",
      "state": {}
     },
     "d1607df9ad0b4f9394bcc6cf2110f919": {
      "model_module": "@jupyter-widgets/controls",
      "model_module_version": "1.5.0",
      "model_name": "HBoxModel",
      "state": {
       "children": [
        "IPY_MODEL_1374d88ad4b945f181456961777161b4",
        "IPY_MODEL_f725fff37836489697ae52efc4f84b4e"
       ],
       "layout": "IPY_MODEL_ee3afde603ca41a0846186852ad27249"
      }
     },
     "d1c38c49c186426fb130fc9bc0486bd4": {
      "model_module": "@jupyter-widgets/controls",
      "model_module_version": "1.5.0",
      "model_name": "DescriptionStyleModel",
      "state": {
       "description_width": ""
      }
     },
     "d1f5328dcd2846f9890ea45f4807f437": {
      "model_module": "@jupyter-widgets/controls",
      "model_module_version": "1.5.0",
      "model_name": "DescriptionStyleModel",
      "state": {
       "description_width": ""
      }
     },
     "d27f1a2b7e1a4927a06ee8974d4ac406": {
      "model_module": "@jupyter-widgets/base",
      "model_module_version": "1.2.0",
      "model_name": "LayoutModel",
      "state": {}
     },
     "d2cc3b7e901c4e409cff6e5439b14572": {
      "model_module": "@jupyter-widgets/controls",
      "model_module_version": "1.5.0",
      "model_name": "DescriptionStyleModel",
      "state": {
       "description_width": "0px"
      }
     },
     "d2ea91b285204b7bbedb9bdd3097073c": {
      "buffers": [
       {
        "data": "AAAAAAAA8D8=",
        "encoding": "base64",
        "path": [
         "opacities",
         "value"
        ]
       },
       {
        "data": "4XoUrkfh8j8zMzMzMzPjPzMzMzMzM9s/MzMzMzMz0z+JQWDl0CLLPzMzMzMzM8M/iUFg5dAiuz+JQWDl0CKrP9v5fmq8dKM//Knx0k1iUD8=",
        "encoding": "base64",
        "path": [
         "x",
         "value"
        ]
       },
       {
        "data": "AAAAAAAAWUBAXcYw8INSQAW8b7THXUNAWMeHLMDCOkC8XukkvsgwQCBIuQtWPSdAcI2s7EITIkCwUAswbnkXQPDI6urrtxNAAAAAAAAAKD0=",
        "encoding": "base64",
        "path": [
         "y",
         "value"
        ]
       }
      ],
      "model_module": "bqplot",
      "model_module_version": "^0.5.32",
      "model_name": "ScatterModel",
      "state": {
       "colors": [
        "cyan"
       ],
       "label_display_horizontal_offset": 0,
       "label_display_vertical_offset": 0,
       "names": null,
       "opacities": {
        "dtype": "float64",
        "shape": [
         1
        ],
        "type": null
       },
       "scales": {
        "x": "IPY_MODEL_9a242733eeba41d594fdb60f7a8e89b6",
        "y": "IPY_MODEL_3cd81ef30aad4cc38354bf5745e8dc28"
       },
       "scales_metadata": {
        "color": {
         "dimension": "color"
        },
        "opacity": {
         "dimension": "opacity"
        },
        "rotation": {
         "dimension": "rotation"
        },
        "size": {
         "dimension": "size"
        },
        "skew": {
         "dimension": "skew"
        },
        "x": {
         "dimension": "x",
         "orientation": "horizontal"
        },
        "y": {
         "dimension": "y",
         "orientation": "vertical"
        }
       },
       "x": {
        "dtype": "float64",
        "shape": [
         10
        ],
        "type": null
       },
       "y": {
        "dtype": "float64",
        "shape": [
         10
        ],
        "type": null
       }
      }
     },
     "d3286dfcd3b84f90b603cf6c5e2f917a": {
      "model_module": "@jupyter-widgets/controls",
      "model_module_version": "1.5.0",
      "model_name": "VBoxModel",
      "state": {
       "children": [
        "IPY_MODEL_5bcd104b3a2b432da799a66ec9ebe077",
        "IPY_MODEL_1830fbe887bd487c904367c5a354ec42"
       ],
       "layout": "IPY_MODEL_044b4ebab6d1421e8c1a63df62062d24"
      }
     },
     "d36672c75b074993863d21fe007b8ca6": {
      "model_module": "@jupyter-widgets/base",
      "model_module_version": "1.2.0",
      "model_name": "LayoutModel",
      "state": {
       "height": "100%",
       "overflow": "hidden hidden"
      }
     },
     "d3bbd3b4716d412a860035dac148d4cc": {
      "model_module": "@jupyter-widgets/base",
      "model_module_version": "1.2.0",
      "model_name": "LayoutModel",
      "state": {
       "overflow": "hidden hidden"
      }
     },
     "d5e9a3918a19442782727ccacb3a2e38": {
      "model_module": "@jupyter-widgets/base",
      "model_module_version": "1.2.0",
      "model_name": "LayoutModel",
      "state": {
       "overflow": "hidden hidden",
       "width": "500px"
      }
     },
     "d63a277cfb054483b435a26d3ba502d3": {
      "model_module": "@jupyter-widgets/controls",
      "model_module_version": "1.5.0",
      "model_name": "VBoxModel",
      "state": {
       "children": [
        "IPY_MODEL_5bcd104b3a2b432da799a66ec9ebe077",
        "IPY_MODEL_1830fbe887bd487c904367c5a354ec42"
       ],
       "layout": "IPY_MODEL_25404cb2c37e4d3f810953d64e7a9c2d"
      }
     },
     "d6c51fbdf50d43788538593ae0219935": {
      "model_module": "bqplot",
      "model_module_version": "^0.5.32",
      "model_name": "LinearScaleModel",
      "state": {
       "max": 1,
       "min": 0,
       "stabilized": false
      }
     },
     "d6ec736fb8254fa1abeef71b30d9beb2": {
      "model_module": "@jupyter-widgets/controls",
      "model_module_version": "1.5.0",
      "model_name": "HTMLMathModel",
      "state": {
       "layout": "IPY_MODEL_f77b97979f4e4147a6736ef207dcd111",
       "style": "IPY_MODEL_0066efe36c4e46838404ae4867293142",
       "value": "\n<h1> Forma Geral </h1>\n$ \frac{dw_i(t)}{dt} $\n"
      }
     },
     "d823b78ff75645e3bda4dba8906951c9": {
      "model_module": "@jupyter-widgets/controls",
      "model_module_version": "1.5.0",
      "model_name": "VBoxModel",
      "state": {
       "children": [
        "IPY_MODEL_5bcd104b3a2b432da799a66ec9ebe077",
        "IPY_MODEL_1830fbe887bd487c904367c5a354ec42"
       ],
       "layout": "IPY_MODEL_d3bbd3b4716d412a860035dac148d4cc"
      }
     },
     "d880bdd474c34cb8b393acf9bb9650e4": {
      "model_module": "@jupyter-widgets/output",
      "model_module_version": "1.0.0",
      "model_name": "OutputModel",
      "state": {
       "layout": "IPY_MODEL_e631d68e10a04675bbd04f552dabb945"
      }
     },
     "d8d109fa30aa4d489f1ab2139fcb38f2": {
      "model_module": "@jupyter-widgets/controls",
      "model_module_version": "1.5.0",
      "model_name": "DescriptionStyleModel",
      "state": {
       "description_width": ""
      }
     },
     "d9ca9ce47c5f4129a43917755390663c": {
      "model_module": "@jupyter-widgets/controls",
      "model_module_version": "1.5.0",
      "model_name": "DescriptionStyleModel",
      "state": {
       "description_width": ""
      }
     },
     "dacca43517654ab682dac3fa9823d513": {
      "model_module": "@jupyter-widgets/controls",
      "model_module_version": "1.5.0",
      "model_name": "VBoxModel",
      "state": {
       "children": [
        "IPY_MODEL_5bcd104b3a2b432da799a66ec9ebe077",
        "IPY_MODEL_1830fbe887bd487c904367c5a354ec42"
       ],
       "layout": "IPY_MODEL_aad50157f9aa474a8ec0faef4083548c"
      }
     },
     "dacf00c1c4c647f8a56d5212447106a1": {
      "model_module": "@jupyter-widgets/base",
      "model_module_version": "1.2.0",
      "model_name": "LayoutModel",
      "state": {}
     },
     "dbd4269af8dc42c79e526d380b8bf608": {
      "model_module": "@jupyter-widgets/controls",
      "model_module_version": "1.5.0",
      "model_name": "FloatSliderModel",
      "state": {
       "description": "$\\alpha$",
       "layout": "IPY_MODEL_7df23cde46b64e06955715839857bac1",
       "max": 1.5,
       "min": 0.5,
       "step": 0.01,
       "style": "IPY_MODEL_7b1e6e50aafc4b1082dea1009ede6c9d",
       "value": 0.88
      }
     },
     "dc648087f3a349d4b7b83520fab2eeae": {
      "model_module": "@jupyter-widgets/output",
      "model_module_version": "1.0.0",
      "model_name": "OutputModel",
      "state": {
       "layout": "IPY_MODEL_d27f1a2b7e1a4927a06ee8974d4ac406"
      }
     },
     "dcb30bdb3d71477788869d66fd3f07d6": {
      "model_module": "@jupyter-widgets/base",
      "model_module_version": "1.2.0",
      "model_name": "LayoutModel",
      "state": {
       "overflow": "hidden hidden"
      }
     },
     "dda820e3f0f841109a7ef188010a364b": {
      "model_module": "@jupyter-widgets/base",
      "model_module_version": "1.2.0",
      "model_name": "LayoutModel",
      "state": {
       "overflow": "hidden hidden"
      }
     },
     "ddfe9672624a4aeb82d1ad5c9cb90132": {
      "model_module": "@jupyter-widgets/base",
      "model_module_version": "1.2.0",
      "model_name": "LayoutModel",
      "state": {
       "height": "450px",
       "overflow": "hidden hidden"
      }
     },
     "de3fe36d66a8429582f43a3cf437350c": {
      "model_module": "@jupyter-widgets/controls",
      "model_module_version": "1.5.0",
      "model_name": "HTMLMathModel",
      "state": {
       "layout": "IPY_MODEL_293d9f359b6840edbd3e0c028511a138",
       "style": "IPY_MODEL_23327a7022b444c3829057713c60ffbf",
       "value": "\n<h2> Forma Geral </h2>\n$$ \\frac{dw_i(t)}{dt} = -S_iw_i(t) + \\sum_{j=1}^{i-1} b_{i,j}S_jw_i(t)$$\n"
      }
     },
     "de53df47a0b64e1db8016ca59589e4f5": {
      "model_module": "@jupyter-widgets/base",
      "model_module_version": "1.2.0",
      "model_name": "LayoutModel",
      "state": {}
     },
     "de91e20ff1834f379ddcd42d8a5efc1c": {
      "model_module": "@jupyter-widgets/controls",
      "model_module_version": "1.5.0",
      "model_name": "VBoxModel",
      "state": {
       "children": [
        "IPY_MODEL_5bcd104b3a2b432da799a66ec9ebe077",
        "IPY_MODEL_1830fbe887bd487c904367c5a354ec42"
       ],
       "layout": "IPY_MODEL_c6e1feabd0494e1a8c2f6adf6356b87d"
      }
     },
     "decf2f96e9d44f7a92c04b2cc8bdb0d6": {
      "model_module": "@jupyter-widgets/base",
      "model_module_version": "1.2.0",
      "model_name": "LayoutModel",
      "state": {
       "height": "100%",
       "width": "100%"
      }
     },
     "df270a6f266845e18b4b28134b899877": {
      "model_module": "bqplot",
      "model_module_version": "^0.5.32",
      "model_name": "AxisModel",
      "state": {
       "label": "Size (mm)",
       "scale": "IPY_MODEL_9a242733eeba41d594fdb60f7a8e89b6",
       "side": "bottom",
       "tick_format": "0.2f",
       "tick_values": null
      }
     },
     "e631d68e10a04675bbd04f552dabb945": {
      "model_module": "@jupyter-widgets/base",
      "model_module_version": "1.2.0",
      "model_name": "LayoutModel",
      "state": {}
     },
     "e656b8b4c0fb4ccda568f7359bf523cc": {
      "model_module": "@jupyter-widgets/base",
      "model_module_version": "1.2.0",
      "model_name": "LayoutModel",
      "state": {}
     },
     "e83c8e26f4814588b9dd0906df03cd51": {
      "model_module": "@jupyter-widgets/base",
      "model_module_version": "1.2.0",
      "model_name": "LayoutModel",
      "state": {}
     },
     "ebf616c347a340078aed3345c6c5cccb": {
      "model_module": "@jupyter-widgets/controls",
      "model_module_version": "1.5.0",
      "model_name": "SliderStyleModel",
      "state": {
       "description_width": "10%"
      }
     },
     "ec028af01da7409f94cb19d94178da06": {
      "model_module": "@jupyter-widgets/controls",
      "model_module_version": "1.5.0",
      "model_name": "VBoxModel",
      "state": {
       "children": [
        "IPY_MODEL_1df54a47e3034e6e919195f32d3f3ca9",
        "IPY_MODEL_ec64b986f1974401be7aace850ec499a"
       ],
       "layout": "IPY_MODEL_ef6f8279fcd347038466c6b9972af4c2"
      }
     },
     "ec64b986f1974401be7aace850ec499a": {
      "model_module": "@jupyter-widgets/controls",
      "model_module_version": "1.5.0",
      "model_name": "VBoxModel",
      "state": {
       "children": [
        "IPY_MODEL_af094056591e44acbf966f23f4f56917",
        "IPY_MODEL_699fc71872264a4fa717b0a1f3e73f49"
       ],
       "layout": "IPY_MODEL_f712d33f0e0f4c2aa9d4edcc866ca6d9"
      }
     },
     "ed26b239554f4b4aa6b9b618d367dd64": {
      "model_module": "@jupyter-widgets/controls",
      "model_module_version": "1.5.0",
      "model_name": "ButtonModel",
      "state": {
       "button_style": "primary",
       "description": "Cinetic Fit",
       "layout": "IPY_MODEL_1acabdc25eea4c6ca64cf185d550b2b2",
       "style": "IPY_MODEL_3227ada64db34de599782fe18bf66ec6",
       "tooltip": "Cinetic Fit Breakage than Selection"
      }
     },
     "ede03c617be544adb362ca8524ebff34": {
      "model_module": "@jupyter-widgets/base",
      "model_module_version": "1.2.0",
      "model_name": "LayoutModel",
      "state": {}
     },
     "edee373879594b7295de481d321bb24e": {
      "model_module": "@jupyter-widgets/controls",
      "model_module_version": "1.5.0",
      "model_name": "FloatSliderModel",
      "state": {
       "description": "$\\beta$",
       "layout": "IPY_MODEL_0492607cbb644ac1afa3320fa8ceb9da",
       "max": 5.8,
       "min": 2.3,
       "step": 0.01,
       "style": "IPY_MODEL_61386b13438e40ecae720896bcc9dc63",
       "value": 4
      }
     },
     "ee3afde603ca41a0846186852ad27249": {
      "model_module": "@jupyter-widgets/base",
      "model_module_version": "1.2.0",
      "model_name": "LayoutModel",
      "state": {
       "height": "100%",
       "overflow": "hidden hidden",
       "width": "900px"
      }
     },
     "ee9a7bf9cf2a4853a6ae724845c80905": {
      "model_module": "@jupyter-widgets/base",
      "model_module_version": "1.2.0",
      "model_name": "LayoutModel",
      "state": {}
     },
     "ef161ccc35754bb5adc616c242566149": {
      "model_module": "@jupyter-widgets/controls",
      "model_module_version": "1.5.0",
      "model_name": "HBoxModel",
      "state": {
       "children": [
        "IPY_MODEL_628624d3b2b6472e806a5c11bb37077b",
        "IPY_MODEL_edee373879594b7295de481d321bb24e"
       ],
       "layout": "IPY_MODEL_8197dbdf37574452b02dab582a62d3eb"
      }
     },
     "ef1d4404bf68498cb06547718624a919": {
      "model_module": "@jupyter-widgets/base",
      "model_module_version": "1.2.0",
      "model_name": "LayoutModel",
      "state": {}
     },
     "ef30b2a83a114987a4374e480eec96d2": {
      "model_module": "@jupyter-widgets/base",
      "model_module_version": "1.2.0",
      "model_name": "LayoutModel",
      "state": {}
     },
     "ef37ef31d7ba4d918949da322feec9d3": {
      "model_module": "bqplot",
      "model_module_version": "^0.5.32",
      "model_name": "LinearScaleModel",
      "state": {
       "allow_padding": false,
       "max": 1,
       "min": 0,
       "stabilized": false
      }
     },
     "ef6f8279fcd347038466c6b9972af4c2": {
      "model_module": "@jupyter-widgets/base",
      "model_module_version": "1.2.0",
      "model_name": "LayoutModel",
      "state": {
       "align_items": "stretch",
       "display": "flex",
       "justify_content": "space-between",
       "overflow": "hidden hidden"
      }
     },
     "eff4ace253e64a7ca4df61f8d552689b": {
      "model_module": "@jupyter-widgets/controls",
      "model_module_version": "1.5.0",
      "model_name": "FloatSliderModel",
      "state": {
       "description": "$\\Phi_1$",
       "layout": "IPY_MODEL_9a357dbea2b2430bb850365299cd12d5",
       "max": 0.75,
       "min": 0.25,
       "step": 0.01,
       "style": "IPY_MODEL_ebf616c347a340078aed3345c6c5cccb",
       "value": 0.6
      }
     },
     "f18d9282231645c78ad9d5a786e2b4b8": {
      "model_module": "@jupyter-widgets/controls",
      "model_module_version": "1.5.0",
      "model_name": "HTMLMathModel",
      "state": {
       "layout": "IPY_MODEL_9f7c9fd15fb04a81a46ef7f855b5d9d4",
       "style": "IPY_MODEL_628c19ba4dd347e8b100438696e02aa3",
       "value": "\n<h1> Forma Geral </h1>\n$\n\frac{dw_i(t)}/{dt}\n$\n"
      }
     },
     "f19d4b42409d4e84a54e33c7723a641a": {
      "model_module": "@jupyter-widgets/controls",
      "model_module_version": "1.5.0",
      "model_name": "HTMLMathModel",
      "state": {
       "layout": "IPY_MODEL_ede03c617be544adb362ca8524ebff34",
       "style": "IPY_MODEL_a2e7ead17f01411e9b0af4edbb9f2bb1",
       "value": "\n<h1> Forma Geral </h1>\n$$ \frac{dw_i(t)}{dt} $$\n"
      }
     },
     "f2627bf2bcd44815afeee34426a1c654": {
      "model_module": "@jupyter-widgets/controls",
      "model_module_version": "1.5.0",
      "model_name": "DescriptionStyleModel",
      "state": {
       "description_width": ""
      }
     },
     "f3de7567aa894e68b8f4aaedc7ae5bbe": {
      "model_module": "@jupyter-widgets/controls",
      "model_module_version": "1.5.0",
      "model_name": "HTMLMathModel",
      "state": {
       "layout": "IPY_MODEL_c0658b4e4cb24bfda3154a69816ec049",
       "style": "IPY_MODEL_136f0f4f894e4bb4b43e2c9a18cff453",
       "value": "$dw_i(t)/dt$"
      }
     },
     "f3f6427d40554561a68d8b911b1a146e": {
      "model_module": "@jupyter-widgets/base",
      "model_module_version": "1.2.0",
      "model_name": "LayoutModel",
      "state": {}
     },
     "f55895e86f15466498cd181b11222484": {
      "model_module": "@jupyter-widgets/controls",
      "model_module_version": "1.5.0",
      "model_name": "DropdownModel",
      "state": {
       "_options_labels": [
        "batch-plug flow",
        "fully mixed grinding",
        "one large two small fully mixed reactors"
       ],
       "description": "Flow Model:",
       "disabled": true,
       "index": 0,
       "layout": "IPY_MODEL_c42c898855c64603add6c125110cad0b",
       "style": "IPY_MODEL_564aa77788ef4a67a26c842bc06e4d8d"
      }
     },
     "f5ad8bd6529a438bac77b4bf0c862a0c": {
      "model_module": "@jupyter-widgets/base",
      "model_module_version": "1.2.0",
      "model_name": "LayoutModel",
      "state": {}
     },
     "f5eb4c14648a49739492f4169143a97c": {
      "model_module": "@jupyter-widgets/base",
      "model_module_version": "1.2.0",
      "model_name": "LayoutModel",
      "state": {
       "height": "60px"
      }
     },
     "f6b0890f06844e5a923be25a3a2eb86d": {
      "model_module": "@jupyter-widgets/controls",
      "model_module_version": "1.5.0",
      "model_name": "HBoxModel",
      "state": {
       "children": [
        "IPY_MODEL_16d1806e0de740cf92d247581c0da748",
        "IPY_MODEL_d63a277cfb054483b435a26d3ba502d3"
       ],
       "layout": "IPY_MODEL_abaf17976561418599a4d76d98d936f2"
      }
     },
     "f6fa7a1c041c41638f4fbb8163ae1b3a": {
      "model_module": "@jupyter-widgets/base",
      "model_module_version": "1.2.0",
      "model_name": "LayoutModel",
      "state": {
       "align_items": "stretch",
       "display": "flex",
       "justify_content": "space-between",
       "overflow": "hidden hidden"
      }
     },
     "f712d33f0e0f4c2aa9d4edcc866ca6d9": {
      "model_module": "@jupyter-widgets/base",
      "model_module_version": "1.2.0",
      "model_name": "LayoutModel",
      "state": {}
     },
     "f725fff37836489697ae52efc4f84b4e": {
      "model_module": "@jupyter-widgets/controls",
      "model_module_version": "1.5.0",
      "model_name": "VBoxModel",
      "state": {
       "children": [
        "IPY_MODEL_5bcd104b3a2b432da799a66ec9ebe077",
        "IPY_MODEL_1830fbe887bd487c904367c5a354ec42"
       ],
       "layout": "IPY_MODEL_cc74d8e83afd4e7d8ffa9c99c15a4fe1"
      }
     },
     "f77b97979f4e4147a6736ef207dcd111": {
      "model_module": "@jupyter-widgets/base",
      "model_module_version": "1.2.0",
      "model_name": "LayoutModel",
      "state": {}
     },
     "f8762295f354477d92c199eda728f0cb": {
      "model_module": "@jupyter-widgets/controls",
      "model_module_version": "1.5.0",
      "model_name": "DescriptionStyleModel",
      "state": {
       "description_width": ""
      }
     },
     "f8adab93a91f4b73926f72b3f15f3e38": {
      "model_module": "@jupyter-widgets/controls",
      "model_module_version": "1.5.0",
      "model_name": "HTMLModel",
      "state": {
       "layout": "IPY_MODEL_23e3abc38db54bdd89e107baead3ab4b",
       "style": "IPY_MODEL_5cc5a1b81a0b43f397bcb9823b2fc153",
       "value": "<h1>Moagem</h1>\n<table>\n<tr>\n<th> <b> Cominuição </b> </th>\n<th> Moagem </th>\n</tr>\n<tr>\n<td>\n\n- Uso Internsivo de Energia <br >\n    - 3-4 % da energia mundial em 2013 <br >\n- Objetivos <br >\n    - Manuseio e Transporte <br >\n    - Liberação <br >\n    - Área de Superfície <br >\n    - Processos Subsequentes <br >\n    - Especificações de Tamanho\n\n</td>\n<td>\n\n- Some Text\n\n</td>\n</tr>\n</table>\n"
      }
     },
     "fa79f4a0ee3741118acc175a151ca6ab": {
      "model_module": "@jupyter-widgets/controls",
      "model_module_version": "1.5.0",
      "model_name": "HBoxModel",
      "state": {
       "children": [
        "IPY_MODEL_251a54731265415e9cce8d284f5316f4",
        "IPY_MODEL_7470e004686948fabc1203652914e58b"
       ],
       "layout": "IPY_MODEL_131bf1058ca14f7bba91de4e248a68d3"
      }
     },
     "fa9a398c14ce4775bf0486c219d03bbf": {
      "model_module": "@jupyter-widgets/base",
      "model_module_version": "1.2.0",
      "model_name": "LayoutModel",
      "state": {}
     },
     "fba4da5dcfc14756a1ab96cea88d5b53": {
      "model_module": "@jupyter-widgets/controls",
      "model_module_version": "1.5.0",
      "model_name": "VBoxModel",
      "state": {
       "children": [
        "IPY_MODEL_5bcd104b3a2b432da799a66ec9ebe077",
        "IPY_MODEL_1830fbe887bd487c904367c5a354ec42"
       ],
       "layout": "IPY_MODEL_fda21b5ab54d4446b023f4e7d6728272"
      }
     },
     "fca9a964eb9f4c38a2e747e6d976300e": {
      "model_module": "@jupyter-widgets/controls",
      "model_module_version": "1.5.0",
      "model_name": "HBoxModel",
      "state": {
       "children": [
        "IPY_MODEL_7883902ef74e4526b52b8d77cc3e00c4",
        "IPY_MODEL_12d2b4de8b7b42dabaa307717164704d"
       ],
       "layout": "IPY_MODEL_7904dd90b2c34a74a8de1f0f7c178cdd"
      }
     },
     "fda21b5ab54d4446b023f4e7d6728272": {
      "model_module": "@jupyter-widgets/base",
      "model_module_version": "1.2.0",
      "model_name": "LayoutModel",
      "state": {
       "overflow": "hidden hidden"
      }
     },
     "fe585b56db794ddb91b24728ea2310cd": {
      "model_module": "@jupyter-widgets/controls",
      "model_module_version": "1.5.0",
      "model_name": "SliderStyleModel",
      "state": {
       "description_width": "10%"
      }
     },
     "ff2fd3ac3f544da1b626c2e391e27100": {
      "model_module": "@jupyter-widgets/controls",
      "model_module_version": "1.5.0",
      "model_name": "VBoxModel",
      "state": {
       "children": [
        "IPY_MODEL_5bcd104b3a2b432da799a66ec9ebe077",
        "IPY_MODEL_1830fbe887bd487c904367c5a354ec42"
       ],
       "layout": "IPY_MODEL_af9d99d291ec4f729b2f5e735a998725"
      }
     }
    },
    "version_major": 2,
    "version_minor": 0
   }
  }
 },
 "nbformat": 4,
 "nbformat_minor": 5
}
