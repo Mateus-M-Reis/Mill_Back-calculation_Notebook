{
 "cells": [
  {
   "cell_type": "markdown",
   "id": "74ecf5a0",
   "metadata": {
    "slideshow": {
     "slide_type": "slide"
    }
   },
   "source": [
    "# Moabilidade à Úmido de um Minério Industrial e Estimação de Seus Parâmetros de Quebra Usando o Modelo do Balanço Populacional\n",
    "<br>\n",
    "<br>\n",
    "<br>\n",
    "\n",
    "### Mateus Marques dos Reis\n",
    "### Orientador: Roberto Galéry"
   ]
  },
  {
   "cell_type": "code",
   "execution_count": 2,
   "id": "4035ec5a-c878-4b21-aa9e-345dd79c96f5",
   "metadata": {
    "slideshow": {
     "slide_type": "slide"
    },
    "tags": []
   },
   "outputs": [
    {
     "data": {
      "application/vnd.jupyter.widget-view+json": {
       "model_id": "b9e237bb24884a6993d0885c4568bad3",
       "version_major": 2,
       "version_minor": 0
      },
      "text/plain": [
       "HBox(children=(VBox(children=(HBox(children=(Button(button_style='success', description='Retrocalc', style=But…"
      ]
     },
     "metadata": {},
     "output_type": "display_data"
    }
   ],
   "source": [
    "#hideme\n",
    "from app import App\n",
    "\n",
    "app = App()\n",
    "app.layout"
   ]
  },
  {
   "cell_type": "markdown",
   "id": "af2eec68",
   "metadata": {
    "slideshow": {
     "slide_type": "slide"
    }
   },
   "source": [
    "# Test\n",
    "\n",
    "### testing"
   ]
  },
  {
   "cell_type": "markdown",
   "id": "651d47a9-2a46-468e-9307-4146ce787f5b",
   "metadata": {},
   "source": [
    "# More tests"
   ]
  },
  {
   "cell_type": "code",
   "execution_count": null,
   "id": "1b1c2a30-4673-4429-86be-56bd3b26c6fa",
   "metadata": {},
   "outputs": [],
   "source": [
    "!conda install -c co"
   ]
  }
 ],
 "metadata": {
  "celltoolbar": "Slideshow",
  "kernelspec": {
   "display_name": "Python 3 (ipykernel)",
   "language": "python",
   "name": "python3"
  },
  "language_info": {
   "codemirror_mode": {
    "name": "ipython",
    "version": 3
   },
   "file_extension": ".py",
   "mimetype": "text/x-python",
   "name": "python",
   "nbconvert_exporter": "python",
   "pygments_lexer": "ipython3",
   "version": "3.7.11"
  },
  "widgets": {
   "application/vnd.jupyter.widget-state+json": {
    "state": {},
    "version_major": 2,
    "version_minor": 0
   }
  }
 },
 "nbformat": 4,
 "nbformat_minor": 5
}
