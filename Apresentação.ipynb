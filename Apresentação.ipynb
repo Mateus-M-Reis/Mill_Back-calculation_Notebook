{
 "cells": [
  {
   "cell_type": "code",
   "execution_count": 39,
   "id": "4035ec5a-c878-4b21-aa9e-345dd79c96f5",
   "metadata": {
    "slideshow": {
     "slide_type": "skip"
    },
    "tags": []
   },
   "outputs": [],
   "source": [
    "from IPython.core.display import display\n",
    "from ipywidgets import VBox, HBox, Layout, HTML, HTMLMath\n",
    "\n",
    "from app.figures import s_fig, q_fig\n",
    "from app.widgets import S_Panel, Q_Panel\n",
    "from app.layout import panel"
   ]
  },
  {
   "cell_type": "markdown",
   "id": "74ecf5a0",
   "metadata": {
    "slideshow": {
     "slide_type": "slide"
    }
   },
   "source": [
    "# Moabilidade à Úmido de um Minério Industrial e Estimação de Seus Parâmetros de Quebra Usando o Modelo do Balanço Populacional\n",
    "<br>\n",
    "<br>\n",
    "<br>\n",
    "\n",
    "### Mateus Marques dos Reis\n",
    "### Orientador: Roberto Galéry"
   ]
  },
  {
   "cell_type": "markdown",
   "id": "db379d88-1105-4338-8829-6b6422a6239e",
   "metadata": {
    "slideshow": {
     "slide_type": "slide"
    },
    "tags": []
   },
   "source": [
    "# Introdução\n",
    "\n",
    "- Moagem\n",
    "- Modelos Matemáticos \n",
    "- Técnicas de Determinação"
   ]
  },
  {
   "cell_type": "markdown",
   "id": "9ef7500b-2846-4651-bbef-efa67b317811",
   "metadata": {
    "slideshow": {
     "slide_type": "subslide"
    },
    "tags": []
   },
   "source": [
    "## Moagem"
   ]
  },
  {
   "cell_type": "code",
   "execution_count": 40,
   "id": "c7254740-b3af-484a-a9ab-40bc91422989",
   "metadata": {
    "jupyter": {
     "source_hidden": true
    },
    "slideshow": {
     "slide_type": "fragment"
    },
    "tags": []
   },
   "outputs": [
    {
     "data": {
      "application/vnd.jupyter.widget-view+json": {
       "model_id": "81ea96a57e994628aa6519531afe265f",
       "version_major": 2,
       "version_minor": 0
      },
      "text/plain": [
       "HTML(value='\\n<table>\\n\\n<tr>\\n<th> Cominuição </th>\\n<th> Moagem </th>\\n</tr>\\n\\n<tr>\\n<td>\\n\\n<ul>\\n<li> Uso…"
      ]
     },
     "metadata": {},
     "output_type": "display_data"
    }
   ],
   "source": [
    "HTML('''\n",
    "<table>\n",
    "\n",
    "<tr>\n",
    "<th> Cominuição </th>\n",
    "<th> Moagem </th>\n",
    "</tr>\n",
    "\n",
    "<tr>\n",
    "<td>\n",
    "\n",
    "<ul>\n",
    "<li> Uso Internsivo de Energia </li>\n",
    "<ul>\n",
    "    <li>     3-4 % da energia mundial em 2013 </li>\n",
    "</ul>\n",
    "<li> Objetivos </li>\n",
    "<ul>\n",
    "    <li> Manuseio e Transporte </li>\n",
    "    <li> Liberação </li>\n",
    "    <li> Área de Superfície </li>\n",
    "    <li> Processos Subsequentes </li>\n",
    "    <li> Especificações de Tamanho </li>\n",
    "</ul>\n",
    "\n",
    "</td>\n",
    "<td>\n",
    "\n",
    "<ul>\n",
    "<li> Elevado Investimento Inicial </li>\n",
    "<li> Elevado Custo Energético </li>\n",
    "<li> Viabilidade Econômica </li>\n",
    "<li> Deve ser: </li>\n",
    "<ul>\n",
    "    <li> Projetado Adequadamente </li>\n",
    "    <li> Operar em Condições ideais </li>\n",
    "</ul>\n",
    "</ul>\n",
    "\n",
    "</td>\n",
    "</tr>\n",
    "\n",
    "</table>''')"
   ]
  },
  {
   "cell_type": "markdown",
   "id": "93477888-94da-4b7b-a713-e6513ecb0e68",
   "metadata": {
    "slideshow": {
     "slide_type": "slide"
    },
    "tags": []
   },
   "source": [
    "# Revisão Bibliográfica"
   ]
  },
  {
   "cell_type": "code",
   "execution_count": 66,
   "id": "45aaa973-c27d-47fd-8461-57961dccec1e",
   "metadata": {
    "jupyter": {
     "source_hidden": true
    },
    "slideshow": {
     "slide_type": "fragment"
    },
    "tags": []
   },
   "outputs": [
    {
     "data": {
      "application/vnd.jupyter.widget-view+json": {
       "model_id": "2daefff7516b4aa1b5e98758e6745509",
       "version_major": 2,
       "version_minor": 0
      },
      "text/plain": [
       "HTMLMath(value='\\n<h4> Forma Geral </h4>\\n$$ \\\\frac{dw_i(t)}{dt} = -S_iw_i(t) + \\\\sum_{j=1}^{i-1} b_{i,j}S_jw_…"
      ]
     },
     "metadata": {},
     "output_type": "display_data"
    }
   ],
   "source": [
    "HTMLMath('''\n",
    "<h4> Forma Geral </h4>\n",
    "$$ \\\\frac{dw_i(t)}{dt} = -S_iw_i(t) + \\sum_{j=1}^{i-1} b_{i,j}S_jw_i(t)$$\n",
    "''')"
   ]
  },
  {
   "cell_type": "code",
   "execution_count": 65,
   "id": "6239ea76-d90e-4775-887c-07b7ee81f098",
   "metadata": {
    "slideshow": {
     "slide_type": "fragment"
    },
    "tags": []
   },
   "outputs": [
    {
     "data": {
      "application/vnd.jupyter.widget-view+json": {
       "model_id": "4d681e55d47c4af29af202afdbe5740a",
       "version_major": 2,
       "version_minor": 0
      },
      "text/plain": [
       "HBox(children=(VBox(children=(Figure(animation_duration=1000, axes=[Axis(label='Size (mm)', scale=LogScale(max…"
      ]
     },
     "metadata": {},
     "output_type": "display_data"
    }
   ],
   "source": [
    "display(\n",
    "    HBox([ \n",
    "        VBox( [ s_fig, S_Panel ], layout=Layout(height='100%', overflow='hidden hidden') ),  \n",
    "        VBox( [ q_fig, Q_Panel ], layout=Layout(height='100%', overflow='hidden hidden') ), \n",
    "    ],\n",
    "    layout = Layout(width='900px', height='100%', overflow='hidden hidden')\n",
    "    ),\n",
    ")"
   ]
  }
 ],
 "metadata": {
  "celltoolbar": "Slideshow",
  "kernelspec": {
   "display_name": "Python 3 (ipykernel)",
   "language": "python",
   "name": "python3"
  },
  "language_info": {
   "codemirror_mode": {
    "name": "ipython",
    "version": 3
   },
   "file_extension": ".py",
   "mimetype": "text/x-python",
   "name": "python",
   "nbconvert_exporter": "python",
   "pygments_lexer": "ipython3",
   "version": "3.7.10"
  },
  "widgets": {
   "application/vnd.jupyter.widget-state+json": {
    "state": {},
    "version_major": 2,
    "version_minor": 0
   }
  }
 },
 "nbformat": 4,
 "nbformat_minor": 5
}
