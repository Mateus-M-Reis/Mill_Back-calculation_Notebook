{
 "cells": [
  {
   "cell_type": "code",
   "execution_count": 7,
   "id": "4035ec5a-c878-4b21-aa9e-345dd79c96f5",
   "metadata": {
    "slideshow": {
     "slide_type": "skip"
    },
    "tags": []
   },
   "outputs": [],
   "source": [
    "from IPython.core.display import display\n",
    "from ipywidgets import VBox, HBox, Layout\n",
    "\n",
    "from app.figures import s_fig, q_fig\n",
    "from app.widgets import S_Panel, Q_Panel"
   ]
  },
  {
   "cell_type": "markdown",
   "id": "74ecf5a0",
   "metadata": {
    "slideshow": {
     "slide_type": "slide"
    }
   },
   "source": [
    "# Moabilidade à Úmido de um Minério Industrial e Estimação de Seus Parâmetros de Quebra Usando o Modelo do Balanço Populacional\n",
    "<br>\n",
    "<br>\n",
    "<br>\n",
    "\n",
    "### Mateus Marques dos Reis\n",
    "### Orientador: Roberto Galéry"
   ]
  },
  {
   "cell_type": "markdown",
   "id": "6e006909-485a-4a70-9dd6-d79bad512391",
   "metadata": {
    "slideshow": {
     "slide_type": "slide"
    },
    "tags": []
   },
   "source": [
    "# Introdução"
   ]
  },
  {
   "cell_type": "markdown",
   "id": "f276c70c-6407-495f-a8d2-2a1ab6386c59",
   "metadata": {
    "slideshow": {
     "slide_type": "fragment"
    },
    "tags": []
   },
   "source": [
    "#### test"
   ]
  },
  {
   "cell_type": "markdown",
   "id": "af2eec68",
   "metadata": {
    "slideshow": {
     "slide_type": "slide"
    }
   },
   "source": [
    "# Função Seleção"
   ]
  },
  {
   "cell_type": "code",
   "execution_count": 13,
   "id": "6239ea76-d90e-4775-887c-07b7ee81f098",
   "metadata": {
    "slideshow": {
     "slide_type": "fragment"
    },
    "tags": []
   },
   "outputs": [
    {
     "data": {
      "application/vnd.jupyter.widget-view+json": {
       "model_id": "10cda115e3264cce849cfc7aa08c01c3",
       "version_major": 2,
       "version_minor": 0
      },
      "text/plain": [
       "VBox(children=(Figure(animation_duration=1000, axes=[Axis(label='Size (mm)', scale=LogScale(max=6.0, min=0.25)…"
      ]
     },
     "metadata": {},
     "output_type": "display_data"
    }
   ],
   "source": [
    "display(\n",
    "    VBox(\n",
    "        [ s_fig, S_Panel ],\n",
    "        layout=Layout(\n",
    "            height='550px',\n",
    "            overflow='hidden hidden',\n",
    "        )), \n",
    ")"
   ]
  },
  {
   "cell_type": "markdown",
   "id": "651d47a9-2a46-468e-9307-4146ce787f5b",
   "metadata": {
    "slideshow": {
     "slide_type": "slide"
    },
    "tags": []
   },
   "source": [
    "# Função Quebra"
   ]
  }
 ],
 "metadata": {
  "celltoolbar": "Slideshow",
  "kernelspec": {
   "display_name": "Python 3 (ipykernel)",
   "language": "python",
   "name": "python3"
  },
  "language_info": {
   "codemirror_mode": {
    "name": "ipython",
    "version": 3
   },
   "file_extension": ".py",
   "mimetype": "text/x-python",
   "name": "python",
   "nbconvert_exporter": "python",
   "pygments_lexer": "ipython3",
   "version": "3.7.10"
  },
  "widgets": {
   "application/vnd.jupyter.widget-state+json": {
    "state": {},
    "version_major": 2,
    "version_minor": 0
   }
  }
 },
 "nbformat": 4,
 "nbformat_minor": 5
}
